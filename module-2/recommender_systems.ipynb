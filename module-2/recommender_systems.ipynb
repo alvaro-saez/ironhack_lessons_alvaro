{
 "cells": [
  {
   "cell_type": "markdown",
   "id": "203c9413",
   "metadata": {},
   "source": [
    "# Recommender Systems\n",
    "\n",
    "![Image](./img/goal_recommender_systems.jpg)"
   ]
  },
  {
   "cell_type": "markdown",
   "id": "cd55ea42",
   "metadata": {},
   "source": [
    "# Data  and methods\n",
    "\n",
    "- __Explicit Feedback:__ direct and quantitative data collected from users.\n",
    "\n",
    "- __Implicit Feedback:__ data collected indirectly from user interactions, and they act as a proxy for user preference."
   ]
  },
  {
   "cell_type": "markdown",
   "id": "f138a106",
   "metadata": {},
   "source": [
    "![Image](./img/recommender_systems_methods.png)"
   ]
  },
  {
   "cell_type": "markdown",
   "id": "3b5b1bf4",
   "metadata": {},
   "source": [
    "---"
   ]
  },
  {
   "cell_type": "markdown",
   "id": "20c90818",
   "metadata": {},
   "source": [
    "## Collaborative filtering methods\n",
    "\n",
    "- Based on past user-item iteractions.\n",
    "\n",
    "- Detect similar users or similar items.\n",
    "\n",
    "- Memory based (nearest neighbours) and Model based (underlying generative model).\n",
    "\n",
    "- Require no info about the users or items.\n",
    "\n",
    "- More interactions => More accuracy."
   ]
  },
  {
   "cell_type": "code",
   "execution_count": 2,
   "id": "56e74628",
   "metadata": {},
   "outputs": [
    {
     "data": {
      "text/html": [
       "        <script type=\"text/javascript\">\n",
       "        window.PlotlyConfig = {MathJaxConfig: 'local'};\n",
       "        if (window.MathJax) {MathJax.Hub.Config({SVG: {font: \"STIX-Web\"}});}\n",
       "        if (typeof require !== 'undefined') {\n",
       "        require.undef(\"plotly\");\n",
       "        requirejs.config({\n",
       "            paths: {\n",
       "                'plotly': ['https://cdn.plot.ly/plotly-2.8.3.min']\n",
       "            }\n",
       "        });\n",
       "        require(['plotly'], function(Plotly) {\n",
       "            window._Plotly = Plotly;\n",
       "        });\n",
       "        }\n",
       "        </script>\n",
       "        "
      ]
     },
     "metadata": {},
     "output_type": "display_data"
    }
   ],
   "source": [
    "# imports\n",
    "\n",
    "import numpy as np\n",
    "import pandas as pd\n",
    "import matplotlib.pyplot as plt\n",
    "import cufflinks as cf\n",
    "cf.go_offline()\n",
    "\n",
    "# Scipy\n",
    "from scipy.spatial.distance import pdist, squareform   # conda install -c anaconda scipy"
   ]
  },
  {
   "cell_type": "markdown",
   "id": "d0e53927",
   "metadata": {},
   "source": [
    "[SciPy](https://scipy.github.io/devdocs/reference/index.html) contains modules for optimization, linear algebra, integration, interpolation, special functions, FFT, signal and image processing, ODE solvers and other tasks common in science and engineering."
   ]
  },
  {
   "cell_type": "markdown",
   "id": "48da7412",
   "metadata": {},
   "source": [
    "### Dataset EDA"
   ]
  },
  {
   "cell_type": "code",
   "execution_count": 3,
   "id": "d84e3d1d",
   "metadata": {},
   "outputs": [
    {
     "data": {
      "text/html": [
       "<div>\n",
       "<style scoped>\n",
       "    .dataframe tbody tr th:only-of-type {\n",
       "        vertical-align: middle;\n",
       "    }\n",
       "\n",
       "    .dataframe tbody tr th {\n",
       "        vertical-align: top;\n",
       "    }\n",
       "\n",
       "    .dataframe thead th {\n",
       "        text-align: right;\n",
       "    }\n",
       "</style>\n",
       "<table border=\"1\" class=\"dataframe\">\n",
       "  <thead>\n",
       "    <tr style=\"text-align: right;\">\n",
       "      <th></th>\n",
       "      <th>Brandon</th>\n",
       "      <th>Emily</th>\n",
       "      <th>Cleo</th>\n",
       "      <th>Rusty</th>\n",
       "      <th>Samantha</th>\n",
       "    </tr>\n",
       "    <tr>\n",
       "      <th>Movie</th>\n",
       "      <th></th>\n",
       "      <th></th>\n",
       "      <th></th>\n",
       "      <th></th>\n",
       "      <th></th>\n",
       "    </tr>\n",
       "  </thead>\n",
       "  <tbody>\n",
       "    <tr>\n",
       "      <th>Aquaman</th>\n",
       "      <td>4</td>\n",
       "      <td>1</td>\n",
       "      <td>2</td>\n",
       "      <td>2</td>\n",
       "      <td>2</td>\n",
       "    </tr>\n",
       "    <tr>\n",
       "      <th>Avengers: Infinity War</th>\n",
       "      <td>2</td>\n",
       "      <td>5</td>\n",
       "      <td>2</td>\n",
       "      <td>5</td>\n",
       "      <td>5</td>\n",
       "    </tr>\n",
       "    <tr>\n",
       "      <th>Black Panther</th>\n",
       "      <td>5</td>\n",
       "      <td>2</td>\n",
       "      <td>5</td>\n",
       "      <td>1</td>\n",
       "      <td>1</td>\n",
       "    </tr>\n",
       "    <tr>\n",
       "      <th>Bohemian Rhapsody</th>\n",
       "      <td>2</td>\n",
       "      <td>3</td>\n",
       "      <td>4</td>\n",
       "      <td>4</td>\n",
       "      <td>1</td>\n",
       "    </tr>\n",
       "    <tr>\n",
       "      <th>Deadpool 2</th>\n",
       "      <td>3</td>\n",
       "      <td>2</td>\n",
       "      <td>4</td>\n",
       "      <td>5</td>\n",
       "      <td>1</td>\n",
       "    </tr>\n",
       "    <tr>\n",
       "      <th>Fantastic Beasts: The Crimes of Grindelwald</th>\n",
       "      <td>5</td>\n",
       "      <td>4</td>\n",
       "      <td>1</td>\n",
       "      <td>2</td>\n",
       "      <td>5</td>\n",
       "    </tr>\n",
       "    <tr>\n",
       "      <th>Incredibles 2</th>\n",
       "      <td>4</td>\n",
       "      <td>2</td>\n",
       "      <td>3</td>\n",
       "      <td>4</td>\n",
       "      <td>4</td>\n",
       "    </tr>\n",
       "    <tr>\n",
       "      <th>Jurassic World: Fallen Kingdom</th>\n",
       "      <td>2</td>\n",
       "      <td>3</td>\n",
       "      <td>5</td>\n",
       "      <td>4</td>\n",
       "      <td>5</td>\n",
       "    </tr>\n",
       "    <tr>\n",
       "      <th>Mission: Impossible – Fallout</th>\n",
       "      <td>5</td>\n",
       "      <td>5</td>\n",
       "      <td>4</td>\n",
       "      <td>3</td>\n",
       "      <td>2</td>\n",
       "    </tr>\n",
       "    <tr>\n",
       "      <th>Venom</th>\n",
       "      <td>4</td>\n",
       "      <td>1</td>\n",
       "      <td>4</td>\n",
       "      <td>5</td>\n",
       "      <td>2</td>\n",
       "    </tr>\n",
       "  </tbody>\n",
       "</table>\n",
       "</div>"
      ],
      "text/plain": [
       "                                             Brandon  Emily  Cleo  Rusty  \\\n",
       "Movie                                                                      \n",
       "Aquaman                                            4      1     2      2   \n",
       "Avengers: Infinity War                             2      5     2      5   \n",
       "Black Panther                                      5      2     5      1   \n",
       "Bohemian Rhapsody                                  2      3     4      4   \n",
       "Deadpool 2                                         3      2     4      5   \n",
       "Fantastic Beasts: The Crimes of Grindelwald        5      4     1      2   \n",
       "Incredibles 2                                      4      2     3      4   \n",
       "Jurassic World: Fallen Kingdom                     2      3     5      4   \n",
       "Mission: Impossible – Fallout                      5      5     4      3   \n",
       "Venom                                              4      1     4      5   \n",
       "\n",
       "                                             Samantha  \n",
       "Movie                                                  \n",
       "Aquaman                                             2  \n",
       "Avengers: Infinity War                              5  \n",
       "Black Panther                                       1  \n",
       "Bohemian Rhapsody                                   1  \n",
       "Deadpool 2                                          1  \n",
       "Fantastic Beasts: The Crimes of Grindelwald         5  \n",
       "Incredibles 2                                       4  \n",
       "Jurassic World: Fallen Kingdom                      5  \n",
       "Mission: Impossible – Fallout                       2  \n",
       "Venom                                               2  "
      ]
     },
     "execution_count": 3,
     "metadata": {},
     "output_type": "execute_result"
    }
   ],
   "source": [
    "movie_ratings = pd.read_csv('./datasets/movie_ratings.csv').set_index('Movie')\n",
    "movie_ratings"
   ]
  },
  {
   "cell_type": "code",
   "execution_count": 4,
   "id": "5021c0bf",
   "metadata": {},
   "outputs": [
    {
     "data": {
      "text/html": [
       "<div>\n",
       "<style scoped>\n",
       "    .dataframe tbody tr th:only-of-type {\n",
       "        vertical-align: middle;\n",
       "    }\n",
       "\n",
       "    .dataframe tbody tr th {\n",
       "        vertical-align: top;\n",
       "    }\n",
       "\n",
       "    .dataframe thead th {\n",
       "        text-align: right;\n",
       "    }\n",
       "</style>\n",
       "<table border=\"1\" class=\"dataframe\">\n",
       "  <thead>\n",
       "    <tr style=\"text-align: right;\">\n",
       "      <th>Movie</th>\n",
       "      <th>Aquaman</th>\n",
       "      <th>Avengers: Infinity War</th>\n",
       "      <th>Black Panther</th>\n",
       "      <th>Bohemian Rhapsody</th>\n",
       "      <th>Deadpool 2</th>\n",
       "      <th>Fantastic Beasts: The Crimes of Grindelwald</th>\n",
       "      <th>Incredibles 2</th>\n",
       "      <th>Jurassic World: Fallen Kingdom</th>\n",
       "      <th>Mission: Impossible – Fallout</th>\n",
       "      <th>Venom</th>\n",
       "    </tr>\n",
       "  </thead>\n",
       "  <tbody>\n",
       "    <tr>\n",
       "      <th>Brandon</th>\n",
       "      <td>4</td>\n",
       "      <td>2</td>\n",
       "      <td>5</td>\n",
       "      <td>2</td>\n",
       "      <td>3</td>\n",
       "      <td>5</td>\n",
       "      <td>4</td>\n",
       "      <td>2</td>\n",
       "      <td>5</td>\n",
       "      <td>4</td>\n",
       "    </tr>\n",
       "    <tr>\n",
       "      <th>Emily</th>\n",
       "      <td>1</td>\n",
       "      <td>5</td>\n",
       "      <td>2</td>\n",
       "      <td>3</td>\n",
       "      <td>2</td>\n",
       "      <td>4</td>\n",
       "      <td>2</td>\n",
       "      <td>3</td>\n",
       "      <td>5</td>\n",
       "      <td>1</td>\n",
       "    </tr>\n",
       "    <tr>\n",
       "      <th>Cleo</th>\n",
       "      <td>2</td>\n",
       "      <td>2</td>\n",
       "      <td>5</td>\n",
       "      <td>4</td>\n",
       "      <td>4</td>\n",
       "      <td>1</td>\n",
       "      <td>3</td>\n",
       "      <td>5</td>\n",
       "      <td>4</td>\n",
       "      <td>4</td>\n",
       "    </tr>\n",
       "    <tr>\n",
       "      <th>Rusty</th>\n",
       "      <td>2</td>\n",
       "      <td>5</td>\n",
       "      <td>1</td>\n",
       "      <td>4</td>\n",
       "      <td>5</td>\n",
       "      <td>2</td>\n",
       "      <td>4</td>\n",
       "      <td>4</td>\n",
       "      <td>3</td>\n",
       "      <td>5</td>\n",
       "    </tr>\n",
       "    <tr>\n",
       "      <th>Samantha</th>\n",
       "      <td>2</td>\n",
       "      <td>5</td>\n",
       "      <td>1</td>\n",
       "      <td>1</td>\n",
       "      <td>1</td>\n",
       "      <td>5</td>\n",
       "      <td>4</td>\n",
       "      <td>5</td>\n",
       "      <td>2</td>\n",
       "      <td>2</td>\n",
       "    </tr>\n",
       "  </tbody>\n",
       "</table>\n",
       "</div>"
      ],
      "text/plain": [
       "Movie     Aquaman  Avengers: Infinity War  Black Panther  Bohemian Rhapsody  \\\n",
       "Brandon         4                       2              5                  2   \n",
       "Emily           1                       5              2                  3   \n",
       "Cleo            2                       2              5                  4   \n",
       "Rusty           2                       5              1                  4   \n",
       "Samantha        2                       5              1                  1   \n",
       "\n",
       "Movie     Deadpool 2  Fantastic Beasts: The Crimes of Grindelwald  \\\n",
       "Brandon            3                                            5   \n",
       "Emily              2                                            4   \n",
       "Cleo               4                                            1   \n",
       "Rusty              5                                            2   \n",
       "Samantha           1                                            5   \n",
       "\n",
       "Movie     Incredibles 2  Jurassic World: Fallen Kingdom  \\\n",
       "Brandon               4                               2   \n",
       "Emily                 2                               3   \n",
       "Cleo                  3                               5   \n",
       "Rusty                 4                               4   \n",
       "Samantha              4                               5   \n",
       "\n",
       "Movie     Mission: Impossible – Fallout  Venom  \n",
       "Brandon                               5      4  \n",
       "Emily                                 5      1  \n",
       "Cleo                                  4      4  \n",
       "Rusty                                 3      5  \n",
       "Samantha                              2      2  "
      ]
     },
     "execution_count": 4,
     "metadata": {},
     "output_type": "execute_result"
    }
   ],
   "source": [
    "users_ratings = movie_ratings.T\n",
    "users_ratings"
   ]
  },
  {
   "cell_type": "code",
   "execution_count": 5,
   "id": "e0a01183",
   "metadata": {},
   "outputs": [
    {
     "data": {
      "application/vnd.plotly.v1+json": {
       "config": {
        "linkText": "Export to plot.ly",
        "plotlyServerURL": "https://plot.ly",
        "showLink": true
       },
       "data": [
        {
         "fill": "tozeroy",
         "fillcolor": "rgba(255, 153, 51, 0.3)",
         "line": {
          "color": "rgba(255, 153, 51, 1.0)",
          "dash": "solid",
          "shape": "linear",
          "width": 10
         },
         "mode": "lines",
         "name": "Aquaman",
         "text": "",
         "type": "scatter",
         "x": [
          "Brandon",
          "Emily",
          "Cleo",
          "Rusty",
          "Samantha"
         ],
         "xaxis": "x",
         "y": [
          4,
          1,
          2,
          2,
          2
         ],
         "yaxis": "y"
        },
        {
         "fill": "tozeroy",
         "fillcolor": "rgba(55, 128, 191, 0.3)",
         "line": {
          "color": "rgba(55, 128, 191, 1.0)",
          "dash": "solid",
          "shape": "linear",
          "width": 10
         },
         "mode": "lines",
         "name": "Avengers: Infinity War",
         "text": "",
         "type": "scatter",
         "x": [
          "Brandon",
          "Emily",
          "Cleo",
          "Rusty",
          "Samantha"
         ],
         "xaxis": "x2",
         "y": [
          2,
          5,
          2,
          5,
          5
         ],
         "yaxis": "y2"
        },
        {
         "fill": "tozeroy",
         "fillcolor": "rgba(50, 171, 96, 0.3)",
         "line": {
          "color": "rgba(50, 171, 96, 1.0)",
          "dash": "solid",
          "shape": "linear",
          "width": 10
         },
         "mode": "lines",
         "name": "Black Panther",
         "text": "",
         "type": "scatter",
         "x": [
          "Brandon",
          "Emily",
          "Cleo",
          "Rusty",
          "Samantha"
         ],
         "xaxis": "x3",
         "y": [
          5,
          2,
          5,
          1,
          1
         ],
         "yaxis": "y3"
        },
        {
         "fill": "tozeroy",
         "fillcolor": "rgba(128, 0, 128, 0.3)",
         "line": {
          "color": "rgba(128, 0, 128, 1.0)",
          "dash": "solid",
          "shape": "linear",
          "width": 10
         },
         "mode": "lines",
         "name": "Bohemian Rhapsody",
         "text": "",
         "type": "scatter",
         "x": [
          "Brandon",
          "Emily",
          "Cleo",
          "Rusty",
          "Samantha"
         ],
         "xaxis": "x4",
         "y": [
          2,
          3,
          4,
          4,
          1
         ],
         "yaxis": "y4"
        },
        {
         "fill": "tozeroy",
         "fillcolor": "rgba(219, 64, 82, 0.3)",
         "line": {
          "color": "rgba(219, 64, 82, 1.0)",
          "dash": "solid",
          "shape": "linear",
          "width": 10
         },
         "mode": "lines",
         "name": "Deadpool 2",
         "text": "",
         "type": "scatter",
         "x": [
          "Brandon",
          "Emily",
          "Cleo",
          "Rusty",
          "Samantha"
         ],
         "xaxis": "x5",
         "y": [
          3,
          2,
          4,
          5,
          1
         ],
         "yaxis": "y5"
        },
        {
         "fill": "tozeroy",
         "fillcolor": "rgba(0, 128, 128, 0.3)",
         "line": {
          "color": "rgba(0, 128, 128, 1.0)",
          "dash": "solid",
          "shape": "linear",
          "width": 10
         },
         "mode": "lines",
         "name": "Fantastic Beasts: The Crimes of Grindelwald",
         "text": "",
         "type": "scatter",
         "x": [
          "Brandon",
          "Emily",
          "Cleo",
          "Rusty",
          "Samantha"
         ],
         "xaxis": "x6",
         "y": [
          5,
          4,
          1,
          2,
          5
         ],
         "yaxis": "y6"
        },
        {
         "fill": "tozeroy",
         "fillcolor": "rgba(255, 255, 51, 0.3)",
         "line": {
          "color": "rgba(255, 255, 51, 1.0)",
          "dash": "solid",
          "shape": "linear",
          "width": 10
         },
         "mode": "lines",
         "name": "Incredibles 2",
         "text": "",
         "type": "scatter",
         "x": [
          "Brandon",
          "Emily",
          "Cleo",
          "Rusty",
          "Samantha"
         ],
         "xaxis": "x7",
         "y": [
          4,
          2,
          3,
          4,
          4
         ],
         "yaxis": "y7"
        },
        {
         "fill": "tozeroy",
         "fillcolor": "rgba(128, 128, 0, 0.3)",
         "line": {
          "color": "rgba(128, 128, 0, 1.0)",
          "dash": "solid",
          "shape": "linear",
          "width": 10
         },
         "mode": "lines",
         "name": "Jurassic World: Fallen Kingdom",
         "text": "",
         "type": "scatter",
         "x": [
          "Brandon",
          "Emily",
          "Cleo",
          "Rusty",
          "Samantha"
         ],
         "xaxis": "x8",
         "y": [
          2,
          3,
          5,
          4,
          5
         ],
         "yaxis": "y8"
        },
        {
         "fill": "tozeroy",
         "fillcolor": "rgba(251, 128, 114, 0.3)",
         "line": {
          "color": "rgba(251, 128, 114, 1.0)",
          "dash": "solid",
          "shape": "linear",
          "width": 10
         },
         "mode": "lines",
         "name": "Mission: Impossible – Fallout",
         "text": "",
         "type": "scatter",
         "x": [
          "Brandon",
          "Emily",
          "Cleo",
          "Rusty",
          "Samantha"
         ],
         "xaxis": "x9",
         "y": [
          5,
          5,
          4,
          3,
          2
         ],
         "yaxis": "y9"
        },
        {
         "fill": "tozeroy",
         "fillcolor": "rgba(128, 177, 211, 0.3)",
         "line": {
          "color": "rgba(128, 177, 211, 1.0)",
          "dash": "solid",
          "shape": "linear",
          "width": 10
         },
         "mode": "lines",
         "name": "Venom",
         "text": "",
         "type": "scatter",
         "x": [
          "Brandon",
          "Emily",
          "Cleo",
          "Rusty",
          "Samantha"
         ],
         "xaxis": "x10",
         "y": [
          4,
          1,
          4,
          5,
          2
         ],
         "yaxis": "y10"
        }
       ],
       "layout": {
        "legend": {
         "bgcolor": "#F5F6F9",
         "font": {
          "color": "#4D5663"
         }
        },
        "paper_bgcolor": "#F5F6F9",
        "plot_bgcolor": "#F5F6F9",
        "template": {
         "data": {
          "bar": [
           {
            "error_x": {
             "color": "#2a3f5f"
            },
            "error_y": {
             "color": "#2a3f5f"
            },
            "marker": {
             "line": {
              "color": "#E5ECF6",
              "width": 0.5
             },
             "pattern": {
              "fillmode": "overlay",
              "size": 10,
              "solidity": 0.2
             }
            },
            "type": "bar"
           }
          ],
          "barpolar": [
           {
            "marker": {
             "line": {
              "color": "#E5ECF6",
              "width": 0.5
             },
             "pattern": {
              "fillmode": "overlay",
              "size": 10,
              "solidity": 0.2
             }
            },
            "type": "barpolar"
           }
          ],
          "carpet": [
           {
            "aaxis": {
             "endlinecolor": "#2a3f5f",
             "gridcolor": "white",
             "linecolor": "white",
             "minorgridcolor": "white",
             "startlinecolor": "#2a3f5f"
            },
            "baxis": {
             "endlinecolor": "#2a3f5f",
             "gridcolor": "white",
             "linecolor": "white",
             "minorgridcolor": "white",
             "startlinecolor": "#2a3f5f"
            },
            "type": "carpet"
           }
          ],
          "choropleth": [
           {
            "colorbar": {
             "outlinewidth": 0,
             "ticks": ""
            },
            "type": "choropleth"
           }
          ],
          "contour": [
           {
            "colorbar": {
             "outlinewidth": 0,
             "ticks": ""
            },
            "colorscale": [
             [
              0,
              "#0d0887"
             ],
             [
              0.1111111111111111,
              "#46039f"
             ],
             [
              0.2222222222222222,
              "#7201a8"
             ],
             [
              0.3333333333333333,
              "#9c179e"
             ],
             [
              0.4444444444444444,
              "#bd3786"
             ],
             [
              0.5555555555555556,
              "#d8576b"
             ],
             [
              0.6666666666666666,
              "#ed7953"
             ],
             [
              0.7777777777777778,
              "#fb9f3a"
             ],
             [
              0.8888888888888888,
              "#fdca26"
             ],
             [
              1,
              "#f0f921"
             ]
            ],
            "type": "contour"
           }
          ],
          "contourcarpet": [
           {
            "colorbar": {
             "outlinewidth": 0,
             "ticks": ""
            },
            "type": "contourcarpet"
           }
          ],
          "heatmap": [
           {
            "colorbar": {
             "outlinewidth": 0,
             "ticks": ""
            },
            "colorscale": [
             [
              0,
              "#0d0887"
             ],
             [
              0.1111111111111111,
              "#46039f"
             ],
             [
              0.2222222222222222,
              "#7201a8"
             ],
             [
              0.3333333333333333,
              "#9c179e"
             ],
             [
              0.4444444444444444,
              "#bd3786"
             ],
             [
              0.5555555555555556,
              "#d8576b"
             ],
             [
              0.6666666666666666,
              "#ed7953"
             ],
             [
              0.7777777777777778,
              "#fb9f3a"
             ],
             [
              0.8888888888888888,
              "#fdca26"
             ],
             [
              1,
              "#f0f921"
             ]
            ],
            "type": "heatmap"
           }
          ],
          "heatmapgl": [
           {
            "colorbar": {
             "outlinewidth": 0,
             "ticks": ""
            },
            "colorscale": [
             [
              0,
              "#0d0887"
             ],
             [
              0.1111111111111111,
              "#46039f"
             ],
             [
              0.2222222222222222,
              "#7201a8"
             ],
             [
              0.3333333333333333,
              "#9c179e"
             ],
             [
              0.4444444444444444,
              "#bd3786"
             ],
             [
              0.5555555555555556,
              "#d8576b"
             ],
             [
              0.6666666666666666,
              "#ed7953"
             ],
             [
              0.7777777777777778,
              "#fb9f3a"
             ],
             [
              0.8888888888888888,
              "#fdca26"
             ],
             [
              1,
              "#f0f921"
             ]
            ],
            "type": "heatmapgl"
           }
          ],
          "histogram": [
           {
            "marker": {
             "pattern": {
              "fillmode": "overlay",
              "size": 10,
              "solidity": 0.2
             }
            },
            "type": "histogram"
           }
          ],
          "histogram2d": [
           {
            "colorbar": {
             "outlinewidth": 0,
             "ticks": ""
            },
            "colorscale": [
             [
              0,
              "#0d0887"
             ],
             [
              0.1111111111111111,
              "#46039f"
             ],
             [
              0.2222222222222222,
              "#7201a8"
             ],
             [
              0.3333333333333333,
              "#9c179e"
             ],
             [
              0.4444444444444444,
              "#bd3786"
             ],
             [
              0.5555555555555556,
              "#d8576b"
             ],
             [
              0.6666666666666666,
              "#ed7953"
             ],
             [
              0.7777777777777778,
              "#fb9f3a"
             ],
             [
              0.8888888888888888,
              "#fdca26"
             ],
             [
              1,
              "#f0f921"
             ]
            ],
            "type": "histogram2d"
           }
          ],
          "histogram2dcontour": [
           {
            "colorbar": {
             "outlinewidth": 0,
             "ticks": ""
            },
            "colorscale": [
             [
              0,
              "#0d0887"
             ],
             [
              0.1111111111111111,
              "#46039f"
             ],
             [
              0.2222222222222222,
              "#7201a8"
             ],
             [
              0.3333333333333333,
              "#9c179e"
             ],
             [
              0.4444444444444444,
              "#bd3786"
             ],
             [
              0.5555555555555556,
              "#d8576b"
             ],
             [
              0.6666666666666666,
              "#ed7953"
             ],
             [
              0.7777777777777778,
              "#fb9f3a"
             ],
             [
              0.8888888888888888,
              "#fdca26"
             ],
             [
              1,
              "#f0f921"
             ]
            ],
            "type": "histogram2dcontour"
           }
          ],
          "mesh3d": [
           {
            "colorbar": {
             "outlinewidth": 0,
             "ticks": ""
            },
            "type": "mesh3d"
           }
          ],
          "parcoords": [
           {
            "line": {
             "colorbar": {
              "outlinewidth": 0,
              "ticks": ""
             }
            },
            "type": "parcoords"
           }
          ],
          "pie": [
           {
            "automargin": true,
            "type": "pie"
           }
          ],
          "scatter": [
           {
            "marker": {
             "colorbar": {
              "outlinewidth": 0,
              "ticks": ""
             }
            },
            "type": "scatter"
           }
          ],
          "scatter3d": [
           {
            "line": {
             "colorbar": {
              "outlinewidth": 0,
              "ticks": ""
             }
            },
            "marker": {
             "colorbar": {
              "outlinewidth": 0,
              "ticks": ""
             }
            },
            "type": "scatter3d"
           }
          ],
          "scattercarpet": [
           {
            "marker": {
             "colorbar": {
              "outlinewidth": 0,
              "ticks": ""
             }
            },
            "type": "scattercarpet"
           }
          ],
          "scattergeo": [
           {
            "marker": {
             "colorbar": {
              "outlinewidth": 0,
              "ticks": ""
             }
            },
            "type": "scattergeo"
           }
          ],
          "scattergl": [
           {
            "marker": {
             "colorbar": {
              "outlinewidth": 0,
              "ticks": ""
             }
            },
            "type": "scattergl"
           }
          ],
          "scattermapbox": [
           {
            "marker": {
             "colorbar": {
              "outlinewidth": 0,
              "ticks": ""
             }
            },
            "type": "scattermapbox"
           }
          ],
          "scatterpolar": [
           {
            "marker": {
             "colorbar": {
              "outlinewidth": 0,
              "ticks": ""
             }
            },
            "type": "scatterpolar"
           }
          ],
          "scatterpolargl": [
           {
            "marker": {
             "colorbar": {
              "outlinewidth": 0,
              "ticks": ""
             }
            },
            "type": "scatterpolargl"
           }
          ],
          "scatterternary": [
           {
            "marker": {
             "colorbar": {
              "outlinewidth": 0,
              "ticks": ""
             }
            },
            "type": "scatterternary"
           }
          ],
          "surface": [
           {
            "colorbar": {
             "outlinewidth": 0,
             "ticks": ""
            },
            "colorscale": [
             [
              0,
              "#0d0887"
             ],
             [
              0.1111111111111111,
              "#46039f"
             ],
             [
              0.2222222222222222,
              "#7201a8"
             ],
             [
              0.3333333333333333,
              "#9c179e"
             ],
             [
              0.4444444444444444,
              "#bd3786"
             ],
             [
              0.5555555555555556,
              "#d8576b"
             ],
             [
              0.6666666666666666,
              "#ed7953"
             ],
             [
              0.7777777777777778,
              "#fb9f3a"
             ],
             [
              0.8888888888888888,
              "#fdca26"
             ],
             [
              1,
              "#f0f921"
             ]
            ],
            "type": "surface"
           }
          ],
          "table": [
           {
            "cells": {
             "fill": {
              "color": "#EBF0F8"
             },
             "line": {
              "color": "white"
             }
            },
            "header": {
             "fill": {
              "color": "#C8D4E3"
             },
             "line": {
              "color": "white"
             }
            },
            "type": "table"
           }
          ]
         },
         "layout": {
          "annotationdefaults": {
           "arrowcolor": "#2a3f5f",
           "arrowhead": 0,
           "arrowwidth": 1
          },
          "autotypenumbers": "strict",
          "coloraxis": {
           "colorbar": {
            "outlinewidth": 0,
            "ticks": ""
           }
          },
          "colorscale": {
           "diverging": [
            [
             0,
             "#8e0152"
            ],
            [
             0.1,
             "#c51b7d"
            ],
            [
             0.2,
             "#de77ae"
            ],
            [
             0.3,
             "#f1b6da"
            ],
            [
             0.4,
             "#fde0ef"
            ],
            [
             0.5,
             "#f7f7f7"
            ],
            [
             0.6,
             "#e6f5d0"
            ],
            [
             0.7,
             "#b8e186"
            ],
            [
             0.8,
             "#7fbc41"
            ],
            [
             0.9,
             "#4d9221"
            ],
            [
             1,
             "#276419"
            ]
           ],
           "sequential": [
            [
             0,
             "#0d0887"
            ],
            [
             0.1111111111111111,
             "#46039f"
            ],
            [
             0.2222222222222222,
             "#7201a8"
            ],
            [
             0.3333333333333333,
             "#9c179e"
            ],
            [
             0.4444444444444444,
             "#bd3786"
            ],
            [
             0.5555555555555556,
             "#d8576b"
            ],
            [
             0.6666666666666666,
             "#ed7953"
            ],
            [
             0.7777777777777778,
             "#fb9f3a"
            ],
            [
             0.8888888888888888,
             "#fdca26"
            ],
            [
             1,
             "#f0f921"
            ]
           ],
           "sequentialminus": [
            [
             0,
             "#0d0887"
            ],
            [
             0.1111111111111111,
             "#46039f"
            ],
            [
             0.2222222222222222,
             "#7201a8"
            ],
            [
             0.3333333333333333,
             "#9c179e"
            ],
            [
             0.4444444444444444,
             "#bd3786"
            ],
            [
             0.5555555555555556,
             "#d8576b"
            ],
            [
             0.6666666666666666,
             "#ed7953"
            ],
            [
             0.7777777777777778,
             "#fb9f3a"
            ],
            [
             0.8888888888888888,
             "#fdca26"
            ],
            [
             1,
             "#f0f921"
            ]
           ]
          },
          "colorway": [
           "#636efa",
           "#EF553B",
           "#00cc96",
           "#ab63fa",
           "#FFA15A",
           "#19d3f3",
           "#FF6692",
           "#B6E880",
           "#FF97FF",
           "#FECB52"
          ],
          "font": {
           "color": "#2a3f5f"
          },
          "geo": {
           "bgcolor": "white",
           "lakecolor": "white",
           "landcolor": "#E5ECF6",
           "showlakes": true,
           "showland": true,
           "subunitcolor": "white"
          },
          "hoverlabel": {
           "align": "left"
          },
          "hovermode": "closest",
          "mapbox": {
           "style": "light"
          },
          "paper_bgcolor": "white",
          "plot_bgcolor": "#E5ECF6",
          "polar": {
           "angularaxis": {
            "gridcolor": "white",
            "linecolor": "white",
            "ticks": ""
           },
           "bgcolor": "#E5ECF6",
           "radialaxis": {
            "gridcolor": "white",
            "linecolor": "white",
            "ticks": ""
           }
          },
          "scene": {
           "xaxis": {
            "backgroundcolor": "#E5ECF6",
            "gridcolor": "white",
            "gridwidth": 2,
            "linecolor": "white",
            "showbackground": true,
            "ticks": "",
            "zerolinecolor": "white"
           },
           "yaxis": {
            "backgroundcolor": "#E5ECF6",
            "gridcolor": "white",
            "gridwidth": 2,
            "linecolor": "white",
            "showbackground": true,
            "ticks": "",
            "zerolinecolor": "white"
           },
           "zaxis": {
            "backgroundcolor": "#E5ECF6",
            "gridcolor": "white",
            "gridwidth": 2,
            "linecolor": "white",
            "showbackground": true,
            "ticks": "",
            "zerolinecolor": "white"
           }
          },
          "shapedefaults": {
           "line": {
            "color": "#2a3f5f"
           }
          },
          "ternary": {
           "aaxis": {
            "gridcolor": "white",
            "linecolor": "white",
            "ticks": ""
           },
           "baxis": {
            "gridcolor": "white",
            "linecolor": "white",
            "ticks": ""
           },
           "bgcolor": "#E5ECF6",
           "caxis": {
            "gridcolor": "white",
            "linecolor": "white",
            "ticks": ""
           }
          },
          "title": {
           "x": 0.05
          },
          "xaxis": {
           "automargin": true,
           "gridcolor": "white",
           "linecolor": "white",
           "ticks": "",
           "title": {
            "standoff": 15
           },
           "zerolinecolor": "white",
           "zerolinewidth": 2
          },
          "yaxis": {
           "automargin": true,
           "gridcolor": "white",
           "linecolor": "white",
           "ticks": "",
           "title": {
            "standoff": 15
           },
           "zerolinecolor": "white",
           "zerolinewidth": 2
          }
         }
        },
        "title": {
         "font": {
          "color": "#4D5663"
         },
         "text": "Ratings per movie"
        },
        "xaxis": {
         "anchor": "y",
         "domain": [
          0,
          0.45
         ],
         "gridcolor": "#E1E5ED",
         "showgrid": true,
         "tickfont": {
          "color": "#4D5663"
         },
         "title": {
          "font": {
           "color": "#4D5663"
          },
          "text": ""
         },
         "zerolinecolor": "#E1E5ED"
        },
        "xaxis10": {
         "anchor": "y10",
         "domain": [
          0.55,
          1
         ],
         "gridcolor": "#E1E5ED",
         "showgrid": true,
         "tickfont": {
          "color": "#4D5663"
         },
         "title": {
          "font": {
           "color": "#4D5663"
          },
          "text": ""
         },
         "zerolinecolor": "#E1E5ED"
        },
        "xaxis2": {
         "anchor": "y2",
         "domain": [
          0.55,
          1
         ],
         "gridcolor": "#E1E5ED",
         "showgrid": true,
         "tickfont": {
          "color": "#4D5663"
         },
         "title": {
          "font": {
           "color": "#4D5663"
          },
          "text": ""
         },
         "zerolinecolor": "#E1E5ED"
        },
        "xaxis3": {
         "anchor": "y3",
         "domain": [
          0,
          0.45
         ],
         "gridcolor": "#E1E5ED",
         "showgrid": true,
         "tickfont": {
          "color": "#4D5663"
         },
         "title": {
          "font": {
           "color": "#4D5663"
          },
          "text": ""
         },
         "zerolinecolor": "#E1E5ED"
        },
        "xaxis4": {
         "anchor": "y4",
         "domain": [
          0.55,
          1
         ],
         "gridcolor": "#E1E5ED",
         "showgrid": true,
         "tickfont": {
          "color": "#4D5663"
         },
         "title": {
          "font": {
           "color": "#4D5663"
          },
          "text": ""
         },
         "zerolinecolor": "#E1E5ED"
        },
        "xaxis5": {
         "anchor": "y5",
         "domain": [
          0,
          0.45
         ],
         "gridcolor": "#E1E5ED",
         "showgrid": true,
         "tickfont": {
          "color": "#4D5663"
         },
         "title": {
          "font": {
           "color": "#4D5663"
          },
          "text": ""
         },
         "zerolinecolor": "#E1E5ED"
        },
        "xaxis6": {
         "anchor": "y6",
         "domain": [
          0.55,
          1
         ],
         "gridcolor": "#E1E5ED",
         "showgrid": true,
         "tickfont": {
          "color": "#4D5663"
         },
         "title": {
          "font": {
           "color": "#4D5663"
          },
          "text": ""
         },
         "zerolinecolor": "#E1E5ED"
        },
        "xaxis7": {
         "anchor": "y7",
         "domain": [
          0,
          0.45
         ],
         "gridcolor": "#E1E5ED",
         "showgrid": true,
         "tickfont": {
          "color": "#4D5663"
         },
         "title": {
          "font": {
           "color": "#4D5663"
          },
          "text": ""
         },
         "zerolinecolor": "#E1E5ED"
        },
        "xaxis8": {
         "anchor": "y8",
         "domain": [
          0.55,
          1
         ],
         "gridcolor": "#E1E5ED",
         "showgrid": true,
         "tickfont": {
          "color": "#4D5663"
         },
         "title": {
          "font": {
           "color": "#4D5663"
          },
          "text": ""
         },
         "zerolinecolor": "#E1E5ED"
        },
        "xaxis9": {
         "anchor": "y9",
         "domain": [
          0,
          0.45
         ],
         "gridcolor": "#E1E5ED",
         "showgrid": true,
         "tickfont": {
          "color": "#4D5663"
         },
         "title": {
          "font": {
           "color": "#4D5663"
          },
          "text": ""
         },
         "zerolinecolor": "#E1E5ED"
        },
        "yaxis": {
         "anchor": "x",
         "domain": [
          0.848,
          1
         ],
         "gridcolor": "#E1E5ED",
         "showgrid": true,
         "tickfont": {
          "color": "#4D5663"
         },
         "title": {
          "font": {
           "color": "#4D5663"
          },
          "text": ""
         },
         "zerolinecolor": "#E1E5ED"
        },
        "yaxis10": {
         "anchor": "x10",
         "domain": [
          0,
          0.152
         ],
         "gridcolor": "#E1E5ED",
         "showgrid": true,
         "tickfont": {
          "color": "#4D5663"
         },
         "title": {
          "font": {
           "color": "#4D5663"
          },
          "text": ""
         },
         "zerolinecolor": "#E1E5ED"
        },
        "yaxis2": {
         "anchor": "x2",
         "domain": [
          0.848,
          1
         ],
         "gridcolor": "#E1E5ED",
         "showgrid": true,
         "tickfont": {
          "color": "#4D5663"
         },
         "title": {
          "font": {
           "color": "#4D5663"
          },
          "text": ""
         },
         "zerolinecolor": "#E1E5ED"
        },
        "yaxis3": {
         "anchor": "x3",
         "domain": [
          0.6359999999999999,
          0.7879999999999999
         ],
         "gridcolor": "#E1E5ED",
         "showgrid": true,
         "tickfont": {
          "color": "#4D5663"
         },
         "title": {
          "font": {
           "color": "#4D5663"
          },
          "text": ""
         },
         "zerolinecolor": "#E1E5ED"
        },
        "yaxis4": {
         "anchor": "x4",
         "domain": [
          0.6359999999999999,
          0.7879999999999999
         ],
         "gridcolor": "#E1E5ED",
         "showgrid": true,
         "tickfont": {
          "color": "#4D5663"
         },
         "title": {
          "font": {
           "color": "#4D5663"
          },
          "text": ""
         },
         "zerolinecolor": "#E1E5ED"
        },
        "yaxis5": {
         "anchor": "x5",
         "domain": [
          0.424,
          0.576
         ],
         "gridcolor": "#E1E5ED",
         "showgrid": true,
         "tickfont": {
          "color": "#4D5663"
         },
         "title": {
          "font": {
           "color": "#4D5663"
          },
          "text": ""
         },
         "zerolinecolor": "#E1E5ED"
        },
        "yaxis6": {
         "anchor": "x6",
         "domain": [
          0.424,
          0.576
         ],
         "gridcolor": "#E1E5ED",
         "showgrid": true,
         "tickfont": {
          "color": "#4D5663"
         },
         "title": {
          "font": {
           "color": "#4D5663"
          },
          "text": ""
         },
         "zerolinecolor": "#E1E5ED"
        },
        "yaxis7": {
         "anchor": "x7",
         "domain": [
          0.212,
          0.364
         ],
         "gridcolor": "#E1E5ED",
         "showgrid": true,
         "tickfont": {
          "color": "#4D5663"
         },
         "title": {
          "font": {
           "color": "#4D5663"
          },
          "text": ""
         },
         "zerolinecolor": "#E1E5ED"
        },
        "yaxis8": {
         "anchor": "x8",
         "domain": [
          0.212,
          0.364
         ],
         "gridcolor": "#E1E5ED",
         "showgrid": true,
         "tickfont": {
          "color": "#4D5663"
         },
         "title": {
          "font": {
           "color": "#4D5663"
          },
          "text": ""
         },
         "zerolinecolor": "#E1E5ED"
        },
        "yaxis9": {
         "anchor": "x9",
         "domain": [
          0,
          0.152
         ],
         "gridcolor": "#E1E5ED",
         "showgrid": true,
         "tickfont": {
          "color": "#4D5663"
         },
         "title": {
          "font": {
           "color": "#4D5663"
          },
          "text": ""
         },
         "zerolinecolor": "#E1E5ED"
        }
       }
      },
      "text/html": [
       "<div>                            <div id=\"6b12b352-6cca-47c4-92e9-3f095acb6157\" class=\"plotly-graph-div\" style=\"height:525px; width:100%;\"></div>            <script type=\"text/javascript\">                require([\"plotly\"], function(Plotly) {                    window.PLOTLYENV=window.PLOTLYENV || {};\n",
       "                    window.PLOTLYENV.BASE_URL='https://plot.ly';                                    if (document.getElementById(\"6b12b352-6cca-47c4-92e9-3f095acb6157\")) {                    Plotly.newPlot(                        \"6b12b352-6cca-47c4-92e9-3f095acb6157\",                        [{\"fill\":\"tozeroy\",\"fillcolor\":\"rgba(255, 153, 51, 0.3)\",\"line\":{\"color\":\"rgba(255, 153, 51, 1.0)\",\"dash\":\"solid\",\"shape\":\"linear\",\"width\":10.0},\"mode\":\"lines\",\"name\":\"Aquaman\",\"text\":\"\",\"x\":[\"Brandon\",\"Emily\",\"Cleo\",\"Rusty\",\"Samantha\"],\"xaxis\":\"x\",\"y\":[4,1,2,2,2],\"yaxis\":\"y\",\"type\":\"scatter\"},{\"fill\":\"tozeroy\",\"fillcolor\":\"rgba(55, 128, 191, 0.3)\",\"line\":{\"color\":\"rgba(55, 128, 191, 1.0)\",\"dash\":\"solid\",\"shape\":\"linear\",\"width\":10.0},\"mode\":\"lines\",\"name\":\"Avengers: Infinity War\",\"text\":\"\",\"x\":[\"Brandon\",\"Emily\",\"Cleo\",\"Rusty\",\"Samantha\"],\"xaxis\":\"x2\",\"y\":[2,5,2,5,5],\"yaxis\":\"y2\",\"type\":\"scatter\"},{\"fill\":\"tozeroy\",\"fillcolor\":\"rgba(50, 171, 96, 0.3)\",\"line\":{\"color\":\"rgba(50, 171, 96, 1.0)\",\"dash\":\"solid\",\"shape\":\"linear\",\"width\":10.0},\"mode\":\"lines\",\"name\":\"Black Panther\",\"text\":\"\",\"x\":[\"Brandon\",\"Emily\",\"Cleo\",\"Rusty\",\"Samantha\"],\"xaxis\":\"x3\",\"y\":[5,2,5,1,1],\"yaxis\":\"y3\",\"type\":\"scatter\"},{\"fill\":\"tozeroy\",\"fillcolor\":\"rgba(128, 0, 128, 0.3)\",\"line\":{\"color\":\"rgba(128, 0, 128, 1.0)\",\"dash\":\"solid\",\"shape\":\"linear\",\"width\":10.0},\"mode\":\"lines\",\"name\":\"Bohemian Rhapsody\",\"text\":\"\",\"x\":[\"Brandon\",\"Emily\",\"Cleo\",\"Rusty\",\"Samantha\"],\"xaxis\":\"x4\",\"y\":[2,3,4,4,1],\"yaxis\":\"y4\",\"type\":\"scatter\"},{\"fill\":\"tozeroy\",\"fillcolor\":\"rgba(219, 64, 82, 0.3)\",\"line\":{\"color\":\"rgba(219, 64, 82, 1.0)\",\"dash\":\"solid\",\"shape\":\"linear\",\"width\":10.0},\"mode\":\"lines\",\"name\":\"Deadpool 2\",\"text\":\"\",\"x\":[\"Brandon\",\"Emily\",\"Cleo\",\"Rusty\",\"Samantha\"],\"xaxis\":\"x5\",\"y\":[3,2,4,5,1],\"yaxis\":\"y5\",\"type\":\"scatter\"},{\"fill\":\"tozeroy\",\"fillcolor\":\"rgba(0, 128, 128, 0.3)\",\"line\":{\"color\":\"rgba(0, 128, 128, 1.0)\",\"dash\":\"solid\",\"shape\":\"linear\",\"width\":10.0},\"mode\":\"lines\",\"name\":\"Fantastic Beasts: The Crimes of Grindelwald\",\"text\":\"\",\"x\":[\"Brandon\",\"Emily\",\"Cleo\",\"Rusty\",\"Samantha\"],\"xaxis\":\"x6\",\"y\":[5,4,1,2,5],\"yaxis\":\"y6\",\"type\":\"scatter\"},{\"fill\":\"tozeroy\",\"fillcolor\":\"rgba(255, 255, 51, 0.3)\",\"line\":{\"color\":\"rgba(255, 255, 51, 1.0)\",\"dash\":\"solid\",\"shape\":\"linear\",\"width\":10.0},\"mode\":\"lines\",\"name\":\"Incredibles 2\",\"text\":\"\",\"x\":[\"Brandon\",\"Emily\",\"Cleo\",\"Rusty\",\"Samantha\"],\"xaxis\":\"x7\",\"y\":[4,2,3,4,4],\"yaxis\":\"y7\",\"type\":\"scatter\"},{\"fill\":\"tozeroy\",\"fillcolor\":\"rgba(128, 128, 0, 0.3)\",\"line\":{\"color\":\"rgba(128, 128, 0, 1.0)\",\"dash\":\"solid\",\"shape\":\"linear\",\"width\":10.0},\"mode\":\"lines\",\"name\":\"Jurassic World: Fallen Kingdom\",\"text\":\"\",\"x\":[\"Brandon\",\"Emily\",\"Cleo\",\"Rusty\",\"Samantha\"],\"xaxis\":\"x8\",\"y\":[2,3,5,4,5],\"yaxis\":\"y8\",\"type\":\"scatter\"},{\"fill\":\"tozeroy\",\"fillcolor\":\"rgba(251, 128, 114, 0.3)\",\"line\":{\"color\":\"rgba(251, 128, 114, 1.0)\",\"dash\":\"solid\",\"shape\":\"linear\",\"width\":10.0},\"mode\":\"lines\",\"name\":\"Mission: Impossible \\u2013 Fallout\",\"text\":\"\",\"x\":[\"Brandon\",\"Emily\",\"Cleo\",\"Rusty\",\"Samantha\"],\"xaxis\":\"x9\",\"y\":[5,5,4,3,2],\"yaxis\":\"y9\",\"type\":\"scatter\"},{\"fill\":\"tozeroy\",\"fillcolor\":\"rgba(128, 177, 211, 0.3)\",\"line\":{\"color\":\"rgba(128, 177, 211, 1.0)\",\"dash\":\"solid\",\"shape\":\"linear\",\"width\":10.0},\"mode\":\"lines\",\"name\":\"Venom\",\"text\":\"\",\"x\":[\"Brandon\",\"Emily\",\"Cleo\",\"Rusty\",\"Samantha\"],\"xaxis\":\"x10\",\"y\":[4,1,4,5,2],\"yaxis\":\"y10\",\"type\":\"scatter\"}],                        {\"legend\":{\"bgcolor\":\"#F5F6F9\",\"font\":{\"color\":\"#4D5663\"}},\"paper_bgcolor\":\"#F5F6F9\",\"plot_bgcolor\":\"#F5F6F9\",\"template\":{\"data\":{\"barpolar\":[{\"marker\":{\"line\":{\"color\":\"#E5ECF6\",\"width\":0.5},\"pattern\":{\"fillmode\":\"overlay\",\"size\":10,\"solidity\":0.2}},\"type\":\"barpolar\"}],\"bar\":[{\"error_x\":{\"color\":\"#2a3f5f\"},\"error_y\":{\"color\":\"#2a3f5f\"},\"marker\":{\"line\":{\"color\":\"#E5ECF6\",\"width\":0.5},\"pattern\":{\"fillmode\":\"overlay\",\"size\":10,\"solidity\":0.2}},\"type\":\"bar\"}],\"carpet\":[{\"aaxis\":{\"endlinecolor\":\"#2a3f5f\",\"gridcolor\":\"white\",\"linecolor\":\"white\",\"minorgridcolor\":\"white\",\"startlinecolor\":\"#2a3f5f\"},\"baxis\":{\"endlinecolor\":\"#2a3f5f\",\"gridcolor\":\"white\",\"linecolor\":\"white\",\"minorgridcolor\":\"white\",\"startlinecolor\":\"#2a3f5f\"},\"type\":\"carpet\"}],\"choropleth\":[{\"colorbar\":{\"outlinewidth\":0,\"ticks\":\"\"},\"type\":\"choropleth\"}],\"contourcarpet\":[{\"colorbar\":{\"outlinewidth\":0,\"ticks\":\"\"},\"type\":\"contourcarpet\"}],\"contour\":[{\"colorbar\":{\"outlinewidth\":0,\"ticks\":\"\"},\"colorscale\":[[0.0,\"#0d0887\"],[0.1111111111111111,\"#46039f\"],[0.2222222222222222,\"#7201a8\"],[0.3333333333333333,\"#9c179e\"],[0.4444444444444444,\"#bd3786\"],[0.5555555555555556,\"#d8576b\"],[0.6666666666666666,\"#ed7953\"],[0.7777777777777778,\"#fb9f3a\"],[0.8888888888888888,\"#fdca26\"],[1.0,\"#f0f921\"]],\"type\":\"contour\"}],\"heatmapgl\":[{\"colorbar\":{\"outlinewidth\":0,\"ticks\":\"\"},\"colorscale\":[[0.0,\"#0d0887\"],[0.1111111111111111,\"#46039f\"],[0.2222222222222222,\"#7201a8\"],[0.3333333333333333,\"#9c179e\"],[0.4444444444444444,\"#bd3786\"],[0.5555555555555556,\"#d8576b\"],[0.6666666666666666,\"#ed7953\"],[0.7777777777777778,\"#fb9f3a\"],[0.8888888888888888,\"#fdca26\"],[1.0,\"#f0f921\"]],\"type\":\"heatmapgl\"}],\"heatmap\":[{\"colorbar\":{\"outlinewidth\":0,\"ticks\":\"\"},\"colorscale\":[[0.0,\"#0d0887\"],[0.1111111111111111,\"#46039f\"],[0.2222222222222222,\"#7201a8\"],[0.3333333333333333,\"#9c179e\"],[0.4444444444444444,\"#bd3786\"],[0.5555555555555556,\"#d8576b\"],[0.6666666666666666,\"#ed7953\"],[0.7777777777777778,\"#fb9f3a\"],[0.8888888888888888,\"#fdca26\"],[1.0,\"#f0f921\"]],\"type\":\"heatmap\"}],\"histogram2dcontour\":[{\"colorbar\":{\"outlinewidth\":0,\"ticks\":\"\"},\"colorscale\":[[0.0,\"#0d0887\"],[0.1111111111111111,\"#46039f\"],[0.2222222222222222,\"#7201a8\"],[0.3333333333333333,\"#9c179e\"],[0.4444444444444444,\"#bd3786\"],[0.5555555555555556,\"#d8576b\"],[0.6666666666666666,\"#ed7953\"],[0.7777777777777778,\"#fb9f3a\"],[0.8888888888888888,\"#fdca26\"],[1.0,\"#f0f921\"]],\"type\":\"histogram2dcontour\"}],\"histogram2d\":[{\"colorbar\":{\"outlinewidth\":0,\"ticks\":\"\"},\"colorscale\":[[0.0,\"#0d0887\"],[0.1111111111111111,\"#46039f\"],[0.2222222222222222,\"#7201a8\"],[0.3333333333333333,\"#9c179e\"],[0.4444444444444444,\"#bd3786\"],[0.5555555555555556,\"#d8576b\"],[0.6666666666666666,\"#ed7953\"],[0.7777777777777778,\"#fb9f3a\"],[0.8888888888888888,\"#fdca26\"],[1.0,\"#f0f921\"]],\"type\":\"histogram2d\"}],\"histogram\":[{\"marker\":{\"pattern\":{\"fillmode\":\"overlay\",\"size\":10,\"solidity\":0.2}},\"type\":\"histogram\"}],\"mesh3d\":[{\"colorbar\":{\"outlinewidth\":0,\"ticks\":\"\"},\"type\":\"mesh3d\"}],\"parcoords\":[{\"line\":{\"colorbar\":{\"outlinewidth\":0,\"ticks\":\"\"}},\"type\":\"parcoords\"}],\"pie\":[{\"automargin\":true,\"type\":\"pie\"}],\"scatter3d\":[{\"line\":{\"colorbar\":{\"outlinewidth\":0,\"ticks\":\"\"}},\"marker\":{\"colorbar\":{\"outlinewidth\":0,\"ticks\":\"\"}},\"type\":\"scatter3d\"}],\"scattercarpet\":[{\"marker\":{\"colorbar\":{\"outlinewidth\":0,\"ticks\":\"\"}},\"type\":\"scattercarpet\"}],\"scattergeo\":[{\"marker\":{\"colorbar\":{\"outlinewidth\":0,\"ticks\":\"\"}},\"type\":\"scattergeo\"}],\"scattergl\":[{\"marker\":{\"colorbar\":{\"outlinewidth\":0,\"ticks\":\"\"}},\"type\":\"scattergl\"}],\"scattermapbox\":[{\"marker\":{\"colorbar\":{\"outlinewidth\":0,\"ticks\":\"\"}},\"type\":\"scattermapbox\"}],\"scatterpolargl\":[{\"marker\":{\"colorbar\":{\"outlinewidth\":0,\"ticks\":\"\"}},\"type\":\"scatterpolargl\"}],\"scatterpolar\":[{\"marker\":{\"colorbar\":{\"outlinewidth\":0,\"ticks\":\"\"}},\"type\":\"scatterpolar\"}],\"scatter\":[{\"marker\":{\"colorbar\":{\"outlinewidth\":0,\"ticks\":\"\"}},\"type\":\"scatter\"}],\"scatterternary\":[{\"marker\":{\"colorbar\":{\"outlinewidth\":0,\"ticks\":\"\"}},\"type\":\"scatterternary\"}],\"surface\":[{\"colorbar\":{\"outlinewidth\":0,\"ticks\":\"\"},\"colorscale\":[[0.0,\"#0d0887\"],[0.1111111111111111,\"#46039f\"],[0.2222222222222222,\"#7201a8\"],[0.3333333333333333,\"#9c179e\"],[0.4444444444444444,\"#bd3786\"],[0.5555555555555556,\"#d8576b\"],[0.6666666666666666,\"#ed7953\"],[0.7777777777777778,\"#fb9f3a\"],[0.8888888888888888,\"#fdca26\"],[1.0,\"#f0f921\"]],\"type\":\"surface\"}],\"table\":[{\"cells\":{\"fill\":{\"color\":\"#EBF0F8\"},\"line\":{\"color\":\"white\"}},\"header\":{\"fill\":{\"color\":\"#C8D4E3\"},\"line\":{\"color\":\"white\"}},\"type\":\"table\"}]},\"layout\":{\"annotationdefaults\":{\"arrowcolor\":\"#2a3f5f\",\"arrowhead\":0,\"arrowwidth\":1},\"autotypenumbers\":\"strict\",\"coloraxis\":{\"colorbar\":{\"outlinewidth\":0,\"ticks\":\"\"}},\"colorscale\":{\"diverging\":[[0,\"#8e0152\"],[0.1,\"#c51b7d\"],[0.2,\"#de77ae\"],[0.3,\"#f1b6da\"],[0.4,\"#fde0ef\"],[0.5,\"#f7f7f7\"],[0.6,\"#e6f5d0\"],[0.7,\"#b8e186\"],[0.8,\"#7fbc41\"],[0.9,\"#4d9221\"],[1,\"#276419\"]],\"sequential\":[[0.0,\"#0d0887\"],[0.1111111111111111,\"#46039f\"],[0.2222222222222222,\"#7201a8\"],[0.3333333333333333,\"#9c179e\"],[0.4444444444444444,\"#bd3786\"],[0.5555555555555556,\"#d8576b\"],[0.6666666666666666,\"#ed7953\"],[0.7777777777777778,\"#fb9f3a\"],[0.8888888888888888,\"#fdca26\"],[1.0,\"#f0f921\"]],\"sequentialminus\":[[0.0,\"#0d0887\"],[0.1111111111111111,\"#46039f\"],[0.2222222222222222,\"#7201a8\"],[0.3333333333333333,\"#9c179e\"],[0.4444444444444444,\"#bd3786\"],[0.5555555555555556,\"#d8576b\"],[0.6666666666666666,\"#ed7953\"],[0.7777777777777778,\"#fb9f3a\"],[0.8888888888888888,\"#fdca26\"],[1.0,\"#f0f921\"]]},\"colorway\":[\"#636efa\",\"#EF553B\",\"#00cc96\",\"#ab63fa\",\"#FFA15A\",\"#19d3f3\",\"#FF6692\",\"#B6E880\",\"#FF97FF\",\"#FECB52\"],\"font\":{\"color\":\"#2a3f5f\"},\"geo\":{\"bgcolor\":\"white\",\"lakecolor\":\"white\",\"landcolor\":\"#E5ECF6\",\"showlakes\":true,\"showland\":true,\"subunitcolor\":\"white\"},\"hoverlabel\":{\"align\":\"left\"},\"hovermode\":\"closest\",\"mapbox\":{\"style\":\"light\"},\"paper_bgcolor\":\"white\",\"plot_bgcolor\":\"#E5ECF6\",\"polar\":{\"angularaxis\":{\"gridcolor\":\"white\",\"linecolor\":\"white\",\"ticks\":\"\"},\"bgcolor\":\"#E5ECF6\",\"radialaxis\":{\"gridcolor\":\"white\",\"linecolor\":\"white\",\"ticks\":\"\"}},\"scene\":{\"xaxis\":{\"backgroundcolor\":\"#E5ECF6\",\"gridcolor\":\"white\",\"gridwidth\":2,\"linecolor\":\"white\",\"showbackground\":true,\"ticks\":\"\",\"zerolinecolor\":\"white\"},\"yaxis\":{\"backgroundcolor\":\"#E5ECF6\",\"gridcolor\":\"white\",\"gridwidth\":2,\"linecolor\":\"white\",\"showbackground\":true,\"ticks\":\"\",\"zerolinecolor\":\"white\"},\"zaxis\":{\"backgroundcolor\":\"#E5ECF6\",\"gridcolor\":\"white\",\"gridwidth\":2,\"linecolor\":\"white\",\"showbackground\":true,\"ticks\":\"\",\"zerolinecolor\":\"white\"}},\"shapedefaults\":{\"line\":{\"color\":\"#2a3f5f\"}},\"ternary\":{\"aaxis\":{\"gridcolor\":\"white\",\"linecolor\":\"white\",\"ticks\":\"\"},\"baxis\":{\"gridcolor\":\"white\",\"linecolor\":\"white\",\"ticks\":\"\"},\"bgcolor\":\"#E5ECF6\",\"caxis\":{\"gridcolor\":\"white\",\"linecolor\":\"white\",\"ticks\":\"\"}},\"title\":{\"x\":0.05},\"xaxis\":{\"automargin\":true,\"gridcolor\":\"white\",\"linecolor\":\"white\",\"ticks\":\"\",\"title\":{\"standoff\":15},\"zerolinecolor\":\"white\",\"zerolinewidth\":2},\"yaxis\":{\"automargin\":true,\"gridcolor\":\"white\",\"linecolor\":\"white\",\"ticks\":\"\",\"title\":{\"standoff\":15},\"zerolinecolor\":\"white\",\"zerolinewidth\":2}}},\"title\":{\"font\":{\"color\":\"#4D5663\"},\"text\":\"Ratings per movie\"},\"xaxis\":{\"anchor\":\"y\",\"domain\":[0.0,0.45],\"gridcolor\":\"#E1E5ED\",\"showgrid\":true,\"tickfont\":{\"color\":\"#4D5663\"},\"title\":{\"font\":{\"color\":\"#4D5663\"},\"text\":\"\"},\"zerolinecolor\":\"#E1E5ED\"},\"yaxis\":{\"anchor\":\"x\",\"domain\":[0.848,1.0],\"gridcolor\":\"#E1E5ED\",\"showgrid\":true,\"tickfont\":{\"color\":\"#4D5663\"},\"title\":{\"font\":{\"color\":\"#4D5663\"},\"text\":\"\"},\"zerolinecolor\":\"#E1E5ED\"},\"xaxis2\":{\"anchor\":\"y2\",\"domain\":[0.55,1.0],\"gridcolor\":\"#E1E5ED\",\"showgrid\":true,\"tickfont\":{\"color\":\"#4D5663\"},\"title\":{\"font\":{\"color\":\"#4D5663\"},\"text\":\"\"},\"zerolinecolor\":\"#E1E5ED\"},\"yaxis2\":{\"anchor\":\"x2\",\"domain\":[0.848,1.0],\"gridcolor\":\"#E1E5ED\",\"showgrid\":true,\"tickfont\":{\"color\":\"#4D5663\"},\"title\":{\"font\":{\"color\":\"#4D5663\"},\"text\":\"\"},\"zerolinecolor\":\"#E1E5ED\"},\"xaxis3\":{\"anchor\":\"y3\",\"domain\":[0.0,0.45],\"gridcolor\":\"#E1E5ED\",\"showgrid\":true,\"tickfont\":{\"color\":\"#4D5663\"},\"title\":{\"font\":{\"color\":\"#4D5663\"},\"text\":\"\"},\"zerolinecolor\":\"#E1E5ED\"},\"yaxis3\":{\"anchor\":\"x3\",\"domain\":[0.6359999999999999,0.7879999999999999],\"gridcolor\":\"#E1E5ED\",\"showgrid\":true,\"tickfont\":{\"color\":\"#4D5663\"},\"title\":{\"font\":{\"color\":\"#4D5663\"},\"text\":\"\"},\"zerolinecolor\":\"#E1E5ED\"},\"xaxis4\":{\"anchor\":\"y4\",\"domain\":[0.55,1.0],\"gridcolor\":\"#E1E5ED\",\"showgrid\":true,\"tickfont\":{\"color\":\"#4D5663\"},\"title\":{\"font\":{\"color\":\"#4D5663\"},\"text\":\"\"},\"zerolinecolor\":\"#E1E5ED\"},\"yaxis4\":{\"anchor\":\"x4\",\"domain\":[0.6359999999999999,0.7879999999999999],\"gridcolor\":\"#E1E5ED\",\"showgrid\":true,\"tickfont\":{\"color\":\"#4D5663\"},\"title\":{\"font\":{\"color\":\"#4D5663\"},\"text\":\"\"},\"zerolinecolor\":\"#E1E5ED\"},\"xaxis5\":{\"anchor\":\"y5\",\"domain\":[0.0,0.45],\"gridcolor\":\"#E1E5ED\",\"showgrid\":true,\"tickfont\":{\"color\":\"#4D5663\"},\"title\":{\"font\":{\"color\":\"#4D5663\"},\"text\":\"\"},\"zerolinecolor\":\"#E1E5ED\"},\"yaxis5\":{\"anchor\":\"x5\",\"domain\":[0.424,0.576],\"gridcolor\":\"#E1E5ED\",\"showgrid\":true,\"tickfont\":{\"color\":\"#4D5663\"},\"title\":{\"font\":{\"color\":\"#4D5663\"},\"text\":\"\"},\"zerolinecolor\":\"#E1E5ED\"},\"xaxis6\":{\"anchor\":\"y6\",\"domain\":[0.55,1.0],\"gridcolor\":\"#E1E5ED\",\"showgrid\":true,\"tickfont\":{\"color\":\"#4D5663\"},\"title\":{\"font\":{\"color\":\"#4D5663\"},\"text\":\"\"},\"zerolinecolor\":\"#E1E5ED\"},\"yaxis6\":{\"anchor\":\"x6\",\"domain\":[0.424,0.576],\"gridcolor\":\"#E1E5ED\",\"showgrid\":true,\"tickfont\":{\"color\":\"#4D5663\"},\"title\":{\"font\":{\"color\":\"#4D5663\"},\"text\":\"\"},\"zerolinecolor\":\"#E1E5ED\"},\"xaxis7\":{\"anchor\":\"y7\",\"domain\":[0.0,0.45],\"gridcolor\":\"#E1E5ED\",\"showgrid\":true,\"tickfont\":{\"color\":\"#4D5663\"},\"title\":{\"font\":{\"color\":\"#4D5663\"},\"text\":\"\"},\"zerolinecolor\":\"#E1E5ED\"},\"yaxis7\":{\"anchor\":\"x7\",\"domain\":[0.212,0.364],\"gridcolor\":\"#E1E5ED\",\"showgrid\":true,\"tickfont\":{\"color\":\"#4D5663\"},\"title\":{\"font\":{\"color\":\"#4D5663\"},\"text\":\"\"},\"zerolinecolor\":\"#E1E5ED\"},\"xaxis8\":{\"anchor\":\"y8\",\"domain\":[0.55,1.0],\"gridcolor\":\"#E1E5ED\",\"showgrid\":true,\"tickfont\":{\"color\":\"#4D5663\"},\"title\":{\"font\":{\"color\":\"#4D5663\"},\"text\":\"\"},\"zerolinecolor\":\"#E1E5ED\"},\"yaxis8\":{\"anchor\":\"x8\",\"domain\":[0.212,0.364],\"gridcolor\":\"#E1E5ED\",\"showgrid\":true,\"tickfont\":{\"color\":\"#4D5663\"},\"title\":{\"font\":{\"color\":\"#4D5663\"},\"text\":\"\"},\"zerolinecolor\":\"#E1E5ED\"},\"xaxis9\":{\"anchor\":\"y9\",\"domain\":[0.0,0.45],\"gridcolor\":\"#E1E5ED\",\"showgrid\":true,\"tickfont\":{\"color\":\"#4D5663\"},\"title\":{\"font\":{\"color\":\"#4D5663\"},\"text\":\"\"},\"zerolinecolor\":\"#E1E5ED\"},\"yaxis9\":{\"anchor\":\"x9\",\"domain\":[0.0,0.152],\"gridcolor\":\"#E1E5ED\",\"showgrid\":true,\"tickfont\":{\"color\":\"#4D5663\"},\"title\":{\"font\":{\"color\":\"#4D5663\"},\"text\":\"\"},\"zerolinecolor\":\"#E1E5ED\"},\"xaxis10\":{\"anchor\":\"y10\",\"domain\":[0.55,1.0],\"gridcolor\":\"#E1E5ED\",\"showgrid\":true,\"tickfont\":{\"color\":\"#4D5663\"},\"title\":{\"font\":{\"color\":\"#4D5663\"},\"text\":\"\"},\"zerolinecolor\":\"#E1E5ED\"},\"yaxis10\":{\"anchor\":\"x10\",\"domain\":[0.0,0.152],\"gridcolor\":\"#E1E5ED\",\"showgrid\":true,\"tickfont\":{\"color\":\"#4D5663\"},\"title\":{\"font\":{\"color\":\"#4D5663\"},\"text\":\"\"},\"zerolinecolor\":\"#E1E5ED\"}},                        {\"showLink\": true, \"linkText\": \"Export to plot.ly\", \"plotlyServerURL\": \"https://plot.ly\", \"responsive\": true}                    ).then(function(){\n",
       "                            \n",
       "var gd = document.getElementById('6b12b352-6cca-47c4-92e9-3f095acb6157');\n",
       "var x = new MutationObserver(function (mutations, observer) {{\n",
       "        var display = window.getComputedStyle(gd).display;\n",
       "        if (!display || display === 'none') {{\n",
       "            console.log([gd, 'removed!']);\n",
       "            Plotly.purge(gd);\n",
       "            observer.disconnect();\n",
       "        }}\n",
       "}});\n",
       "\n",
       "// Listen for the removal of the full notebook cells\n",
       "var notebookContainer = gd.closest('#notebook-container');\n",
       "if (notebookContainer) {{\n",
       "    x.observe(notebookContainer, {childList: true});\n",
       "}}\n",
       "\n",
       "// Listen for the clearing of the current output cell\n",
       "var outputEl = gd.closest('.output');\n",
       "if (outputEl) {{\n",
       "    x.observe(outputEl, {childList: true});\n",
       "}}\n",
       "\n",
       "                        })                };                });            </script>        </div>"
      ]
     },
     "metadata": {},
     "output_type": "display_data"
    }
   ],
   "source": [
    "movies = list(users_ratings.columns)\n",
    "users_ratings.iplot(y=movies,\n",
    "                    kind='line',\n",
    "                    width=10.0,\n",
    "                    subplots=True,\n",
    "                    fill=True,\n",
    "                    title='Ratings per movie');"
   ]
  },
  {
   "cell_type": "markdown",
   "id": "59c09e19",
   "metadata": {},
   "source": [
    "---"
   ]
  },
  {
   "cell_type": "markdown",
   "id": "2c08304c",
   "metadata": {},
   "source": [
    "## User-user memory based method\n",
    "\n",
    "It represent users based on their interactions with items and evaluate distances between users."
   ]
  },
  {
   "cell_type": "code",
   "execution_count": 6,
   "id": "cd7ed4f1",
   "metadata": {},
   "outputs": [],
   "source": [
    "# Ploting function\n",
    "\n",
    "def ratings_scatter(movie1, movie2):\n",
    "    x = users_ratings[movie1]\n",
    "    y = users_ratings[movie2]\n",
    "    n = list(users_ratings.index)\n",
    "\n",
    "    fig, ax = plt.subplots()\n",
    "    ax.scatter(x, y, s=100)\n",
    "    fig.set_figwidth(12)\n",
    "    fig.set_figheight(8)\n",
    "    plt.title(\"Preference Space for \"+ movie1 + \" vs. \" + movie2, fontsize=20)\n",
    "    ax.set_xlabel(movie1, fontsize=16)\n",
    "    ax.set_ylabel(movie2, fontsize=16) \n",
    "\n",
    "    for i, txt in enumerate(n):\n",
    "        ax.annotate(txt, (x[i], y[i]), fontsize=12)"
   ]
  },
  {
   "cell_type": "code",
   "execution_count": 7,
   "id": "8c6562e3",
   "metadata": {
    "scrolled": false
   },
   "outputs": [
    {
     "data": {
      "image/png": "[encoded data removed]",
      "text/plain": [
       "<Figure size 864x576 with 1 Axes>"
      ]
     },
     "metadata": {
      "needs_background": "light"
     },
     "output_type": "display_data"
    },
    {
     "data": {
      "image/png": "[encoded data removed]",
      "text/plain": [
       "<Figure size 864x576 with 1 Axes>"
      ]
     },
     "metadata": {
      "needs_background": "light"
     },
     "output_type": "display_data"
    },
    {
     "data": {
      "image/png": "[encoded data removed]",
      "text/plain": [
       "<Figure size 864x576 with 1 Axes>"
      ]
     },
     "metadata": {
      "needs_background": "light"
     },
     "output_type": "display_data"
    },
    {
     "data": {
      "image/png": "[encoded data removed]",
      "text/plain": [
       "<Figure size 864x576 with 1 Axes>"
      ]
     },
     "metadata": {
      "needs_background": "light"
     },
     "output_type": "display_data"
    }
   ],
   "source": [
    "# 2 dimensional space\n",
    "\n",
    "ratings_scatter('Venom', 'Incredibles 2')\n",
    "ratings_scatter('Bohemian Rhapsody', 'Jurassic World: Fallen Kingdom')\n",
    "ratings_scatter('Fantastic Beasts: The Crimes of Grindelwald', 'Mission: Impossible – Fallout')\n",
    "ratings_scatter('Black Panther', 'Deadpool 2')"
   ]
  },
  {
   "cell_type": "markdown",
   "id": "bf0e2536",
   "metadata": {},
   "source": [
    "---"
   ]
  },
  {
   "cell_type": "markdown",
   "id": "bce452cd",
   "metadata": {},
   "source": [
    "### scipy.spatial.distance.pdist\n",
    "\n",
    "Pairwise distances between observations in n-dimensional space.\n",
    "\n",
    "https://scipy.github.io/devdocs/reference/generated/scipy.spatial.distance.pdist.html"
   ]
  },
  {
   "cell_type": "code",
   "execution_count": 8,
   "id": "05295d82",
   "metadata": {},
   "outputs": [
    {
     "data": {
      "text/plain": [
       "array([6.63324958, 6.        , 7.41619849, 7.48331477, 6.92820323,\n",
       "       6.40312424, 5.09901951, 5.56776436, 8.24621125, 6.70820393])"
      ]
     },
     "execution_count": 8,
     "metadata": {},
     "output_type": "execute_result"
    }
   ],
   "source": [
    "dist_calculation = pdist(X=users_ratings, metric='euclidean')\n",
    "dist_calculation"
   ]
  },
  {
   "cell_type": "code",
   "execution_count": 9,
   "id": "8725900f",
   "metadata": {},
   "outputs": [
    {
     "data": {
      "text/plain": [
       "array([[0.        , 6.63324958, 6.        , 7.41619849, 7.48331477],\n",
       "       [6.63324958, 0.        , 6.92820323, 6.40312424, 5.09901951],\n",
       "       [6.        , 6.92820323, 0.        , 5.56776436, 8.24621125],\n",
       "       [7.41619849, 6.40312424, 5.56776436, 0.        , 6.70820393],\n",
       "       [7.48331477, 5.09901951, 8.24621125, 6.70820393, 0.        ]])"
      ]
     },
     "execution_count": 9,
     "metadata": {},
     "output_type": "execute_result"
    }
   ],
   "source": [
    "# Squareform method: https://scipy.github.io/devdocs/reference/generated/scipy.spatial.distance.squareform.html\n",
    "\n",
    "dist_distribution = squareform(dist_calculation)\n",
    "dist_distribution"
   ]
  },
  {
   "cell_type": "code",
   "execution_count": 12,
   "id": "564a4a57",
   "metadata": {},
   "outputs": [
    {
     "data": {
      "text/html": [
       "<div>\n",
       "<style scoped>\n",
       "    .dataframe tbody tr th:only-of-type {\n",
       "        vertical-align: middle;\n",
       "    }\n",
       "\n",
       "    .dataframe tbody tr th {\n",
       "        vertical-align: top;\n",
       "    }\n",
       "\n",
       "    .dataframe thead th {\n",
       "        text-align: right;\n",
       "    }\n",
       "</style>\n",
       "<table border=\"1\" class=\"dataframe\">\n",
       "  <thead>\n",
       "    <tr style=\"text-align: right;\">\n",
       "      <th></th>\n",
       "      <th>Brandon</th>\n",
       "      <th>Emily</th>\n",
       "      <th>Cleo</th>\n",
       "      <th>Rusty</th>\n",
       "      <th>Samantha</th>\n",
       "    </tr>\n",
       "  </thead>\n",
       "  <tbody>\n",
       "    <tr>\n",
       "      <th>Brandon</th>\n",
       "      <td>0.000000</td>\n",
       "      <td>6.633250</td>\n",
       "      <td>6.000000</td>\n",
       "      <td>7.416198</td>\n",
       "      <td>7.483315</td>\n",
       "    </tr>\n",
       "    <tr>\n",
       "      <th>Emily</th>\n",
       "      <td>6.633250</td>\n",
       "      <td>0.000000</td>\n",
       "      <td>6.928203</td>\n",
       "      <td>6.403124</td>\n",
       "      <td>5.099020</td>\n",
       "    </tr>\n",
       "    <tr>\n",
       "      <th>Cleo</th>\n",
       "      <td>6.000000</td>\n",
       "      <td>6.928203</td>\n",
       "      <td>0.000000</td>\n",
       "      <td>5.567764</td>\n",
       "      <td>8.246211</td>\n",
       "    </tr>\n",
       "    <tr>\n",
       "      <th>Rusty</th>\n",
       "      <td>7.416198</td>\n",
       "      <td>6.403124</td>\n",
       "      <td>5.567764</td>\n",
       "      <td>0.000000</td>\n",
       "      <td>6.708204</td>\n",
       "    </tr>\n",
       "    <tr>\n",
       "      <th>Samantha</th>\n",
       "      <td>7.483315</td>\n",
       "      <td>5.099020</td>\n",
       "      <td>8.246211</td>\n",
       "      <td>6.708204</td>\n",
       "      <td>0.000000</td>\n",
       "    </tr>\n",
       "  </tbody>\n",
       "</table>\n",
       "</div>"
      ],
      "text/plain": [
       "           Brandon     Emily      Cleo     Rusty  Samantha\n",
       "Brandon   0.000000  6.633250  6.000000  7.416198  7.483315\n",
       "Emily     6.633250  0.000000  6.928203  6.403124  5.099020\n",
       "Cleo      6.000000  6.928203  0.000000  5.567764  8.246211\n",
       "Rusty     7.416198  6.403124  5.567764  0.000000  6.708204\n",
       "Samantha  7.483315  5.099020  8.246211  6.708204  0.000000"
      ]
     },
     "execution_count": 12,
     "metadata": {},
     "output_type": "execute_result"
    }
   ],
   "source": [
    "euclid_dist = pd.DataFrame(dist_distribution,\n",
    "                           index=movie_ratings.columns, \n",
    "                           columns=movie_ratings.columns)\n",
    "\n",
    "euclid_dist"
   ]
  },
  {
   "cell_type": "code",
   "execution_count": 13,
   "id": "ca18d8b7",
   "metadata": {},
   "outputs": [
    {
     "data": {
      "text/html": [
       "<div>\n",
       "<style scoped>\n",
       "    .dataframe tbody tr th:only-of-type {\n",
       "        vertical-align: middle;\n",
       "    }\n",
       "\n",
       "    .dataframe tbody tr th {\n",
       "        vertical-align: top;\n",
       "    }\n",
       "\n",
       "    .dataframe thead th {\n",
       "        text-align: right;\n",
       "    }\n",
       "</style>\n",
       "<table border=\"1\" class=\"dataframe\">\n",
       "  <thead>\n",
       "    <tr style=\"text-align: right;\">\n",
       "      <th></th>\n",
       "      <th>Brandon</th>\n",
       "      <th>Emily</th>\n",
       "      <th>Cleo</th>\n",
       "      <th>Rusty</th>\n",
       "      <th>Samantha</th>\n",
       "    </tr>\n",
       "  </thead>\n",
       "  <tbody>\n",
       "    <tr>\n",
       "      <th>Brandon</th>\n",
       "      <td>1.000000</td>\n",
       "      <td>0.131006</td>\n",
       "      <td>0.142857</td>\n",
       "      <td>0.118818</td>\n",
       "      <td>0.117878</td>\n",
       "    </tr>\n",
       "    <tr>\n",
       "      <th>Emily</th>\n",
       "      <td>0.131006</td>\n",
       "      <td>1.000000</td>\n",
       "      <td>0.126132</td>\n",
       "      <td>0.135078</td>\n",
       "      <td>0.163961</td>\n",
       "    </tr>\n",
       "    <tr>\n",
       "      <th>Cleo</th>\n",
       "      <td>0.142857</td>\n",
       "      <td>0.126132</td>\n",
       "      <td>1.000000</td>\n",
       "      <td>0.152259</td>\n",
       "      <td>0.108152</td>\n",
       "    </tr>\n",
       "    <tr>\n",
       "      <th>Rusty</th>\n",
       "      <td>0.118818</td>\n",
       "      <td>0.135078</td>\n",
       "      <td>0.152259</td>\n",
       "      <td>1.000000</td>\n",
       "      <td>0.129732</td>\n",
       "    </tr>\n",
       "    <tr>\n",
       "      <th>Samantha</th>\n",
       "      <td>0.117878</td>\n",
       "      <td>0.163961</td>\n",
       "      <td>0.108152</td>\n",
       "      <td>0.129732</td>\n",
       "      <td>1.000000</td>\n",
       "    </tr>\n",
       "  </tbody>\n",
       "</table>\n",
       "</div>"
      ],
      "text/plain": [
       "           Brandon     Emily      Cleo     Rusty  Samantha\n",
       "Brandon   1.000000  0.131006  0.142857  0.118818  0.117878\n",
       "Emily     0.131006  1.000000  0.126132  0.135078  0.163961\n",
       "Cleo      0.142857  0.126132  1.000000  0.152259  0.108152\n",
       "Rusty     0.118818  0.135078  0.152259  1.000000  0.129732\n",
       "Samantha  0.117878  0.163961  0.108152  0.129732  1.000000"
      ]
     },
     "execution_count": 13,
     "metadata": {},
     "output_type": "execute_result"
    }
   ],
   "source": [
    "\n",
    "euclid_dist_norm2 = 1/(1 + euclid_dist)\n",
    "euclid_dist_norm2"
   ]
  },
  {
   "cell_type": "code",
   "execution_count": 16,
   "id": "e7a18287",
   "metadata": {},
   "outputs": [
    {
     "data": {
      "text/html": [
       "<div>\n",
       "<style scoped>\n",
       "    .dataframe tbody tr th:only-of-type {\n",
       "        vertical-align: middle;\n",
       "    }\n",
       "\n",
       "    .dataframe tbody tr th {\n",
       "        vertical-align: top;\n",
       "    }\n",
       "\n",
       "    .dataframe thead th {\n",
       "        text-align: right;\n",
       "    }\n",
       "</style>\n",
       "<table border=\"1\" class=\"dataframe\">\n",
       "  <thead>\n",
       "    <tr style=\"text-align: right;\">\n",
       "      <th></th>\n",
       "      <th>Brandon</th>\n",
       "      <th>Emily</th>\n",
       "      <th>Cleo</th>\n",
       "      <th>Rusty</th>\n",
       "      <th>Samantha</th>\n",
       "      <th>Tom</th>\n",
       "    </tr>\n",
       "  </thead>\n",
       "  <tbody>\n",
       "    <tr>\n",
       "      <th>Brandon</th>\n",
       "      <td>1.000000</td>\n",
       "      <td>0.131006</td>\n",
       "      <td>0.142857</td>\n",
       "      <td>0.118818</td>\n",
       "      <td>0.117878</td>\n",
       "      <td>0.156613</td>\n",
       "    </tr>\n",
       "    <tr>\n",
       "      <th>Emily</th>\n",
       "      <td>0.131006</td>\n",
       "      <td>1.000000</td>\n",
       "      <td>0.126132</td>\n",
       "      <td>0.135078</td>\n",
       "      <td>0.163961</td>\n",
       "      <td>0.135078</td>\n",
       "    </tr>\n",
       "    <tr>\n",
       "      <th>Cleo</th>\n",
       "      <td>0.142857</td>\n",
       "      <td>0.126132</td>\n",
       "      <td>1.000000</td>\n",
       "      <td>0.152259</td>\n",
       "      <td>0.108152</td>\n",
       "      <td>0.217129</td>\n",
       "    </tr>\n",
       "    <tr>\n",
       "      <th>Rusty</th>\n",
       "      <td>0.118818</td>\n",
       "      <td>0.135078</td>\n",
       "      <td>0.152259</td>\n",
       "      <td>1.000000</td>\n",
       "      <td>0.129732</td>\n",
       "      <td>0.126132</td>\n",
       "    </tr>\n",
       "    <tr>\n",
       "      <th>Samantha</th>\n",
       "      <td>0.117878</td>\n",
       "      <td>0.163961</td>\n",
       "      <td>0.108152</td>\n",
       "      <td>0.129732</td>\n",
       "      <td>1.000000</td>\n",
       "      <td>0.116961</td>\n",
       "    </tr>\n",
       "    <tr>\n",
       "      <th>Tom</th>\n",
       "      <td>0.156613</td>\n",
       "      <td>0.135078</td>\n",
       "      <td>0.217129</td>\n",
       "      <td>0.126132</td>\n",
       "      <td>0.116961</td>\n",
       "      <td>1.000000</td>\n",
       "    </tr>\n",
       "  </tbody>\n",
       "</table>\n",
       "</div>"
      ],
      "text/plain": [
       "           Brandon     Emily      Cleo     Rusty  Samantha       Tom\n",
       "Brandon   1.000000  0.131006  0.142857  0.118818  0.117878  0.156613\n",
       "Emily     0.131006  1.000000  0.126132  0.135078  0.163961  0.135078\n",
       "Cleo      0.142857  0.126132  1.000000  0.152259  0.108152  0.217129\n",
       "Rusty     0.118818  0.135078  0.152259  1.000000  0.129732  0.126132\n",
       "Samantha  0.117878  0.163961  0.108152  0.129732  1.000000  0.116961\n",
       "Tom       0.156613  0.135078  0.217129  0.126132  0.116961  1.000000"
      ]
     },
     "execution_count": 16,
     "metadata": {},
     "output_type": "execute_result"
    }
   ],
   "source": [
    "# TODO EN UNO \n",
    "\n",
    "euclid_dist_norm = pd.DataFrame(1/(1 + squareform(pdist(movie_ratings.T, 'euclidean'))),\n",
    "                                index=movie_ratings.columns,\n",
    "                                columns=movie_ratings.columns)\n",
    "\n",
    "euclid_dist_norm"
   ]
  },
  {
   "cell_type": "markdown",
   "id": "2810750a",
   "metadata": {},
   "source": [
    "---"
   ]
  },
  {
   "cell_type": "markdown",
   "id": "e376221e",
   "metadata": {},
   "source": [
    "### Full Pipeline"
   ]
  },
  {
   "cell_type": "code",
   "execution_count": 14,
   "id": "82cf2305",
   "metadata": {},
   "outputs": [],
   "source": [
    "# New User into the system\n",
    "\n",
    "Tom = {'Aquaman': 2,\n",
    "       'Avengers: Infinity War': 1,\n",
    "       'Black Panther': 5,\n",
    "       'Bohemian Rhapsody': 5,\n",
    "       'Deadpool 2': 2,\n",
    "       'Fantastic Beasts: The Crimes of Grindelwald': 3,\n",
    "       'Incredibles 2': 3,\n",
    "       'Jurassic World: Fallen Kingdom': 4,\n",
    "       'Mission: Impossible – Fallout': 3,\n",
    "       'Venom': 3}"
   ]
  },
  {
   "cell_type": "code",
   "execution_count": 15,
   "id": "33108a3c",
   "metadata": {},
   "outputs": [
    {
     "data": {
      "text/html": [
       "<div>\n",
       "<style scoped>\n",
       "    .dataframe tbody tr th:only-of-type {\n",
       "        vertical-align: middle;\n",
       "    }\n",
       "\n",
       "    .dataframe tbody tr th {\n",
       "        vertical-align: top;\n",
       "    }\n",
       "\n",
       "    .dataframe thead th {\n",
       "        text-align: right;\n",
       "    }\n",
       "</style>\n",
       "<table border=\"1\" class=\"dataframe\">\n",
       "  <thead>\n",
       "    <tr style=\"text-align: right;\">\n",
       "      <th></th>\n",
       "      <th>Brandon</th>\n",
       "      <th>Emily</th>\n",
       "      <th>Cleo</th>\n",
       "      <th>Rusty</th>\n",
       "      <th>Samantha</th>\n",
       "      <th>Tom</th>\n",
       "    </tr>\n",
       "    <tr>\n",
       "      <th>Movie</th>\n",
       "      <th></th>\n",
       "      <th></th>\n",
       "      <th></th>\n",
       "      <th></th>\n",
       "      <th></th>\n",
       "      <th></th>\n",
       "    </tr>\n",
       "  </thead>\n",
       "  <tbody>\n",
       "    <tr>\n",
       "      <th>Aquaman</th>\n",
       "      <td>4</td>\n",
       "      <td>1</td>\n",
       "      <td>2</td>\n",
       "      <td>2</td>\n",
       "      <td>2</td>\n",
       "      <td>2</td>\n",
       "    </tr>\n",
       "    <tr>\n",
       "      <th>Avengers: Infinity War</th>\n",
       "      <td>2</td>\n",
       "      <td>5</td>\n",
       "      <td>2</td>\n",
       "      <td>5</td>\n",
       "      <td>5</td>\n",
       "      <td>1</td>\n",
       "    </tr>\n",
       "    <tr>\n",
       "      <th>Black Panther</th>\n",
       "      <td>5</td>\n",
       "      <td>2</td>\n",
       "      <td>5</td>\n",
       "      <td>1</td>\n",
       "      <td>1</td>\n",
       "      <td>5</td>\n",
       "    </tr>\n",
       "    <tr>\n",
       "      <th>Bohemian Rhapsody</th>\n",
       "      <td>2</td>\n",
       "      <td>3</td>\n",
       "      <td>4</td>\n",
       "      <td>4</td>\n",
       "      <td>1</td>\n",
       "      <td>5</td>\n",
       "    </tr>\n",
       "    <tr>\n",
       "      <th>Deadpool 2</th>\n",
       "      <td>3</td>\n",
       "      <td>2</td>\n",
       "      <td>4</td>\n",
       "      <td>5</td>\n",
       "      <td>1</td>\n",
       "      <td>2</td>\n",
       "    </tr>\n",
       "    <tr>\n",
       "      <th>Fantastic Beasts: The Crimes of Grindelwald</th>\n",
       "      <td>5</td>\n",
       "      <td>4</td>\n",
       "      <td>1</td>\n",
       "      <td>2</td>\n",
       "      <td>5</td>\n",
       "      <td>3</td>\n",
       "    </tr>\n",
       "    <tr>\n",
       "      <th>Incredibles 2</th>\n",
       "      <td>4</td>\n",
       "      <td>2</td>\n",
       "      <td>3</td>\n",
       "      <td>4</td>\n",
       "      <td>4</td>\n",
       "      <td>3</td>\n",
       "    </tr>\n",
       "    <tr>\n",
       "      <th>Jurassic World: Fallen Kingdom</th>\n",
       "      <td>2</td>\n",
       "      <td>3</td>\n",
       "      <td>5</td>\n",
       "      <td>4</td>\n",
       "      <td>5</td>\n",
       "      <td>4</td>\n",
       "    </tr>\n",
       "    <tr>\n",
       "      <th>Mission: Impossible – Fallout</th>\n",
       "      <td>5</td>\n",
       "      <td>5</td>\n",
       "      <td>4</td>\n",
       "      <td>3</td>\n",
       "      <td>2</td>\n",
       "      <td>3</td>\n",
       "    </tr>\n",
       "    <tr>\n",
       "      <th>Venom</th>\n",
       "      <td>4</td>\n",
       "      <td>1</td>\n",
       "      <td>4</td>\n",
       "      <td>5</td>\n",
       "      <td>2</td>\n",
       "      <td>3</td>\n",
       "    </tr>\n",
       "  </tbody>\n",
       "</table>\n",
       "</div>"
      ],
      "text/plain": [
       "                                             Brandon  Emily  Cleo  Rusty  \\\n",
       "Movie                                                                      \n",
       "Aquaman                                            4      1     2      2   \n",
       "Avengers: Infinity War                             2      5     2      5   \n",
       "Black Panther                                      5      2     5      1   \n",
       "Bohemian Rhapsody                                  2      3     4      4   \n",
       "Deadpool 2                                         3      2     4      5   \n",
       "Fantastic Beasts: The Crimes of Grindelwald        5      4     1      2   \n",
       "Incredibles 2                                      4      2     3      4   \n",
       "Jurassic World: Fallen Kingdom                     2      3     5      4   \n",
       "Mission: Impossible – Fallout                      5      5     4      3   \n",
       "Venom                                              4      1     4      5   \n",
       "\n",
       "                                             Samantha  Tom  \n",
       "Movie                                                       \n",
       "Aquaman                                             2    2  \n",
       "Avengers: Infinity War                              5    1  \n",
       "Black Panther                                       1    5  \n",
       "Bohemian Rhapsody                                   1    5  \n",
       "Deadpool 2                                          1    2  \n",
       "Fantastic Beasts: The Crimes of Grindelwald         5    3  \n",
       "Incredibles 2                                       4    3  \n",
       "Jurassic World: Fallen Kingdom                      5    4  \n",
       "Mission: Impossible – Fallout                       2    3  \n",
       "Venom                                               2    3  "
      ]
     },
     "execution_count": 15,
     "metadata": {},
     "output_type": "execute_result"
    }
   ],
   "source": [
    "movie_ratings['Tom'] = pd.Series(Tom)\n",
    "movie_ratings"
   ]
  },
  {
   "cell_type": "code",
   "execution_count": 17,
   "id": "44264eeb",
   "metadata": {},
   "outputs": [
    {
     "data": {
      "text/html": [
       "<div>\n",
       "<style scoped>\n",
       "    .dataframe tbody tr th:only-of-type {\n",
       "        vertical-align: middle;\n",
       "    }\n",
       "\n",
       "    .dataframe tbody tr th {\n",
       "        vertical-align: top;\n",
       "    }\n",
       "\n",
       "    .dataframe thead th {\n",
       "        text-align: right;\n",
       "    }\n",
       "</style>\n",
       "<table border=\"1\" class=\"dataframe\">\n",
       "  <thead>\n",
       "    <tr style=\"text-align: right;\">\n",
       "      <th></th>\n",
       "      <th>Brandon</th>\n",
       "      <th>Emily</th>\n",
       "      <th>Cleo</th>\n",
       "      <th>Rusty</th>\n",
       "      <th>Samantha</th>\n",
       "      <th>Tom</th>\n",
       "    </tr>\n",
       "  </thead>\n",
       "  <tbody>\n",
       "    <tr>\n",
       "      <th>Brandon</th>\n",
       "      <td>1.000000</td>\n",
       "      <td>0.131006</td>\n",
       "      <td>0.142857</td>\n",
       "      <td>0.118818</td>\n",
       "      <td>0.117878</td>\n",
       "      <td>0.156613</td>\n",
       "    </tr>\n",
       "    <tr>\n",
       "      <th>Emily</th>\n",
       "      <td>0.131006</td>\n",
       "      <td>1.000000</td>\n",
       "      <td>0.126132</td>\n",
       "      <td>0.135078</td>\n",
       "      <td>0.163961</td>\n",
       "      <td>0.135078</td>\n",
       "    </tr>\n",
       "    <tr>\n",
       "      <th>Cleo</th>\n",
       "      <td>0.142857</td>\n",
       "      <td>0.126132</td>\n",
       "      <td>1.000000</td>\n",
       "      <td>0.152259</td>\n",
       "      <td>0.108152</td>\n",
       "      <td>0.217129</td>\n",
       "    </tr>\n",
       "    <tr>\n",
       "      <th>Rusty</th>\n",
       "      <td>0.118818</td>\n",
       "      <td>0.135078</td>\n",
       "      <td>0.152259</td>\n",
       "      <td>1.000000</td>\n",
       "      <td>0.129732</td>\n",
       "      <td>0.126132</td>\n",
       "    </tr>\n",
       "    <tr>\n",
       "      <th>Samantha</th>\n",
       "      <td>0.117878</td>\n",
       "      <td>0.163961</td>\n",
       "      <td>0.108152</td>\n",
       "      <td>0.129732</td>\n",
       "      <td>1.000000</td>\n",
       "      <td>0.116961</td>\n",
       "    </tr>\n",
       "    <tr>\n",
       "      <th>Tom</th>\n",
       "      <td>0.156613</td>\n",
       "      <td>0.135078</td>\n",
       "      <td>0.217129</td>\n",
       "      <td>0.126132</td>\n",
       "      <td>0.116961</td>\n",
       "      <td>1.000000</td>\n",
       "    </tr>\n",
       "  </tbody>\n",
       "</table>\n",
       "</div>"
      ],
      "text/plain": [
       "           Brandon     Emily      Cleo     Rusty  Samantha       Tom\n",
       "Brandon   1.000000  0.131006  0.142857  0.118818  0.117878  0.156613\n",
       "Emily     0.131006  1.000000  0.126132  0.135078  0.163961  0.135078\n",
       "Cleo      0.142857  0.126132  1.000000  0.152259  0.108152  0.217129\n",
       "Rusty     0.118818  0.135078  0.152259  1.000000  0.129732  0.126132\n",
       "Samantha  0.117878  0.163961  0.108152  0.129732  1.000000  0.116961\n",
       "Tom       0.156613  0.135078  0.217129  0.126132  0.116961  1.000000"
      ]
     },
     "execution_count": 17,
     "metadata": {},
     "output_type": "execute_result"
    }
   ],
   "source": [
    "# Distances calculation in the n-dimensional space\n",
    "\n",
    "euclid_dist_norm = pd.DataFrame(1/(1 + squareform(pdist(movie_ratings.T, 'euclidean'))),\n",
    "                                index=movie_ratings.columns,\n",
    "                                columns=movie_ratings.columns)\n",
    "\n",
    "euclid_dist_norm"
   ]
  },
  {
   "cell_type": "code",
   "execution_count": 18,
   "id": "e4bc5a2f",
   "metadata": {},
   "outputs": [
    {
     "data": {
      "text/plain": [
       "Cleo        0.217129\n",
       "Brandon     0.156613\n",
       "Emily       0.135078\n",
       "Rusty       0.126132\n",
       "Samantha    0.116961\n",
       "Name: Tom, dtype: float64"
      ]
     },
     "execution_count": 18,
     "metadata": {},
     "output_type": "execute_result"
    }
   ],
   "source": [
    "# Similarities to the new User\n",
    "\n",
    "euclid_simil_norm = euclid_dist_norm['Tom'].sort_values(ascending=False)[1:]\n",
    "euclid_simil_norm"
   ]
  },
  {
   "cell_type": "code",
   "execution_count": 19,
   "id": "20ac4a46",
   "metadata": {},
   "outputs": [
    {
     "data": {
      "text/html": [
       "<div>\n",
       "<style scoped>\n",
       "    .dataframe tbody tr th:only-of-type {\n",
       "        vertical-align: middle;\n",
       "    }\n",
       "\n",
       "    .dataframe tbody tr th {\n",
       "        vertical-align: top;\n",
       "    }\n",
       "\n",
       "    .dataframe thead th {\n",
       "        text-align: right;\n",
       "    }\n",
       "</style>\n",
       "<table border=\"1\" class=\"dataframe\">\n",
       "  <thead>\n",
       "    <tr style=\"text-align: right;\">\n",
       "      <th></th>\n",
       "      <th>Brandon</th>\n",
       "      <th>Emily</th>\n",
       "      <th>Cleo</th>\n",
       "      <th>Rusty</th>\n",
       "      <th>Samantha</th>\n",
       "    </tr>\n",
       "    <tr>\n",
       "      <th>Movie</th>\n",
       "      <th></th>\n",
       "      <th></th>\n",
       "      <th></th>\n",
       "      <th></th>\n",
       "      <th></th>\n",
       "    </tr>\n",
       "  </thead>\n",
       "  <tbody>\n",
       "    <tr>\n",
       "      <th>Beauty and the Beast</th>\n",
       "      <td>2</td>\n",
       "      <td>5</td>\n",
       "      <td>2</td>\n",
       "      <td>5</td>\n",
       "      <td>2</td>\n",
       "    </tr>\n",
       "    <tr>\n",
       "      <th>Despicable Me 3</th>\n",
       "      <td>4</td>\n",
       "      <td>5</td>\n",
       "      <td>5</td>\n",
       "      <td>1</td>\n",
       "      <td>2</td>\n",
       "    </tr>\n",
       "    <tr>\n",
       "      <th>Guardians of the Galaxy Vol. 2</th>\n",
       "      <td>4</td>\n",
       "      <td>1</td>\n",
       "      <td>5</td>\n",
       "      <td>4</td>\n",
       "      <td>2</td>\n",
       "    </tr>\n",
       "    <tr>\n",
       "      <th>Jumanji: Welcome to the Jungle</th>\n",
       "      <td>4</td>\n",
       "      <td>3</td>\n",
       "      <td>3</td>\n",
       "      <td>2</td>\n",
       "      <td>5</td>\n",
       "    </tr>\n",
       "    <tr>\n",
       "      <th>Spider-Man: Homecoming</th>\n",
       "      <td>1</td>\n",
       "      <td>3</td>\n",
       "      <td>5</td>\n",
       "      <td>2</td>\n",
       "      <td>5</td>\n",
       "    </tr>\n",
       "    <tr>\n",
       "      <th>Star Wars: The Last Jedi</th>\n",
       "      <td>5</td>\n",
       "      <td>4</td>\n",
       "      <td>1</td>\n",
       "      <td>2</td>\n",
       "      <td>2</td>\n",
       "    </tr>\n",
       "    <tr>\n",
       "      <th>The Fate of the Furious</th>\n",
       "      <td>2</td>\n",
       "      <td>1</td>\n",
       "      <td>3</td>\n",
       "      <td>3</td>\n",
       "      <td>3</td>\n",
       "    </tr>\n",
       "    <tr>\n",
       "      <th>Thor: Ragnarok</th>\n",
       "      <td>4</td>\n",
       "      <td>3</td>\n",
       "      <td>4</td>\n",
       "      <td>1</td>\n",
       "      <td>5</td>\n",
       "    </tr>\n",
       "    <tr>\n",
       "      <th>Wolf Warrior 2</th>\n",
       "      <td>5</td>\n",
       "      <td>3</td>\n",
       "      <td>2</td>\n",
       "      <td>3</td>\n",
       "      <td>4</td>\n",
       "    </tr>\n",
       "    <tr>\n",
       "      <th>Wonder Woman</th>\n",
       "      <td>4</td>\n",
       "      <td>3</td>\n",
       "      <td>4</td>\n",
       "      <td>3</td>\n",
       "      <td>4</td>\n",
       "    </tr>\n",
       "  </tbody>\n",
       "</table>\n",
       "</div>"
      ],
      "text/plain": [
       "                                Brandon  Emily  Cleo  Rusty  Samantha\n",
       "Movie                                                                \n",
       "Beauty and the Beast                  2      5     2      5         2\n",
       "Despicable Me 3                       4      5     5      1         2\n",
       "Guardians of the Galaxy Vol. 2        4      1     5      4         2\n",
       "Jumanji: Welcome to the Jungle        4      3     3      2         5\n",
       "Spider-Man: Homecoming                1      3     5      2         5\n",
       "Star Wars: The Last Jedi              5      4     1      2         2\n",
       "The Fate of the Furious               2      1     3      3         3\n",
       "Thor: Ragnarok                        4      3     4      1         5\n",
       "Wolf Warrior 2                        5      3     2      3         4\n",
       "Wonder Woman                          4      3     4      3         4"
      ]
     },
     "execution_count": 19,
     "metadata": {},
     "output_type": "execute_result"
    }
   ],
   "source": [
    "# Movies that the new User user hasn't watched\n",
    "\n",
    "movie_ratings_test = pd.read_csv('./datasets/movie_ratings_test.csv').set_index('Movie')\n",
    "recommend_euclid = movie_ratings_test.copy()\n",
    "recommend_euclid"
   ]
  },
  {
   "cell_type": "code",
   "execution_count": 20,
   "id": "909a3a3a",
   "metadata": {},
   "outputs": [
    {
     "data": {
      "text/plain": [
       "dict_items([('Cleo', 0.21712927295533244), ('Brandon', 0.1566130288262323), ('Emily', 0.13507810593582123), ('Rusty', 0.1261319836228832), ('Samantha', 0.11696132920126338)])"
      ]
     },
     "execution_count": 20,
     "metadata": {},
     "output_type": "execute_result"
    }
   ],
   "source": [
    "# Similarities to the new User (we need to reassemble the data)\n",
    "\n",
    "euclid_simil_items = dict(euclid_simil_norm).items()\n",
    "euclid_simil_items"
   ]
  },
  {
   "cell_type": "code",
   "execution_count": 21,
   "id": "18763067",
   "metadata": {},
   "outputs": [
    {
     "data": {
      "text/html": [
       "<div>\n",
       "<style scoped>\n",
       "    .dataframe tbody tr th:only-of-type {\n",
       "        vertical-align: middle;\n",
       "    }\n",
       "\n",
       "    .dataframe tbody tr th {\n",
       "        vertical-align: top;\n",
       "    }\n",
       "\n",
       "    .dataframe thead th {\n",
       "        text-align: right;\n",
       "    }\n",
       "</style>\n",
       "<table border=\"1\" class=\"dataframe\">\n",
       "  <thead>\n",
       "    <tr style=\"text-align: right;\">\n",
       "      <th></th>\n",
       "      <th>Brandon</th>\n",
       "      <th>Emily</th>\n",
       "      <th>Cleo</th>\n",
       "      <th>Rusty</th>\n",
       "      <th>Samantha</th>\n",
       "    </tr>\n",
       "    <tr>\n",
       "      <th>Movie</th>\n",
       "      <th></th>\n",
       "      <th></th>\n",
       "      <th></th>\n",
       "      <th></th>\n",
       "      <th></th>\n",
       "    </tr>\n",
       "  </thead>\n",
       "  <tbody>\n",
       "    <tr>\n",
       "      <th>Beauty and the Beast</th>\n",
       "      <td>0.313226</td>\n",
       "      <td>0.675391</td>\n",
       "      <td>0.434259</td>\n",
       "      <td>0.630660</td>\n",
       "      <td>0.233923</td>\n",
       "    </tr>\n",
       "    <tr>\n",
       "      <th>Despicable Me 3</th>\n",
       "      <td>0.626452</td>\n",
       "      <td>0.675391</td>\n",
       "      <td>1.085646</td>\n",
       "      <td>0.126132</td>\n",
       "      <td>0.233923</td>\n",
       "    </tr>\n",
       "    <tr>\n",
       "      <th>Guardians of the Galaxy Vol. 2</th>\n",
       "      <td>0.626452</td>\n",
       "      <td>0.135078</td>\n",
       "      <td>1.085646</td>\n",
       "      <td>0.504528</td>\n",
       "      <td>0.233923</td>\n",
       "    </tr>\n",
       "    <tr>\n",
       "      <th>Jumanji: Welcome to the Jungle</th>\n",
       "      <td>0.626452</td>\n",
       "      <td>0.405234</td>\n",
       "      <td>0.651388</td>\n",
       "      <td>0.252264</td>\n",
       "      <td>0.584807</td>\n",
       "    </tr>\n",
       "    <tr>\n",
       "      <th>Spider-Man: Homecoming</th>\n",
       "      <td>0.156613</td>\n",
       "      <td>0.405234</td>\n",
       "      <td>1.085646</td>\n",
       "      <td>0.252264</td>\n",
       "      <td>0.584807</td>\n",
       "    </tr>\n",
       "    <tr>\n",
       "      <th>Star Wars: The Last Jedi</th>\n",
       "      <td>0.783065</td>\n",
       "      <td>0.540312</td>\n",
       "      <td>0.217129</td>\n",
       "      <td>0.252264</td>\n",
       "      <td>0.233923</td>\n",
       "    </tr>\n",
       "    <tr>\n",
       "      <th>The Fate of the Furious</th>\n",
       "      <td>0.313226</td>\n",
       "      <td>0.135078</td>\n",
       "      <td>0.651388</td>\n",
       "      <td>0.378396</td>\n",
       "      <td>0.350884</td>\n",
       "    </tr>\n",
       "    <tr>\n",
       "      <th>Thor: Ragnarok</th>\n",
       "      <td>0.626452</td>\n",
       "      <td>0.405234</td>\n",
       "      <td>0.868517</td>\n",
       "      <td>0.126132</td>\n",
       "      <td>0.584807</td>\n",
       "    </tr>\n",
       "    <tr>\n",
       "      <th>Wolf Warrior 2</th>\n",
       "      <td>0.783065</td>\n",
       "      <td>0.405234</td>\n",
       "      <td>0.434259</td>\n",
       "      <td>0.378396</td>\n",
       "      <td>0.467845</td>\n",
       "    </tr>\n",
       "    <tr>\n",
       "      <th>Wonder Woman</th>\n",
       "      <td>0.626452</td>\n",
       "      <td>0.405234</td>\n",
       "      <td>0.868517</td>\n",
       "      <td>0.378396</td>\n",
       "      <td>0.467845</td>\n",
       "    </tr>\n",
       "  </tbody>\n",
       "</table>\n",
       "</div>"
      ],
      "text/plain": [
       "                                 Brandon     Emily      Cleo     Rusty  \\\n",
       "Movie                                                                    \n",
       "Beauty and the Beast            0.313226  0.675391  0.434259  0.630660   \n",
       "Despicable Me 3                 0.626452  0.675391  1.085646  0.126132   \n",
       "Guardians of the Galaxy Vol. 2  0.626452  0.135078  1.085646  0.504528   \n",
       "Jumanji: Welcome to the Jungle  0.626452  0.405234  0.651388  0.252264   \n",
       "Spider-Man: Homecoming          0.156613  0.405234  1.085646  0.252264   \n",
       "Star Wars: The Last Jedi        0.783065  0.540312  0.217129  0.252264   \n",
       "The Fate of the Furious         0.313226  0.135078  0.651388  0.378396   \n",
       "Thor: Ragnarok                  0.626452  0.405234  0.868517  0.126132   \n",
       "Wolf Warrior 2                  0.783065  0.405234  0.434259  0.378396   \n",
       "Wonder Woman                    0.626452  0.405234  0.868517  0.378396   \n",
       "\n",
       "                                Samantha  \n",
       "Movie                                     \n",
       "Beauty and the Beast            0.233923  \n",
       "Despicable Me 3                 0.233923  \n",
       "Guardians of the Galaxy Vol. 2  0.233923  \n",
       "Jumanji: Welcome to the Jungle  0.584807  \n",
       "Spider-Man: Homecoming          0.584807  \n",
       "Star Wars: The Last Jedi        0.233923  \n",
       "The Fate of the Furious         0.350884  \n",
       "Thor: Ragnarok                  0.584807  \n",
       "Wolf Warrior 2                  0.467845  \n",
       "Wonder Woman                    0.467845  "
      ]
     },
     "execution_count": 21,
     "metadata": {},
     "output_type": "execute_result"
    }
   ],
   "source": [
    "# Movies matrix weights by user\n",
    "\n",
    "for name, score in euclid_simil_items:\n",
    "    recommend_euclid[name] = recommend_euclid[name] * score\n",
    "recommend_euclid"
   ]
  },
  {
   "cell_type": "code",
   "execution_count": 22,
   "id": "fbe95497",
   "metadata": {},
   "outputs": [
    {
     "data": {
      "text/html": [
       "<div>\n",
       "<style scoped>\n",
       "    .dataframe tbody tr th:only-of-type {\n",
       "        vertical-align: middle;\n",
       "    }\n",
       "\n",
       "    .dataframe tbody tr th {\n",
       "        vertical-align: top;\n",
       "    }\n",
       "\n",
       "    .dataframe thead th {\n",
       "        text-align: right;\n",
       "    }\n",
       "</style>\n",
       "<table border=\"1\" class=\"dataframe\">\n",
       "  <thead>\n",
       "    <tr style=\"text-align: right;\">\n",
       "      <th></th>\n",
       "      <th>Brandon</th>\n",
       "      <th>Emily</th>\n",
       "      <th>Cleo</th>\n",
       "      <th>Rusty</th>\n",
       "      <th>Samantha</th>\n",
       "      <th>Total Weight per Movie</th>\n",
       "    </tr>\n",
       "    <tr>\n",
       "      <th>Movie</th>\n",
       "      <th></th>\n",
       "      <th></th>\n",
       "      <th></th>\n",
       "      <th></th>\n",
       "      <th></th>\n",
       "      <th></th>\n",
       "    </tr>\n",
       "  </thead>\n",
       "  <tbody>\n",
       "    <tr>\n",
       "      <th>Despicable Me 3</th>\n",
       "      <td>0.626452</td>\n",
       "      <td>0.675391</td>\n",
       "      <td>1.085646</td>\n",
       "      <td>0.126132</td>\n",
       "      <td>0.233923</td>\n",
       "      <td>2.747544</td>\n",
       "    </tr>\n",
       "    <tr>\n",
       "      <th>Wonder Woman</th>\n",
       "      <td>0.626452</td>\n",
       "      <td>0.405234</td>\n",
       "      <td>0.868517</td>\n",
       "      <td>0.378396</td>\n",
       "      <td>0.467845</td>\n",
       "      <td>2.746445</td>\n",
       "    </tr>\n",
       "    <tr>\n",
       "      <th>Thor: Ragnarok</th>\n",
       "      <td>0.626452</td>\n",
       "      <td>0.405234</td>\n",
       "      <td>0.868517</td>\n",
       "      <td>0.126132</td>\n",
       "      <td>0.584807</td>\n",
       "      <td>2.611142</td>\n",
       "    </tr>\n",
       "    <tr>\n",
       "      <th>Guardians of the Galaxy Vol. 2</th>\n",
       "      <td>0.626452</td>\n",
       "      <td>0.135078</td>\n",
       "      <td>1.085646</td>\n",
       "      <td>0.504528</td>\n",
       "      <td>0.233923</td>\n",
       "      <td>2.585627</td>\n",
       "    </tr>\n",
       "    <tr>\n",
       "      <th>Jumanji: Welcome to the Jungle</th>\n",
       "      <td>0.626452</td>\n",
       "      <td>0.405234</td>\n",
       "      <td>0.651388</td>\n",
       "      <td>0.252264</td>\n",
       "      <td>0.584807</td>\n",
       "      <td>2.520145</td>\n",
       "    </tr>\n",
       "    <tr>\n",
       "      <th>Spider-Man: Homecoming</th>\n",
       "      <td>0.156613</td>\n",
       "      <td>0.405234</td>\n",
       "      <td>1.085646</td>\n",
       "      <td>0.252264</td>\n",
       "      <td>0.584807</td>\n",
       "      <td>2.484564</td>\n",
       "    </tr>\n",
       "    <tr>\n",
       "      <th>Wolf Warrior 2</th>\n",
       "      <td>0.783065</td>\n",
       "      <td>0.405234</td>\n",
       "      <td>0.434259</td>\n",
       "      <td>0.378396</td>\n",
       "      <td>0.467845</td>\n",
       "      <td>2.468799</td>\n",
       "    </tr>\n",
       "    <tr>\n",
       "      <th>Beauty and the Beast</th>\n",
       "      <td>0.313226</td>\n",
       "      <td>0.675391</td>\n",
       "      <td>0.434259</td>\n",
       "      <td>0.630660</td>\n",
       "      <td>0.233923</td>\n",
       "      <td>2.287458</td>\n",
       "    </tr>\n",
       "    <tr>\n",
       "      <th>Star Wars: The Last Jedi</th>\n",
       "      <td>0.783065</td>\n",
       "      <td>0.540312</td>\n",
       "      <td>0.217129</td>\n",
       "      <td>0.252264</td>\n",
       "      <td>0.233923</td>\n",
       "      <td>2.026693</td>\n",
       "    </tr>\n",
       "    <tr>\n",
       "      <th>The Fate of the Furious</th>\n",
       "      <td>0.313226</td>\n",
       "      <td>0.135078</td>\n",
       "      <td>0.651388</td>\n",
       "      <td>0.378396</td>\n",
       "      <td>0.350884</td>\n",
       "      <td>1.828972</td>\n",
       "    </tr>\n",
       "  </tbody>\n",
       "</table>\n",
       "</div>"
      ],
      "text/plain": [
       "                                 Brandon     Emily      Cleo     Rusty  \\\n",
       "Movie                                                                    \n",
       "Despicable Me 3                 0.626452  0.675391  1.085646  0.126132   \n",
       "Wonder Woman                    0.626452  0.405234  0.868517  0.378396   \n",
       "Thor: Ragnarok                  0.626452  0.405234  0.868517  0.126132   \n",
       "Guardians of the Galaxy Vol. 2  0.626452  0.135078  1.085646  0.504528   \n",
       "Jumanji: Welcome to the Jungle  0.626452  0.405234  0.651388  0.252264   \n",
       "Spider-Man: Homecoming          0.156613  0.405234  1.085646  0.252264   \n",
       "Wolf Warrior 2                  0.783065  0.405234  0.434259  0.378396   \n",
       "Beauty and the Beast            0.313226  0.675391  0.434259  0.630660   \n",
       "Star Wars: The Last Jedi        0.783065  0.540312  0.217129  0.252264   \n",
       "The Fate of the Furious         0.313226  0.135078  0.651388  0.378396   \n",
       "\n",
       "                                Samantha  Total Weight per Movie  \n",
       "Movie                                                             \n",
       "Despicable Me 3                 0.233923                2.747544  \n",
       "Wonder Woman                    0.467845                2.746445  \n",
       "Thor: Ragnarok                  0.584807                2.611142  \n",
       "Guardians of the Galaxy Vol. 2  0.233923                2.585627  \n",
       "Jumanji: Welcome to the Jungle  0.584807                2.520145  \n",
       "Spider-Man: Homecoming          0.584807                2.484564  \n",
       "Wolf Warrior 2                  0.467845                2.468799  \n",
       "Beauty and the Beast            0.233923                2.287458  \n",
       "Star Wars: The Last Jedi        0.233923                2.026693  \n",
       "The Fate of the Furious         0.350884                1.828972  "
      ]
     },
     "execution_count": 22,
     "metadata": {},
     "output_type": "execute_result"
    }
   ],
   "source": [
    "# Movies matrix weights cosidering all users (i.e.: Total Weight per Movie)\n",
    "\n",
    "recommend_euclid['Total Weight per Movie'] = recommend_euclid.sum(axis=1)\n",
    "recommend_euclid = recommend_euclid.sort_values('Total Weight per Movie', ascending=False)\n",
    "recommend_euclid"
   ]
  },
  {
   "cell_type": "code",
   "execution_count": 23,
   "id": "f04bbf0a",
   "metadata": {},
   "outputs": [
    {
     "data": {
      "text/html": [
       "<div>\n",
       "<style scoped>\n",
       "    .dataframe tbody tr th:only-of-type {\n",
       "        vertical-align: middle;\n",
       "    }\n",
       "\n",
       "    .dataframe tbody tr th {\n",
       "        vertical-align: top;\n",
       "    }\n",
       "\n",
       "    .dataframe thead th {\n",
       "        text-align: right;\n",
       "    }\n",
       "</style>\n",
       "<table border=\"1\" class=\"dataframe\">\n",
       "  <thead>\n",
       "    <tr style=\"text-align: right;\">\n",
       "      <th></th>\n",
       "      <th>Total Weight per Movie</th>\n",
       "    </tr>\n",
       "    <tr>\n",
       "      <th>Movie</th>\n",
       "      <th></th>\n",
       "    </tr>\n",
       "  </thead>\n",
       "  <tbody>\n",
       "    <tr>\n",
       "      <th>Despicable Me 3</th>\n",
       "      <td>2.747544</td>\n",
       "    </tr>\n",
       "    <tr>\n",
       "      <th>Wonder Woman</th>\n",
       "      <td>2.746445</td>\n",
       "    </tr>\n",
       "    <tr>\n",
       "      <th>Thor: Ragnarok</th>\n",
       "      <td>2.611142</td>\n",
       "    </tr>\n",
       "    <tr>\n",
       "      <th>Guardians of the Galaxy Vol. 2</th>\n",
       "      <td>2.585627</td>\n",
       "    </tr>\n",
       "    <tr>\n",
       "      <th>Jumanji: Welcome to the Jungle</th>\n",
       "      <td>2.520145</td>\n",
       "    </tr>\n",
       "  </tbody>\n",
       "</table>\n",
       "</div>"
      ],
      "text/plain": [
       "                                Total Weight per Movie\n",
       "Movie                                                 \n",
       "Despicable Me 3                               2.747544\n",
       "Wonder Woman                                  2.746445\n",
       "Thor: Ragnarok                                2.611142\n",
       "Guardians of the Galaxy Vol. 2                2.585627\n",
       "Jumanji: Welcome to the Jungle                2.520145"
      ]
     },
     "execution_count": 23,
     "metadata": {},
     "output_type": "execute_result"
    }
   ],
   "source": [
    "# Our recommendation for Tom!!!\n",
    "\n",
    "top5_movies_euclid = recommend_euclid[['Total Weight per Movie']].head()\n",
    "top5_movies_euclid"
   ]
  },
  {
   "cell_type": "markdown",
   "id": "76a97cc6",
   "metadata": {},
   "source": [
    "---"
   ]
  },
  {
   "cell_type": "code",
   "execution_count": 29,
   "id": "de71f747",
   "metadata": {},
   "outputs": [
    {
     "data": {
      "text/html": [
       "<div>\n",
       "<style scoped>\n",
       "    .dataframe tbody tr th:only-of-type {\n",
       "        vertical-align: middle;\n",
       "    }\n",
       "\n",
       "    .dataframe tbody tr th {\n",
       "        vertical-align: top;\n",
       "    }\n",
       "\n",
       "    .dataframe thead th {\n",
       "        text-align: right;\n",
       "    }\n",
       "</style>\n",
       "<table border=\"1\" class=\"dataframe\">\n",
       "  <thead>\n",
       "    <tr style=\"text-align: right;\">\n",
       "      <th></th>\n",
       "      <th>Total Weight per Movie</th>\n",
       "    </tr>\n",
       "    <tr>\n",
       "      <th>Movie</th>\n",
       "      <th></th>\n",
       "    </tr>\n",
       "  </thead>\n",
       "  <tbody>\n",
       "    <tr>\n",
       "      <th>Despicable Me 3</th>\n",
       "      <td>2.747544</td>\n",
       "    </tr>\n",
       "    <tr>\n",
       "      <th>Wonder Woman</th>\n",
       "      <td>2.746445</td>\n",
       "    </tr>\n",
       "    <tr>\n",
       "      <th>Thor: Ragnarok</th>\n",
       "      <td>2.611142</td>\n",
       "    </tr>\n",
       "    <tr>\n",
       "      <th>Guardians of the Galaxy Vol. 2</th>\n",
       "      <td>2.585627</td>\n",
       "    </tr>\n",
       "    <tr>\n",
       "      <th>Jumanji: Welcome to the Jungle</th>\n",
       "      <td>2.520145</td>\n",
       "    </tr>\n",
       "    <tr>\n",
       "      <th>Spider-Man: Homecoming</th>\n",
       "      <td>2.484564</td>\n",
       "    </tr>\n",
       "    <tr>\n",
       "      <th>Wolf Warrior 2</th>\n",
       "      <td>2.468799</td>\n",
       "    </tr>\n",
       "    <tr>\n",
       "      <th>Beauty and the Beast</th>\n",
       "      <td>2.287458</td>\n",
       "    </tr>\n",
       "    <tr>\n",
       "      <th>Star Wars: The Last Jedi</th>\n",
       "      <td>2.026693</td>\n",
       "    </tr>\n",
       "    <tr>\n",
       "      <th>The Fate of the Furious</th>\n",
       "      <td>1.828972</td>\n",
       "    </tr>\n",
       "  </tbody>\n",
       "</table>\n",
       "</div>"
      ],
      "text/plain": [
       "                                Total Weight per Movie\n",
       "Movie                                                 \n",
       "Despicable Me 3                               2.747544\n",
       "Wonder Woman                                  2.746445\n",
       "Thor: Ragnarok                                2.611142\n",
       "Guardians of the Galaxy Vol. 2                2.585627\n",
       "Jumanji: Welcome to the Jungle                2.520145\n",
       "Spider-Man: Homecoming                        2.484564\n",
       "Wolf Warrior 2                                2.468799\n",
       "Beauty and the Beast                          2.287458\n",
       "Star Wars: The Last Jedi                      2.026693\n",
       "The Fate of the Furious                       1.828972"
      ]
     },
     "execution_count": 29,
     "metadata": {},
     "output_type": "execute_result"
    }
   ],
   "source": [
    "#pasos 5 - 8 JUNTOS:\n",
    "\n",
    "euclid_simil_norm = euclid_dist_norm['Tom'].sort_values(ascending=False)[1:]\n",
    "\n",
    "movie_ratings_test = pd.read_csv('./datasets/movie_ratings_test.csv').set_index('Movie')\n",
    "\n",
    "recommend_euclid = movie_ratings_test.copy()\n",
    "\n",
    "euclid_simil_items = dict(euclid_simil_norm).items()\n",
    "\n",
    "for name, score in euclid_simil_items:\n",
    "    recommend_euclid[name] = recommend_euclid[name] * score\n",
    "\n",
    "recommend_euclid['Total Weight per Movie'] = recommend_euclid.sum(axis=1)\n",
    "recommend_euclid = recommend_euclid.sort_values('Total Weight per Movie', ascending=False)\n",
    "\n",
    "top5_movies_euclid = recommend_euclid[['Total Weight per Movie']]\n",
    "top5_movies_euclid"
   ]
  },
  {
   "cell_type": "markdown",
   "id": "bd99e8c5",
   "metadata": {},
   "source": [
    "### Cosine similarity\n",
    "\n",
    "Cosine similarity is generally used as a metric for measuring distance when the magnitude of the vectors does not matter and low complexity is required.\n",
    "\n",
    "![Image](./img/cosine_similarity.jpg)"
   ]
  },
  {
   "cell_type": "code",
   "execution_count": 24,
   "id": "344d7890",
   "metadata": {},
   "outputs": [
    {
     "data": {
      "image/png": "[encoded data removed]",
      "text/plain": [
       "<Figure size 864x576 with 1 Axes>"
      ]
     },
     "metadata": {
      "needs_background": "light"
     },
     "output_type": "display_data"
    }
   ],
   "source": [
    "# 2 dimensional space\n",
    "\n",
    "ratings_scatter('Venom', 'Incredibles 2')"
   ]
  },
  {
   "cell_type": "code",
   "execution_count": 25,
   "id": "ff300a00",
   "metadata": {},
   "outputs": [
    {
     "data": {
      "text/html": [
       "<div>\n",
       "<style scoped>\n",
       "    .dataframe tbody tr th:only-of-type {\n",
       "        vertical-align: middle;\n",
       "    }\n",
       "\n",
       "    .dataframe tbody tr th {\n",
       "        vertical-align: top;\n",
       "    }\n",
       "\n",
       "    .dataframe thead th {\n",
       "        text-align: right;\n",
       "    }\n",
       "</style>\n",
       "<table border=\"1\" class=\"dataframe\">\n",
       "  <thead>\n",
       "    <tr style=\"text-align: right;\">\n",
       "      <th></th>\n",
       "      <th>Brandon</th>\n",
       "      <th>Emily</th>\n",
       "      <th>Cleo</th>\n",
       "      <th>Rusty</th>\n",
       "      <th>Samantha</th>\n",
       "      <th>Tom</th>\n",
       "    </tr>\n",
       "  </thead>\n",
       "  <tbody>\n",
       "    <tr>\n",
       "      <th>Brandon</th>\n",
       "      <td>1.000000</td>\n",
       "      <td>0.857174</td>\n",
       "      <td>0.885260</td>\n",
       "      <td>0.838267</td>\n",
       "      <td>0.823128</td>\n",
       "      <td>0.903988</td>\n",
       "    </tr>\n",
       "    <tr>\n",
       "      <th>Emily</th>\n",
       "      <td>0.857174</td>\n",
       "      <td>1.000000</td>\n",
       "      <td>0.833399</td>\n",
       "      <td>0.863703</td>\n",
       "      <td>0.887485</td>\n",
       "      <td>0.837091</td>\n",
       "    </tr>\n",
       "    <tr>\n",
       "      <th>Cleo</th>\n",
       "      <td>0.885260</td>\n",
       "      <td>0.833399</td>\n",
       "      <td>1.000000</td>\n",
       "      <td>0.898415</td>\n",
       "      <td>0.780388</td>\n",
       "      <td>0.952432</td>\n",
       "    </tr>\n",
       "    <tr>\n",
       "      <th>Rusty</th>\n",
       "      <td>0.838267</td>\n",
       "      <td>0.863703</td>\n",
       "      <td>0.898415</td>\n",
       "      <td>1.000000</td>\n",
       "      <td>0.851898</td>\n",
       "      <td>0.844111</td>\n",
       "    </tr>\n",
       "    <tr>\n",
       "      <th>Samantha</th>\n",
       "      <td>0.823128</td>\n",
       "      <td>0.887485</td>\n",
       "      <td>0.780388</td>\n",
       "      <td>0.851898</td>\n",
       "      <td>1.000000</td>\n",
       "      <td>0.792094</td>\n",
       "    </tr>\n",
       "    <tr>\n",
       "      <th>Tom</th>\n",
       "      <td>0.903988</td>\n",
       "      <td>0.837091</td>\n",
       "      <td>0.952432</td>\n",
       "      <td>0.844111</td>\n",
       "      <td>0.792094</td>\n",
       "      <td>1.000000</td>\n",
       "    </tr>\n",
       "  </tbody>\n",
       "</table>\n",
       "</div>"
      ],
      "text/plain": [
       "           Brandon     Emily      Cleo     Rusty  Samantha       Tom\n",
       "Brandon   1.000000  0.857174  0.885260  0.838267  0.823128  0.903988\n",
       "Emily     0.857174  1.000000  0.833399  0.863703  0.887485  0.837091\n",
       "Cleo      0.885260  0.833399  1.000000  0.898415  0.780388  0.952432\n",
       "Rusty     0.838267  0.863703  0.898415  1.000000  0.851898  0.844111\n",
       "Samantha  0.823128  0.887485  0.780388  0.851898  1.000000  0.792094\n",
       "Tom       0.903988  0.837091  0.952432  0.844111  0.792094  1.000000"
      ]
     },
     "execution_count": 25,
     "metadata": {},
     "output_type": "execute_result"
    }
   ],
   "source": [
    "# Cosine similarity calculation in the n-dimensional space \n",
    "\n",
    "movie_ratings = pd.read_csv('./datasets/movie_ratings.csv').set_index('Movie')\n",
    "movie_ratings['Tom'] = pd.Series(Tom)\n",
    "cosine_dist_norm = pd.DataFrame(1/(1 + squareform(pdist(movie_ratings.T, 'cosine'))),\n",
    "                                index=movie_ratings.columns,\n",
    "                                columns=movie_ratings.columns)\n",
    "\n",
    "cosine_dist_norm"
   ]
  },
  {
   "cell_type": "code",
   "execution_count": 26,
   "id": "5e65bc13",
   "metadata": {},
   "outputs": [
    {
     "data": {
      "text/html": [
       "<div>\n",
       "<style scoped>\n",
       "    .dataframe tbody tr th:only-of-type {\n",
       "        vertical-align: middle;\n",
       "    }\n",
       "\n",
       "    .dataframe tbody tr th {\n",
       "        vertical-align: top;\n",
       "    }\n",
       "\n",
       "    .dataframe thead th {\n",
       "        text-align: right;\n",
       "    }\n",
       "</style>\n",
       "<table border=\"1\" class=\"dataframe\">\n",
       "  <thead>\n",
       "    <tr style=\"text-align: right;\">\n",
       "      <th></th>\n",
       "      <th>Total Weight per Movie</th>\n",
       "    </tr>\n",
       "    <tr>\n",
       "      <th>Movie</th>\n",
       "      <th></th>\n",
       "    </tr>\n",
       "  </thead>\n",
       "  <tbody>\n",
       "    <tr>\n",
       "      <th>Wonder Woman</th>\n",
       "      <td>15.637662</td>\n",
       "    </tr>\n",
       "    <tr>\n",
       "      <th>Despicable Me 3</th>\n",
       "      <td>14.991867</td>\n",
       "    </tr>\n",
       "    <tr>\n",
       "      <th>Thor: Ragnarok</th>\n",
       "      <td>14.741533</td>\n",
       "    </tr>\n",
       "    <tr>\n",
       "      <th>Wolf Warrior 2</th>\n",
       "      <td>14.636786</td>\n",
       "    </tr>\n",
       "    <tr>\n",
       "      <th>Jumanji: Welcome to the Jungle</th>\n",
       "      <td>14.633212</td>\n",
       "    </tr>\n",
       "  </tbody>\n",
       "</table>\n",
       "</div>"
      ],
      "text/plain": [
       "                                Total Weight per Movie\n",
       "Movie                                                 \n",
       "Wonder Woman                                 15.637662\n",
       "Despicable Me 3                              14.991867\n",
       "Thor: Ragnarok                               14.741533\n",
       "Wolf Warrior 2                               14.636786\n",
       "Jumanji: Welcome to the Jungle               14.633212"
      ]
     },
     "execution_count": 26,
     "metadata": {},
     "output_type": "execute_result"
    }
   ],
   "source": [
    "# Our recommendation for Tom using Cosine Similarity\n",
    "\n",
    "movie_ratings_test = pd.read_csv('./datasets/movie_ratings_test.csv').set_index('Movie')\n",
    "recommend_cosine = movie_ratings_test.copy()\n",
    "cosine_simil_norm = cosine_dist_norm['Tom'].sort_values(ascending=False)[1:]\n",
    "cosine_simil_items = dict(cosine_simil_norm).items()\n",
    "for name, score in cosine_simil_items:\n",
    "    recommend_cosine[name] = recommend_cosine[name] * score\n",
    "recommend_cosine['Total Weight per Movie'] = recommend_cosine.sum(axis=1)\n",
    "recommend_cosine = recommend_cosine.sort_values('Total Weight per Movie', ascending=False)\n",
    "top5_movies_cosine = recommend_cosine[['Total Weight per Movie']].head()\n",
    "top5_movies_cosine"
   ]
  },
  {
   "cell_type": "markdown",
   "id": "6215abab",
   "metadata": {},
   "source": [
    "---"
   ]
  },
  {
   "cell_type": "code",
   "execution_count": null,
   "id": "36fc04cb",
   "metadata": {},
   "outputs": [],
   "source": []
  }
 ],
 "metadata": {
  "kernelspec": {
   "display_name": "Python [conda env:ironhack]",
   "language": "python",
   "name": "conda-env-ironhack-py"
  },
  "language_info": {
   "codemirror_mode": {
    "name": "ipython",
    "version": 3
   },
   "file_extension": ".py",
   "mimetype": "text/x-python",
   "name": "python",
   "nbconvert_exporter": "python",
   "pygments_lexer": "ipython3",
   "version": "3.7.11"
  }
 },
 "nbformat": 4,
 "nbformat_minor": 5
}
