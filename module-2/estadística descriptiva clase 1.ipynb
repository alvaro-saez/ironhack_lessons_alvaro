{
 "cells": [
  {
   "cell_type": "code",
   "execution_count": 1,
   "id": "ae98b14b",
   "metadata": {},
   "outputs": [],
   "source": [
    "import numpy as np\n",
    "import pandas as pd"
   ]
  },
  {
   "cell_type": "code",
   "execution_count": 49,
   "id": "1b1ea55b",
   "metadata": {},
   "outputs": [
    {
     "data": {
      "text/html": [
       "<div>\n",
       "<style scoped>\n",
       "    .dataframe tbody tr th:only-of-type {\n",
       "        vertical-align: middle;\n",
       "    }\n",
       "\n",
       "    .dataframe tbody tr th {\n",
       "        vertical-align: top;\n",
       "    }\n",
       "\n",
       "    .dataframe thead th {\n",
       "        text-align: right;\n",
       "    }\n",
       "</style>\n",
       "<table border=\"1\" class=\"dataframe\">\n",
       "  <thead>\n",
       "    <tr style=\"text-align: right;\">\n",
       "      <th></th>\n",
       "      <th>brainwt</th>\n",
       "      <th>bodywt</th>\n",
       "      <th>animal</th>\n",
       "    </tr>\n",
       "  </thead>\n",
       "  <tbody>\n",
       "    <tr>\n",
       "      <th>0</th>\n",
       "      <td>3.385</td>\n",
       "      <td>44.500</td>\n",
       "      <td>Arctic_fox</td>\n",
       "    </tr>\n",
       "    <tr>\n",
       "      <th>1</th>\n",
       "      <td>0.480</td>\n",
       "      <td>15.499</td>\n",
       "      <td>Owl_monkey</td>\n",
       "    </tr>\n",
       "    <tr>\n",
       "      <th>2</th>\n",
       "      <td>1.350</td>\n",
       "      <td>8.100</td>\n",
       "      <td>Beaver</td>\n",
       "    </tr>\n",
       "    <tr>\n",
       "      <th>3</th>\n",
       "      <td>464.983</td>\n",
       "      <td>423.012</td>\n",
       "      <td>Cow</td>\n",
       "    </tr>\n",
       "    <tr>\n",
       "      <th>4</th>\n",
       "      <td>36.328</td>\n",
       "      <td>119.498</td>\n",
       "      <td>Gray_wolf</td>\n",
       "    </tr>\n",
       "  </tbody>\n",
       "</table>\n",
       "</div>"
      ],
      "text/plain": [
       "   brainwt   bodywt      animal\n",
       "0    3.385   44.500  Arctic_fox\n",
       "1    0.480   15.499  Owl_monkey\n",
       "2    1.350    8.100      Beaver\n",
       "3  464.983  423.012         Cow\n",
       "4   36.328  119.498   Gray_wolf"
      ]
     },
     "execution_count": 49,
     "metadata": {},
     "output_type": "execute_result"
    }
   ],
   "source": [
    "df_animals = pd.read_csv(\"datasets/animals.csv\")\n",
    "df_animals.head()"
   ]
  },
  {
   "cell_type": "code",
   "execution_count": 6,
   "id": "93af0026",
   "metadata": {},
   "outputs": [
    {
     "data": {
      "text/plain": [
       "brainwt    float64\n",
       "bodywt     float64\n",
       "animal      object\n",
       "dtype: object"
      ]
     },
     "execution_count": 6,
     "metadata": {},
     "output_type": "execute_result"
    }
   ],
   "source": [
    "df_animals.dtypes"
   ]
  },
  {
   "cell_type": "markdown",
   "id": "04278211",
   "metadata": {},
   "source": [
    "## MEDIDAS DE TENDENCIA CENTRAL"
   ]
  },
  {
   "cell_type": "markdown",
   "id": "77f7690f",
   "metadata": {},
   "source": [
    "#### brainwt"
   ]
  },
  {
   "cell_type": "code",
   "execution_count": 29,
   "id": "67a2f690",
   "metadata": {},
   "outputs": [
    {
     "name": "stdout",
     "output_type": "stream",
     "text": [
      "mean: \n",
      "198.79429032258062\n",
      "median: \n",
      "3.3425\n",
      "mode: \n",
      "0    0.023\n",
      "1    3.500\n",
      "dtype: float64\n"
     ]
    }
   ],
   "source": [
    "animals_brainwt_mean = df_animals[\"brainwt\"].mean()\n",
    "animals_brainwt_median = df_animals[\"brainwt\"].median()\n",
    "animals_brainwt_mode = df_animals[\"brainwt\"].mode()\n",
    "\n",
    "print(\"mean: \")\n",
    "print(animals_brainwt_mean)\n",
    "print(\"median: \")\n",
    "print(animals_brainwt_median)\n",
    "print(\"mode: \" )\n",
    "print(animals_brainwt_mode)\n"
   ]
  },
  {
   "cell_type": "markdown",
   "id": "944753df",
   "metadata": {},
   "source": [
    "#### bodywt"
   ]
  },
  {
   "cell_type": "code",
   "execution_count": 16,
   "id": "987c4c98",
   "metadata": {},
   "outputs": [
    {
     "name": "stdout",
     "output_type": "stream",
     "text": [
      "mean: \n",
      "283.1353548387098\n",
      "median: \n",
      "17.25\n",
      "mode: \n",
      "0      1.000\n",
      "1     12.300\n",
      "2    114.996\n",
      "dtype: float64\n"
     ]
    }
   ],
   "source": [
    "animals_bodywt_mean = df_animals[\"bodywt\"].mean()\n",
    "animals_bodywt_median = df_animals[\"bodywt\"].median()\n",
    "animals_bodywt_mode = df_animals[\"bodywt\"].mode()\n",
    "\n",
    "print(\"mean: \")\n",
    "print(animals_bodywt_mean)\n",
    "print(\"median: \")\n",
    "print(animals_bodywt_median)\n",
    "print(\"mode: \" )\n",
    "print(animals_bodywt_mode)"
   ]
  },
  {
   "cell_type": "markdown",
   "id": "d71b9dec",
   "metadata": {},
   "source": [
    "#### animal"
   ]
  },
  {
   "cell_type": "code",
   "execution_count": 48,
   "id": "b7df6bd6",
   "metadata": {},
   "outputs": [
    {
     "data": {
      "text/plain": [
       "Arctic_fox       1\n",
       "Baboon           1\n",
       "Water_opossum    1\n",
       "Rhesus_monkey    1\n",
       "Kangaroo         1\n",
       "Name: animal, dtype: int64"
      ]
     },
     "execution_count": 48,
     "metadata": {},
     "output_type": "execute_result"
    }
   ],
   "source": [
    "df_animals[\"animal\"].value_counts().head()"
   ]
  },
  {
   "cell_type": "code",
   "execution_count": 32,
   "id": "a4dd1d81",
   "metadata": {},
   "outputs": [
    {
     "data": {
      "text/plain": [
       "'no vamos a hacer nada, todos se repiten una vez pq actuan como IDs'"
      ]
     },
     "execution_count": 32,
     "metadata": {},
     "output_type": "execute_result"
    }
   ],
   "source": [
    "\"\"\"no vamos a hacer nada, todos se repiten una vez pq actuan como IDs\"\"\""
   ]
  },
  {
   "cell_type": "markdown",
   "id": "a67a8054",
   "metadata": {},
   "source": [
    "## MEDIDAS DE DISPERSIÓN"
   ]
  },
  {
   "cell_type": "code",
   "execution_count": 39,
   "id": "4344b738",
   "metadata": {},
   "outputs": [
    {
     "data": {
      "text/plain": [
       "brainwt    0.005\n",
       "bodywt     0.140\n",
       "dtype: float64"
      ]
     },
     "execution_count": 39,
     "metadata": {},
     "output_type": "execute_result"
    }
   ],
   "source": [
    "df_animals[[\"brainwt\",\"bodywt\"]].min()"
   ]
  },
  {
   "cell_type": "code",
   "execution_count": 40,
   "id": "06454862",
   "metadata": {},
   "outputs": [
    {
     "data": {
      "text/plain": [
       "brainwt    6654.18\n",
       "bodywt     5711.86\n",
       "dtype: float64"
      ]
     },
     "execution_count": 40,
     "metadata": {},
     "output_type": "execute_result"
    }
   ],
   "source": [
    "df_animals[[\"brainwt\",\"bodywt\"]].max()"
   ]
  },
  {
   "cell_type": "code",
   "execution_count": 42,
   "id": "9ba7a5a2",
   "metadata": {},
   "outputs": [
    {
     "data": {
      "text/plain": [
       "brainwt    6654.175\n",
       "bodywt     5711.720\n",
       "dtype: float64"
      ]
     },
     "execution_count": 42,
     "metadata": {},
     "output_type": "execute_result"
    }
   ],
   "source": [
    "df_animals[[\"brainwt\",\"bodywt\"]].max() - df_animals[[\"brainwt\",\"bodywt\"]].min()"
   ]
  },
  {
   "cell_type": "code",
   "execution_count": 36,
   "id": "43d3848e",
   "metadata": {},
   "outputs": [
    {
     "data": {
      "text/plain": [
       "brainwt    899.182313\n",
       "bodywt     930.278876\n",
       "dtype: float64"
      ]
     },
     "execution_count": 36,
     "metadata": {},
     "output_type": "execute_result"
    }
   ],
   "source": [
    "df_animals[[\"brainwt\",\"bodywt\"]].std()"
   ]
  },
  {
   "cell_type": "code",
   "execution_count": 37,
   "id": "f0f2f6b8",
   "metadata": {},
   "outputs": [
    {
     "data": {
      "text/plain": [
       "brainwt    808528.832320\n",
       "bodywt     865418.787715\n",
       "dtype: float64"
      ]
     },
     "execution_count": 37,
     "metadata": {},
     "output_type": "execute_result"
    }
   ],
   "source": [
    "df_animals[[\"brainwt\",\"bodywt\"]].var()"
   ]
  },
  {
   "cell_type": "code",
   "execution_count": 44,
   "id": "ae187abc",
   "metadata": {},
   "outputs": [
    {
     "data": {
      "text/plain": [
       "brainwt    0.60\n",
       "bodywt     4.25\n",
       "Name: 0.25, dtype: float64"
      ]
     },
     "execution_count": 44,
     "metadata": {},
     "output_type": "execute_result"
    }
   ],
   "source": [
    "df_animals[[\"brainwt\",\"bodywt\"]].quantile(0.25)"
   ]
  },
  {
   "cell_type": "code",
   "execution_count": 45,
   "id": "dccbbedc",
   "metadata": {},
   "outputs": [
    {
     "data": {
      "text/plain": [
       "brainwt     3.3425\n",
       "bodywt     17.2500\n",
       "Name: 0.5, dtype: float64"
      ]
     },
     "execution_count": 45,
     "metadata": {},
     "output_type": "execute_result"
    }
   ],
   "source": [
    "df_animals[[\"brainwt\",\"bodywt\"]].quantile(0.50)"
   ]
  },
  {
   "cell_type": "code",
   "execution_count": 46,
   "id": "ca55dd3a",
   "metadata": {},
   "outputs": [
    {
     "data": {
      "text/plain": [
       "brainwt     48.20125\n",
       "bodywt     165.99825\n",
       "Name: 0.75, dtype: float64"
      ]
     },
     "execution_count": 46,
     "metadata": {},
     "output_type": "execute_result"
    }
   ],
   "source": [
    "df_animals[[\"brainwt\",\"bodywt\"]].quantile(0.75)"
   ]
  },
  {
   "cell_type": "code",
   "execution_count": 50,
   "id": "6bf45785",
   "metadata": {},
   "outputs": [
    {
     "data": {
      "text/html": [
       "<div>\n",
       "<style scoped>\n",
       "    .dataframe tbody tr th:only-of-type {\n",
       "        vertical-align: middle;\n",
       "    }\n",
       "\n",
       "    .dataframe tbody tr th {\n",
       "        vertical-align: top;\n",
       "    }\n",
       "\n",
       "    .dataframe thead th {\n",
       "        text-align: right;\n",
       "    }\n",
       "</style>\n",
       "<table border=\"1\" class=\"dataframe\">\n",
       "  <thead>\n",
       "    <tr style=\"text-align: right;\">\n",
       "      <th></th>\n",
       "      <th>brainwt</th>\n",
       "      <th>bodywt</th>\n",
       "    </tr>\n",
       "  </thead>\n",
       "  <tbody>\n",
       "    <tr>\n",
       "      <th>count</th>\n",
       "      <td>62.000000</td>\n",
       "      <td>62.000000</td>\n",
       "    </tr>\n",
       "    <tr>\n",
       "      <th>mean</th>\n",
       "      <td>198.794290</td>\n",
       "      <td>283.135355</td>\n",
       "    </tr>\n",
       "    <tr>\n",
       "      <th>std</th>\n",
       "      <td>899.182313</td>\n",
       "      <td>930.278876</td>\n",
       "    </tr>\n",
       "    <tr>\n",
       "      <th>min</th>\n",
       "      <td>0.005000</td>\n",
       "      <td>0.140000</td>\n",
       "    </tr>\n",
       "    <tr>\n",
       "      <th>25%</th>\n",
       "      <td>0.600000</td>\n",
       "      <td>4.250000</td>\n",
       "    </tr>\n",
       "    <tr>\n",
       "      <th>50%</th>\n",
       "      <td>3.342500</td>\n",
       "      <td>17.250000</td>\n",
       "    </tr>\n",
       "    <tr>\n",
       "      <th>75%</th>\n",
       "      <td>48.201250</td>\n",
       "      <td>165.998250</td>\n",
       "    </tr>\n",
       "    <tr>\n",
       "      <th>max</th>\n",
       "      <td>6654.180000</td>\n",
       "      <td>5711.860000</td>\n",
       "    </tr>\n",
       "  </tbody>\n",
       "</table>\n",
       "</div>"
      ],
      "text/plain": [
       "           brainwt       bodywt\n",
       "count    62.000000    62.000000\n",
       "mean    198.794290   283.135355\n",
       "std     899.182313   930.278876\n",
       "min       0.005000     0.140000\n",
       "25%       0.600000     4.250000\n",
       "50%       3.342500    17.250000\n",
       "75%      48.201250   165.998250\n",
       "max    6654.180000  5711.860000"
      ]
     },
     "execution_count": 50,
     "metadata": {},
     "output_type": "execute_result"
    }
   ],
   "source": [
    "df_animals.describe()"
   ]
  },
  {
   "cell_type": "markdown",
   "id": "c9b3c304",
   "metadata": {},
   "source": [
    "## VISUALIZACION"
   ]
  },
  {
   "cell_type": "code",
   "execution_count": 54,
   "id": "db2bcd0c",
   "metadata": {},
   "outputs": [
    {
     "data": {
      "image/png": "[encoded data removed]",
      "text/plain": [
       "<Figure size 432x288 with 1 Axes>"
      ]
     },
     "metadata": {
      "needs_background": "light"
     },
     "output_type": "display_data"
    }
   ],
   "source": [
    "import matplotlib\n",
    "\n",
    "df_animals.boxplot();"
   ]
  },
  {
   "cell_type": "code",
   "execution_count": 59,
   "id": "a53b5ab3",
   "metadata": {},
   "outputs": [
    {
     "data": {
      "image/png": "[encoded data removed]",
      "text/plain": [
       "<Figure size 432x288 with 2 Axes>"
      ]
     },
     "metadata": {
      "needs_background": "light"
     },
     "output_type": "display_data"
    }
   ],
   "source": [
    "df_animals.hist(bins=10);"
   ]
  },
  {
   "cell_type": "code",
   "execution_count": 61,
   "id": "5c33eaaf",
   "metadata": {},
   "outputs": [
    {
     "data": {
      "text/plain": [
       "'la mayor parte de los datos se encuentran a la izquierda, habiendo algunos outliers a la derecha (por arriba)'"
      ]
     },
     "execution_count": 61,
     "metadata": {},
     "output_type": "execute_result"
    }
   ],
   "source": [
    "\"\"\"la mayor parte de los datos se encuentran a la izquierda, habiendo algunos outliers a la derecha (por arriba)\"\"\""
   ]
  },
  {
   "cell_type": "code",
   "execution_count": null,
   "id": "fef81c2f",
   "metadata": {},
   "outputs": [],
   "source": []
  }
 ],
 "metadata": {
  "kernelspec": {
   "display_name": "Python [conda env:ironhack]",
   "language": "python",
   "name": "conda-env-ironhack-py"
  },
  "language_info": {
   "codemirror_mode": {
    "name": "ipython",
    "version": 3
   },
   "file_extension": ".py",
   "mimetype": "text/x-python",
   "name": "python",
   "nbconvert_exporter": "python",
   "pygments_lexer": "ipython3",
   "version": "3.7.11"
  }
 },
 "nbformat": 4,
 "nbformat_minor": 5
}
