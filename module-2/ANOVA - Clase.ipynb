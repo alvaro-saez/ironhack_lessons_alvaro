{
 "cells": [
  {
   "cell_type": "code",
   "execution_count": 71,
   "id": "9d4d98b6",
   "metadata": {},
   "outputs": [],
   "source": [
    "import pandas as pd\n",
    "import numpy as np\n",
    "import statsmodels.api as sm\n",
    "from statsmodels.formula.api import ols as ols\n",
    "from statsmodels.stats.multicomp import pairwise_tukeyhsd"
   ]
  },
  {
   "cell_type": "markdown",
   "id": "7d1744c6",
   "metadata": {},
   "source": [
    "## ejercicio 1 ANOVA DE UNA VIA"
   ]
  },
  {
   "cell_type": "code",
   "execution_count": 29,
   "id": "14221d5d",
   "metadata": {},
   "outputs": [
    {
     "data": {
      "text/html": [
       "<div>\n",
       "<style scoped>\n",
       "    .dataframe tbody tr th:only-of-type {\n",
       "        vertical-align: middle;\n",
       "    }\n",
       "\n",
       "    .dataframe tbody tr th {\n",
       "        vertical-align: top;\n",
       "    }\n",
       "\n",
       "    .dataframe thead th {\n",
       "        text-align: right;\n",
       "    }\n",
       "</style>\n",
       "<table border=\"1\" class=\"dataframe\">\n",
       "  <thead>\n",
       "    <tr style=\"text-align: right;\">\n",
       "      <th></th>\n",
       "      <th>posicion</th>\n",
       "      <th>bateo</th>\n",
       "    </tr>\n",
       "  </thead>\n",
       "  <tbody>\n",
       "    <tr>\n",
       "      <th>0</th>\n",
       "      <td>OF</td>\n",
       "      <td>0.359</td>\n",
       "    </tr>\n",
       "    <tr>\n",
       "      <th>1</th>\n",
       "      <td>IF</td>\n",
       "      <td>0.340</td>\n",
       "    </tr>\n",
       "    <tr>\n",
       "      <th>2</th>\n",
       "      <td>IF</td>\n",
       "      <td>0.330</td>\n",
       "    </tr>\n",
       "    <tr>\n",
       "      <th>3</th>\n",
       "      <td>OF</td>\n",
       "      <td>0.341</td>\n",
       "    </tr>\n",
       "    <tr>\n",
       "      <th>4</th>\n",
       "      <td>IF</td>\n",
       "      <td>0.366</td>\n",
       "    </tr>\n",
       "  </tbody>\n",
       "</table>\n",
       "</div>"
      ],
      "text/plain": [
       "  posicion  bateo\n",
       "0       OF  0.359\n",
       "1       IF  0.340\n",
       "2       IF  0.330\n",
       "3       OF  0.341\n",
       "4       IF  0.366"
      ]
     },
     "execution_count": 29,
     "metadata": {},
     "output_type": "execute_result"
    }
   ],
   "source": [
    "df = pd.read_excel(\"datasets/datosbaseball.xlsx\")\n",
    "df.head()"
   ]
  },
  {
   "cell_type": "code",
   "execution_count": 30,
   "id": "ac40d667",
   "metadata": {},
   "outputs": [
    {
     "data": {
      "text/html": [
       "<div>\n",
       "<style scoped>\n",
       "    .dataframe tbody tr th:only-of-type {\n",
       "        vertical-align: middle;\n",
       "    }\n",
       "\n",
       "    .dataframe tbody tr th {\n",
       "        vertical-align: top;\n",
       "    }\n",
       "\n",
       "    .dataframe thead th {\n",
       "        text-align: right;\n",
       "    }\n",
       "</style>\n",
       "<table border=\"1\" class=\"dataframe\">\n",
       "  <thead>\n",
       "    <tr style=\"text-align: right;\">\n",
       "      <th></th>\n",
       "      <th>sum_sq</th>\n",
       "      <th>df</th>\n",
       "      <th>F</th>\n",
       "      <th>PR(&gt;F)</th>\n",
       "    </tr>\n",
       "  </thead>\n",
       "  <tbody>\n",
       "    <tr>\n",
       "      <th>Intercept</th>\n",
       "      <td>4.059147</td>\n",
       "      <td>1.0</td>\n",
       "      <td>3213.613404</td>\n",
       "      <td>6.411760e-170</td>\n",
       "    </tr>\n",
       "    <tr>\n",
       "      <th>posicion</th>\n",
       "      <td>0.007557</td>\n",
       "      <td>3.0</td>\n",
       "      <td>1.994349</td>\n",
       "      <td>1.146928e-01</td>\n",
       "    </tr>\n",
       "    <tr>\n",
       "      <th>Residual</th>\n",
       "      <td>0.407984</td>\n",
       "      <td>323.0</td>\n",
       "      <td>NaN</td>\n",
       "      <td>NaN</td>\n",
       "    </tr>\n",
       "  </tbody>\n",
       "</table>\n",
       "</div>"
      ],
      "text/plain": [
       "             sum_sq     df            F         PR(>F)\n",
       "Intercept  4.059147    1.0  3213.613404  6.411760e-170\n",
       "posicion   0.007557    3.0     1.994349   1.146928e-01\n",
       "Residual   0.407984  323.0          NaN            NaN"
      ]
     },
     "execution_count": 30,
     "metadata": {},
     "output_type": "execute_result"
    }
   ],
   "source": [
    "model = ols(\"bateo~posicion\", data=df).fit()\n",
    "anova_table = sm.stats.anova_lm(model, typ=3)\n",
    "anova_table"
   ]
  },
  {
   "cell_type": "code",
   "execution_count": 31,
   "id": "cd003a79",
   "metadata": {},
   "outputs": [
    {
     "data": {
      "text/plain": [
       "'rechazamos'"
      ]
     },
     "execution_count": 31,
     "metadata": {},
     "output_type": "execute_result"
    }
   ],
   "source": [
    "\"\"\"rechazamos\"\"\""
   ]
  },
  {
   "cell_type": "markdown",
   "id": "517a24cf",
   "metadata": {},
   "source": [
    "## ejercicio 2 - ANOBA POR BLOQUES"
   ]
  },
  {
   "cell_type": "code",
   "execution_count": 32,
   "id": "604bbed5",
   "metadata": {},
   "outputs": [
    {
     "data": {
      "text/html": [
       "<div>\n",
       "<style scoped>\n",
       "    .dataframe tbody tr th:only-of-type {\n",
       "        vertical-align: middle;\n",
       "    }\n",
       "\n",
       "    .dataframe tbody tr th {\n",
       "        vertical-align: top;\n",
       "    }\n",
       "\n",
       "    .dataframe thead th {\n",
       "        text-align: right;\n",
       "    }\n",
       "</style>\n",
       "<table border=\"1\" class=\"dataframe\">\n",
       "  <thead>\n",
       "    <tr style=\"text-align: right;\">\n",
       "      <th></th>\n",
       "      <th>producto</th>\n",
       "      <th>tienda</th>\n",
       "      <th>precio</th>\n",
       "    </tr>\n",
       "  </thead>\n",
       "  <tbody>\n",
       "    <tr>\n",
       "      <th>0</th>\n",
       "      <td>lettuce</td>\n",
       "      <td>A</td>\n",
       "      <td>1.755</td>\n",
       "    </tr>\n",
       "    <tr>\n",
       "      <th>1</th>\n",
       "      <td>potatoes</td>\n",
       "      <td>A</td>\n",
       "      <td>2.655</td>\n",
       "    </tr>\n",
       "    <tr>\n",
       "      <th>2</th>\n",
       "      <td>milk</td>\n",
       "      <td>A</td>\n",
       "      <td>2.235</td>\n",
       "    </tr>\n",
       "    <tr>\n",
       "      <th>3</th>\n",
       "      <td>eggs</td>\n",
       "      <td>A</td>\n",
       "      <td>0.975</td>\n",
       "    </tr>\n",
       "    <tr>\n",
       "      <th>4</th>\n",
       "      <td>bread</td>\n",
       "      <td>A</td>\n",
       "      <td>2.370</td>\n",
       "    </tr>\n",
       "  </tbody>\n",
       "</table>\n",
       "</div>"
      ],
      "text/plain": [
       "   producto tienda  precio\n",
       "0   lettuce      A   1.755\n",
       "1  potatoes      A   2.655\n",
       "2      milk      A   2.235\n",
       "3      eggs      A   0.975\n",
       "4     bread      A   2.370"
      ]
     },
     "execution_count": 32,
     "metadata": {},
     "output_type": "execute_result"
    }
   ],
   "source": [
    "df2 = pd.read_excel(\"datasets/datostienda.xlsx\")\n",
    "df2.head()"
   ]
  },
  {
   "cell_type": "code",
   "execution_count": 33,
   "id": "f31ba250",
   "metadata": {},
   "outputs": [
    {
     "data": {
      "text/html": [
       "<div>\n",
       "<style scoped>\n",
       "    .dataframe tbody tr th:only-of-type {\n",
       "        vertical-align: middle;\n",
       "    }\n",
       "\n",
       "    .dataframe tbody tr th {\n",
       "        vertical-align: top;\n",
       "    }\n",
       "\n",
       "    .dataframe thead th {\n",
       "        text-align: right;\n",
       "    }\n",
       "</style>\n",
       "<table border=\"1\" class=\"dataframe\">\n",
       "  <thead>\n",
       "    <tr style=\"text-align: right;\">\n",
       "      <th></th>\n",
       "      <th>sum_sq</th>\n",
       "      <th>df</th>\n",
       "      <th>F</th>\n",
       "      <th>PR(&gt;F)</th>\n",
       "    </tr>\n",
       "  </thead>\n",
       "  <tbody>\n",
       "    <tr>\n",
       "      <th>tienda</th>\n",
       "      <td>5.737207</td>\n",
       "      <td>3.0</td>\n",
       "      <td>13.025212</td>\n",
       "      <td>1.897557e-05</td>\n",
       "    </tr>\n",
       "    <tr>\n",
       "      <th>producto</th>\n",
       "      <td>139.479418</td>\n",
       "      <td>9.0</td>\n",
       "      <td>105.553625</td>\n",
       "      <td>1.102247e-18</td>\n",
       "    </tr>\n",
       "    <tr>\n",
       "      <th>Residual</th>\n",
       "      <td>3.964224</td>\n",
       "      <td>27.0</td>\n",
       "      <td>NaN</td>\n",
       "      <td>NaN</td>\n",
       "    </tr>\n",
       "  </tbody>\n",
       "</table>\n",
       "</div>"
      ],
      "text/plain": [
       "              sum_sq    df           F        PR(>F)\n",
       "tienda      5.737207   3.0   13.025212  1.897557e-05\n",
       "producto  139.479418   9.0  105.553625  1.102247e-18\n",
       "Residual    3.964224  27.0         NaN           NaN"
      ]
     },
     "execution_count": 33,
     "metadata": {},
     "output_type": "execute_result"
    }
   ],
   "source": [
    "model2 = ols(\"precio ~ tienda + producto\", data=df2).fit()\n",
    "anova_table = sm.stats.anova_lm(model2, typ=2)\n",
    "anova_table"
   ]
  },
  {
   "cell_type": "code",
   "execution_count": 34,
   "id": "e7d230ec",
   "metadata": {},
   "outputs": [
    {
     "data": {
      "text/plain": [
       "'rechazamos'"
      ]
     },
     "execution_count": 34,
     "metadata": {},
     "output_type": "execute_result"
    }
   ],
   "source": [
    "\"\"\"rechazamos\"\"\""
   ]
  },
  {
   "cell_type": "markdown",
   "id": "a33809a1",
   "metadata": {},
   "source": [
    "## ejercicio 3 - ANOBA DE DOS VIAS"
   ]
  },
  {
   "cell_type": "code",
   "execution_count": 46,
   "id": "40821d54",
   "metadata": {},
   "outputs": [
    {
     "data": {
      "text/html": [
       "<div>\n",
       "<style scoped>\n",
       "    .dataframe tbody tr th:only-of-type {\n",
       "        vertical-align: middle;\n",
       "    }\n",
       "\n",
       "    .dataframe tbody tr th {\n",
       "        vertical-align: top;\n",
       "    }\n",
       "\n",
       "    .dataframe thead th {\n",
       "        text-align: right;\n",
       "    }\n",
       "</style>\n",
       "<table border=\"1\" class=\"dataframe\">\n",
       "  <thead>\n",
       "    <tr style=\"text-align: right;\">\n",
       "      <th></th>\n",
       "      <th>templado</th>\n",
       "      <th>grosor</th>\n",
       "      <th>resistencia</th>\n",
       "    </tr>\n",
       "  </thead>\n",
       "  <tbody>\n",
       "    <tr>\n",
       "      <th>0</th>\n",
       "      <td>rapido</td>\n",
       "      <td>8</td>\n",
       "      <td>15.29</td>\n",
       "    </tr>\n",
       "    <tr>\n",
       "      <th>1</th>\n",
       "      <td>rapido</td>\n",
       "      <td>8</td>\n",
       "      <td>15.89</td>\n",
       "    </tr>\n",
       "    <tr>\n",
       "      <th>2</th>\n",
       "      <td>rapido</td>\n",
       "      <td>8</td>\n",
       "      <td>16.02</td>\n",
       "    </tr>\n",
       "    <tr>\n",
       "      <th>3</th>\n",
       "      <td>rapido</td>\n",
       "      <td>8</td>\n",
       "      <td>16.56</td>\n",
       "    </tr>\n",
       "    <tr>\n",
       "      <th>4</th>\n",
       "      <td>rapido</td>\n",
       "      <td>8</td>\n",
       "      <td>15.46</td>\n",
       "    </tr>\n",
       "  </tbody>\n",
       "</table>\n",
       "</div>"
      ],
      "text/plain": [
       "  templado  grosor  resistencia\n",
       "0   rapido       8        15.29\n",
       "1   rapido       8        15.89\n",
       "2   rapido       8        16.02\n",
       "3   rapido       8        16.56\n",
       "4   rapido       8        15.46"
      ]
     },
     "execution_count": 46,
     "metadata": {},
     "output_type": "execute_result"
    }
   ],
   "source": [
    "df3 = pd.read_excel(\"datasets/datosconstruc.xlsx\")\n",
    "df3.head()"
   ]
  },
  {
   "cell_type": "code",
   "execution_count": 47,
   "id": "86efb579",
   "metadata": {},
   "outputs": [
    {
     "name": "stdout",
     "output_type": "stream",
     "text": [
      "<class 'pandas.core.frame.DataFrame'>\n",
      "RangeIndex: 30 entries, 0 to 29\n",
      "Data columns (total 3 columns):\n",
      " #   Column       Non-Null Count  Dtype  \n",
      "---  ------       --------------  -----  \n",
      " 0   templado     30 non-null     object \n",
      " 1   grosor       30 non-null     int64  \n",
      " 2   resistencia  30 non-null     float64\n",
      "dtypes: float64(1), int64(1), object(1)\n",
      "memory usage: 848.0+ bytes\n"
     ]
    }
   ],
   "source": [
    "df3.info()"
   ]
  },
  {
   "cell_type": "code",
   "execution_count": 57,
   "id": "123b7be7",
   "metadata": {},
   "outputs": [],
   "source": [
    "df3[\"grosor\"] = pd.Categorical(df3[\"grosor\"])"
   ]
  },
  {
   "cell_type": "code",
   "execution_count": 58,
   "id": "c4cd1e6b",
   "metadata": {},
   "outputs": [
    {
     "name": "stdout",
     "output_type": "stream",
     "text": [
      "<class 'pandas.core.frame.DataFrame'>\n",
      "RangeIndex: 30 entries, 0 to 29\n",
      "Data columns (total 3 columns):\n",
      " #   Column       Non-Null Count  Dtype   \n",
      "---  ------       --------------  -----   \n",
      " 0   templado     30 non-null     object  \n",
      " 1   grosor       30 non-null     category\n",
      " 2   resistencia  30 non-null     float64 \n",
      "dtypes: category(1), float64(1), object(1)\n",
      "memory usage: 770.0+ bytes\n"
     ]
    }
   ],
   "source": [
    "df3.info()"
   ]
  },
  {
   "cell_type": "code",
   "execution_count": 59,
   "id": "82839506",
   "metadata": {},
   "outputs": [
    {
     "data": {
      "text/html": [
       "<div>\n",
       "<style scoped>\n",
       "    .dataframe tbody tr th:only-of-type {\n",
       "        vertical-align: middle;\n",
       "    }\n",
       "\n",
       "    .dataframe tbody tr th {\n",
       "        vertical-align: top;\n",
       "    }\n",
       "\n",
       "    .dataframe thead th {\n",
       "        text-align: right;\n",
       "    }\n",
       "</style>\n",
       "<table border=\"1\" class=\"dataframe\">\n",
       "  <thead>\n",
       "    <tr style=\"text-align: right;\">\n",
       "      <th></th>\n",
       "      <th>sum_sq</th>\n",
       "      <th>df</th>\n",
       "      <th>F</th>\n",
       "      <th>PR(&gt;F)</th>\n",
       "    </tr>\n",
       "  </thead>\n",
       "  <tbody>\n",
       "    <tr>\n",
       "      <th>templado</th>\n",
       "      <td>112.675320</td>\n",
       "      <td>1.0</td>\n",
       "      <td>380.082037</td>\n",
       "      <td>3.194915e-16</td>\n",
       "    </tr>\n",
       "    <tr>\n",
       "      <th>grosor</th>\n",
       "      <td>10.413167</td>\n",
       "      <td>2.0</td>\n",
       "      <td>17.563108</td>\n",
       "      <td>2.000663e-05</td>\n",
       "    </tr>\n",
       "    <tr>\n",
       "      <th>templado:grosor</th>\n",
       "      <td>1.603500</td>\n",
       "      <td>2.0</td>\n",
       "      <td>2.704503</td>\n",
       "      <td>8.725105e-02</td>\n",
       "    </tr>\n",
       "    <tr>\n",
       "      <th>Residual</th>\n",
       "      <td>7.114800</td>\n",
       "      <td>24.0</td>\n",
       "      <td>NaN</td>\n",
       "      <td>NaN</td>\n",
       "    </tr>\n",
       "  </tbody>\n",
       "</table>\n",
       "</div>"
      ],
      "text/plain": [
       "                     sum_sq    df           F        PR(>F)\n",
       "templado         112.675320   1.0  380.082037  3.194915e-16\n",
       "grosor            10.413167   2.0   17.563108  2.000663e-05\n",
       "templado:grosor    1.603500   2.0    2.704503  8.725105e-02\n",
       "Residual           7.114800  24.0         NaN           NaN"
      ]
     },
     "execution_count": 59,
     "metadata": {},
     "output_type": "execute_result"
    }
   ],
   "source": [
    "model3 = ols(\"resistencia ~ templado*grosor\", data=df3).fit()\n",
    "anova_table = sm.stats.anova_lm(model3, typ=2)\n",
    "anova_table"
   ]
  },
  {
   "cell_type": "markdown",
   "id": "88a195c3",
   "metadata": {},
   "source": [
    "## ejercicio 4 - COMBO"
   ]
  },
  {
   "cell_type": "code",
   "execution_count": 63,
   "id": "7318cf4c",
   "metadata": {},
   "outputs": [
    {
     "data": {
      "text/html": [
       "<div>\n",
       "<style scoped>\n",
       "    .dataframe tbody tr th:only-of-type {\n",
       "        vertical-align: middle;\n",
       "    }\n",
       "\n",
       "    .dataframe tbody tr th {\n",
       "        vertical-align: top;\n",
       "    }\n",
       "\n",
       "    .dataframe thead th {\n",
       "        text-align: right;\n",
       "    }\n",
       "</style>\n",
       "<table border=\"1\" class=\"dataframe\">\n",
       "  <thead>\n",
       "    <tr style=\"text-align: right;\">\n",
       "      <th></th>\n",
       "      <th>Id</th>\n",
       "      <th>MSSubClass</th>\n",
       "      <th>MSZoning</th>\n",
       "      <th>LotFrontage</th>\n",
       "      <th>LotArea</th>\n",
       "      <th>Street</th>\n",
       "      <th>Alley</th>\n",
       "      <th>LotShape</th>\n",
       "      <th>LandContour</th>\n",
       "      <th>Utilities</th>\n",
       "      <th>...</th>\n",
       "      <th>PoolArea</th>\n",
       "      <th>PoolQC</th>\n",
       "      <th>Fence</th>\n",
       "      <th>MiscFeature</th>\n",
       "      <th>MiscVal</th>\n",
       "      <th>MoSold</th>\n",
       "      <th>YrSold</th>\n",
       "      <th>SaleType</th>\n",
       "      <th>SaleCondition</th>\n",
       "      <th>SalePrice</th>\n",
       "    </tr>\n",
       "  </thead>\n",
       "  <tbody>\n",
       "    <tr>\n",
       "      <th>0</th>\n",
       "      <td>1</td>\n",
       "      <td>60</td>\n",
       "      <td>RL</td>\n",
       "      <td>65.0</td>\n",
       "      <td>8450</td>\n",
       "      <td>Pave</td>\n",
       "      <td>NaN</td>\n",
       "      <td>Reg</td>\n",
       "      <td>Lvl</td>\n",
       "      <td>AllPub</td>\n",
       "      <td>...</td>\n",
       "      <td>0</td>\n",
       "      <td>NaN</td>\n",
       "      <td>NaN</td>\n",
       "      <td>NaN</td>\n",
       "      <td>0</td>\n",
       "      <td>2</td>\n",
       "      <td>2008</td>\n",
       "      <td>WD</td>\n",
       "      <td>Normal</td>\n",
       "      <td>208500</td>\n",
       "    </tr>\n",
       "    <tr>\n",
       "      <th>1</th>\n",
       "      <td>2</td>\n",
       "      <td>20</td>\n",
       "      <td>RL</td>\n",
       "      <td>80.0</td>\n",
       "      <td>9600</td>\n",
       "      <td>Pave</td>\n",
       "      <td>NaN</td>\n",
       "      <td>Reg</td>\n",
       "      <td>Lvl</td>\n",
       "      <td>AllPub</td>\n",
       "      <td>...</td>\n",
       "      <td>0</td>\n",
       "      <td>NaN</td>\n",
       "      <td>NaN</td>\n",
       "      <td>NaN</td>\n",
       "      <td>0</td>\n",
       "      <td>5</td>\n",
       "      <td>2007</td>\n",
       "      <td>WD</td>\n",
       "      <td>Normal</td>\n",
       "      <td>181500</td>\n",
       "    </tr>\n",
       "    <tr>\n",
       "      <th>2</th>\n",
       "      <td>3</td>\n",
       "      <td>60</td>\n",
       "      <td>RL</td>\n",
       "      <td>68.0</td>\n",
       "      <td>11250</td>\n",
       "      <td>Pave</td>\n",
       "      <td>NaN</td>\n",
       "      <td>IR1</td>\n",
       "      <td>Lvl</td>\n",
       "      <td>AllPub</td>\n",
       "      <td>...</td>\n",
       "      <td>0</td>\n",
       "      <td>NaN</td>\n",
       "      <td>NaN</td>\n",
       "      <td>NaN</td>\n",
       "      <td>0</td>\n",
       "      <td>9</td>\n",
       "      <td>2008</td>\n",
       "      <td>WD</td>\n",
       "      <td>Normal</td>\n",
       "      <td>223500</td>\n",
       "    </tr>\n",
       "    <tr>\n",
       "      <th>3</th>\n",
       "      <td>4</td>\n",
       "      <td>70</td>\n",
       "      <td>RL</td>\n",
       "      <td>60.0</td>\n",
       "      <td>9550</td>\n",
       "      <td>Pave</td>\n",
       "      <td>NaN</td>\n",
       "      <td>IR1</td>\n",
       "      <td>Lvl</td>\n",
       "      <td>AllPub</td>\n",
       "      <td>...</td>\n",
       "      <td>0</td>\n",
       "      <td>NaN</td>\n",
       "      <td>NaN</td>\n",
       "      <td>NaN</td>\n",
       "      <td>0</td>\n",
       "      <td>2</td>\n",
       "      <td>2006</td>\n",
       "      <td>WD</td>\n",
       "      <td>Abnorml</td>\n",
       "      <td>140000</td>\n",
       "    </tr>\n",
       "    <tr>\n",
       "      <th>4</th>\n",
       "      <td>5</td>\n",
       "      <td>60</td>\n",
       "      <td>RL</td>\n",
       "      <td>84.0</td>\n",
       "      <td>14260</td>\n",
       "      <td>Pave</td>\n",
       "      <td>NaN</td>\n",
       "      <td>IR1</td>\n",
       "      <td>Lvl</td>\n",
       "      <td>AllPub</td>\n",
       "      <td>...</td>\n",
       "      <td>0</td>\n",
       "      <td>NaN</td>\n",
       "      <td>NaN</td>\n",
       "      <td>NaN</td>\n",
       "      <td>0</td>\n",
       "      <td>12</td>\n",
       "      <td>2008</td>\n",
       "      <td>WD</td>\n",
       "      <td>Normal</td>\n",
       "      <td>250000</td>\n",
       "    </tr>\n",
       "  </tbody>\n",
       "</table>\n",
       "<p>5 rows × 81 columns</p>\n",
       "</div>"
      ],
      "text/plain": [
       "   Id  MSSubClass MSZoning  LotFrontage  LotArea Street Alley LotShape  \\\n",
       "0   1          60       RL         65.0     8450   Pave   NaN      Reg   \n",
       "1   2          20       RL         80.0     9600   Pave   NaN      Reg   \n",
       "2   3          60       RL         68.0    11250   Pave   NaN      IR1   \n",
       "3   4          70       RL         60.0     9550   Pave   NaN      IR1   \n",
       "4   5          60       RL         84.0    14260   Pave   NaN      IR1   \n",
       "\n",
       "  LandContour Utilities  ... PoolArea PoolQC Fence MiscFeature MiscVal MoSold  \\\n",
       "0         Lvl    AllPub  ...        0    NaN   NaN         NaN       0      2   \n",
       "1         Lvl    AllPub  ...        0    NaN   NaN         NaN       0      5   \n",
       "2         Lvl    AllPub  ...        0    NaN   NaN         NaN       0      9   \n",
       "3         Lvl    AllPub  ...        0    NaN   NaN         NaN       0      2   \n",
       "4         Lvl    AllPub  ...        0    NaN   NaN         NaN       0     12   \n",
       "\n",
       "  YrSold  SaleType  SaleCondition  SalePrice  \n",
       "0   2008        WD         Normal     208500  \n",
       "1   2007        WD         Normal     181500  \n",
       "2   2008        WD         Normal     223500  \n",
       "3   2006        WD        Abnorml     140000  \n",
       "4   2008        WD         Normal     250000  \n",
       "\n",
       "[5 rows x 81 columns]"
      ]
     },
     "execution_count": 63,
     "metadata": {},
     "output_type": "execute_result"
    }
   ],
   "source": [
    "df4 = pd.read_csv(\"datasets/house_prices.csv\")\n",
    "df4.head()"
   ]
  },
  {
   "cell_type": "markdown",
   "id": "570e168d",
   "metadata": {},
   "source": [
    "factor = MSZoning\n",
    "\n",
    "variable de medicion = SalePrice\n",
    "\n",
    "#### ¿La clasificación de la zona (MSZoning) tiene efecto sobre el precio de venta? --> ANOBA DE 1 VIA"
   ]
  },
  {
   "cell_type": "code",
   "execution_count": 72,
   "id": "4b47661c",
   "metadata": {},
   "outputs": [
    {
     "data": {
      "text/html": [
       "<div>\n",
       "<style scoped>\n",
       "    .dataframe tbody tr th:only-of-type {\n",
       "        vertical-align: middle;\n",
       "    }\n",
       "\n",
       "    .dataframe tbody tr th {\n",
       "        vertical-align: top;\n",
       "    }\n",
       "\n",
       "    .dataframe thead th {\n",
       "        text-align: right;\n",
       "    }\n",
       "</style>\n",
       "<table border=\"1\" class=\"dataframe\">\n",
       "  <thead>\n",
       "    <tr style=\"text-align: right;\">\n",
       "      <th></th>\n",
       "      <th>sum_sq</th>\n",
       "      <th>df</th>\n",
       "      <th>F</th>\n",
       "      <th>PR(&gt;F)</th>\n",
       "    </tr>\n",
       "  </thead>\n",
       "  <tbody>\n",
       "    <tr>\n",
       "      <th>Intercept</th>\n",
       "      <td>5.554423e+10</td>\n",
       "      <td>1.0</td>\n",
       "      <td>9.834711</td>\n",
       "      <td>1.746774e-03</td>\n",
       "    </tr>\n",
       "    <tr>\n",
       "      <th>MSZoning</th>\n",
       "      <td>9.904000e+11</td>\n",
       "      <td>4.0</td>\n",
       "      <td>43.840282</td>\n",
       "      <td>8.817634e-35</td>\n",
       "    </tr>\n",
       "    <tr>\n",
       "      <th>Residual</th>\n",
       "      <td>8.217511e+12</td>\n",
       "      <td>1455.0</td>\n",
       "      <td>NaN</td>\n",
       "      <td>NaN</td>\n",
       "    </tr>\n",
       "  </tbody>\n",
       "</table>\n",
       "</div>"
      ],
      "text/plain": [
       "                 sum_sq      df          F        PR(>F)\n",
       "Intercept  5.554423e+10     1.0   9.834711  1.746774e-03\n",
       "MSZoning   9.904000e+11     4.0  43.840282  8.817634e-35\n",
       "Residual   8.217511e+12  1455.0        NaN           NaN"
      ]
     },
     "execution_count": 72,
     "metadata": {},
     "output_type": "execute_result"
    }
   ],
   "source": [
    "model4 = ols(\"SalePrice~MSZoning\", data=df4).fit()\n",
    "anova_table = sm.stats.anova_lm(model4, typ=3)\n",
    "anova_table"
   ]
  },
  {
   "cell_type": "code",
   "execution_count": 73,
   "id": "000038c0",
   "metadata": {},
   "outputs": [
    {
     "data": {
      "text/plain": [
       "'RECHAZAMOS'"
      ]
     },
     "execution_count": 73,
     "metadata": {},
     "output_type": "execute_result"
    }
   ],
   "source": [
    "\"\"\"RECHAZAMOS\"\"\""
   ]
  },
  {
   "cell_type": "markdown",
   "id": "24b2f872",
   "metadata": {},
   "source": [
    "####  ¿Cuál es la zona con el precio media de venta más alto?¿Y el más bajo? --> POSTHOC TEST"
   ]
  },
  {
   "cell_type": "code",
   "execution_count": 77,
   "id": "6a76768d",
   "metadata": {},
   "outputs": [],
   "source": [
    "α = 0.05"
   ]
  },
  {
   "cell_type": "code",
   "execution_count": 81,
   "id": "1f74ac6a",
   "metadata": {},
   "outputs": [],
   "source": [
    "tukey = pairwise_tukeyhsd(endog=df4[\"SalePrice\"], groups=df4[\"MSZoning\"], alpha=α)"
   ]
  },
  {
   "cell_type": "code",
   "execution_count": 120,
   "id": "7d1e0e65",
   "metadata": {},
   "outputs": [
    {
     "data": {
      "text/html": [
       "<table class=\"simpletable\">\n",
       "<caption>Multiple Comparison of Means - Tukey HSD, FWER=0.05</caption>\n",
       "<tr>\n",
       "  <th>group1</th>  <th>group2</th>  <th>meandiff</th>    <th>p-adj</th>     <th>lower</th>       <th>upper</th>    <th>reject</th>\n",
       "</tr>\n",
       "<tr>\n",
       "  <td>C (all)</td>   <td>FV</td>   <td>139486.0615</td>   <td>0.0</td>   <td>69764.6598</td>  <td>209207.4633</td>  <td>True</td> \n",
       "</tr>\n",
       "<tr>\n",
       "  <td>C (all)</td>   <td>RH</td>    <td>57030.375</td>  <td>0.3272</td>  <td>-25710.258</td>  <td>139771.008</td>   <td>False</td>\n",
       "</tr>\n",
       "<tr>\n",
       "  <td>C (all)</td>   <td>RL</td>   <td>116476.9948</td>   <td>0.0</td>   <td>51288.5523</td>  <td>181665.4372</td>  <td>True</td> \n",
       "</tr>\n",
       "<tr>\n",
       "  <td>C (all)</td>   <td>RM</td>   <td>51788.8303</td>  <td>0.2075</td>  <td>-14590.2657</td> <td>118167.9262</td>  <td>False</td>\n",
       "</tr>\n",
       "<tr>\n",
       "    <td>FV</td>      <td>RH</td>   <td>-82455.6865</td> <td>0.0008</td> <td>-139737.6632</td> <td>-25173.7098</td>  <td>True</td> \n",
       "</tr>\n",
       "<tr>\n",
       "    <td>FV</td>      <td>RL</td>   <td>-23009.0668</td> <td>0.1154</td>  <td>-49176.7096</td>  <td>3158.5761</td>   <td>False</td>\n",
       "</tr>\n",
       "<tr>\n",
       "    <td>FV</td>      <td>RM</td>   <td>-87697.2313</td>  <td>-0.0</td>  <td>-116704.0733</td> <td>-58690.3893</td>  <td>True</td> \n",
       "</tr>\n",
       "<tr>\n",
       "    <td>RH</td>      <td>RL</td>   <td>59446.6198</td>  <td>0.0147</td>   <td>7777.6346</td>  <td>111115.6049</td>  <td>True</td> \n",
       "</tr>\n",
       "<tr>\n",
       "    <td>RH</td>      <td>RM</td>   <td>-5241.5447</td>  <td>0.9988</td>  <td>-58404.8345</td>  <td>47921.745</td>   <td>False</td>\n",
       "</tr>\n",
       "<tr>\n",
       "    <td>RL</td>      <td>RM</td>   <td>-64688.1645</td>  <td>-0.0</td>   <td>-79849.1688</td> <td>-49527.1602</td>  <td>True</td> \n",
       "</tr>\n",
       "</table>"
      ],
      "text/plain": [
       "<class 'statsmodels.iolib.table.SimpleTable'>"
      ]
     },
     "execution_count": 120,
     "metadata": {},
     "output_type": "execute_result"
    }
   ],
   "source": [
    "tukey.summary()"
   ]
  },
  {
   "cell_type": "code",
   "execution_count": 142,
   "id": "85d9d1d6",
   "metadata": {},
   "outputs": [
    {
     "data": {
      "text/html": [
       "<div>\n",
       "<style scoped>\n",
       "    .dataframe tbody tr th:only-of-type {\n",
       "        vertical-align: middle;\n",
       "    }\n",
       "\n",
       "    .dataframe tbody tr th {\n",
       "        vertical-align: top;\n",
       "    }\n",
       "\n",
       "    .dataframe thead th {\n",
       "        text-align: right;\n",
       "    }\n",
       "</style>\n",
       "<table border=\"1\" class=\"dataframe\">\n",
       "  <thead>\n",
       "    <tr style=\"text-align: right;\">\n",
       "      <th></th>\n",
       "      <th>group1</th>\n",
       "      <th>group2</th>\n",
       "      <th>meandiff</th>\n",
       "      <th>p-adj</th>\n",
       "      <th>lower</th>\n",
       "      <th>upper</th>\n",
       "      <th>reject</th>\n",
       "    </tr>\n",
       "  </thead>\n",
       "  <tbody>\n",
       "    <tr>\n",
       "      <th>0</th>\n",
       "      <td>C (all)</td>\n",
       "      <td>FV</td>\n",
       "      <td>139486.0615</td>\n",
       "      <td>0.0000</td>\n",
       "      <td>69764.6598</td>\n",
       "      <td>209207.4633</td>\n",
       "      <td>True</td>\n",
       "    </tr>\n",
       "    <tr>\n",
       "      <th>1</th>\n",
       "      <td>C (all)</td>\n",
       "      <td>RH</td>\n",
       "      <td>57030.3750</td>\n",
       "      <td>0.3272</td>\n",
       "      <td>-25710.2580</td>\n",
       "      <td>139771.0080</td>\n",
       "      <td>False</td>\n",
       "    </tr>\n",
       "    <tr>\n",
       "      <th>2</th>\n",
       "      <td>C (all)</td>\n",
       "      <td>RL</td>\n",
       "      <td>116476.9948</td>\n",
       "      <td>0.0000</td>\n",
       "      <td>51288.5523</td>\n",
       "      <td>181665.4372</td>\n",
       "      <td>True</td>\n",
       "    </tr>\n",
       "    <tr>\n",
       "      <th>3</th>\n",
       "      <td>C (all)</td>\n",
       "      <td>RM</td>\n",
       "      <td>51788.8303</td>\n",
       "      <td>0.2075</td>\n",
       "      <td>-14590.2657</td>\n",
       "      <td>118167.9262</td>\n",
       "      <td>False</td>\n",
       "    </tr>\n",
       "    <tr>\n",
       "      <th>4</th>\n",
       "      <td>FV</td>\n",
       "      <td>RH</td>\n",
       "      <td>-82455.6865</td>\n",
       "      <td>0.0008</td>\n",
       "      <td>-139737.6632</td>\n",
       "      <td>-25173.7098</td>\n",
       "      <td>True</td>\n",
       "    </tr>\n",
       "    <tr>\n",
       "      <th>5</th>\n",
       "      <td>FV</td>\n",
       "      <td>RL</td>\n",
       "      <td>-23009.0668</td>\n",
       "      <td>0.1154</td>\n",
       "      <td>-49176.7096</td>\n",
       "      <td>3158.5761</td>\n",
       "      <td>False</td>\n",
       "    </tr>\n",
       "    <tr>\n",
       "      <th>6</th>\n",
       "      <td>FV</td>\n",
       "      <td>RM</td>\n",
       "      <td>-87697.2313</td>\n",
       "      <td>-0.0000</td>\n",
       "      <td>-116704.0733</td>\n",
       "      <td>-58690.3893</td>\n",
       "      <td>True</td>\n",
       "    </tr>\n",
       "    <tr>\n",
       "      <th>7</th>\n",
       "      <td>RH</td>\n",
       "      <td>RL</td>\n",
       "      <td>59446.6198</td>\n",
       "      <td>0.0147</td>\n",
       "      <td>7777.6346</td>\n",
       "      <td>111115.6049</td>\n",
       "      <td>True</td>\n",
       "    </tr>\n",
       "    <tr>\n",
       "      <th>8</th>\n",
       "      <td>RH</td>\n",
       "      <td>RM</td>\n",
       "      <td>-5241.5447</td>\n",
       "      <td>0.9988</td>\n",
       "      <td>-58404.8345</td>\n",
       "      <td>47921.7450</td>\n",
       "      <td>False</td>\n",
       "    </tr>\n",
       "    <tr>\n",
       "      <th>9</th>\n",
       "      <td>RL</td>\n",
       "      <td>RM</td>\n",
       "      <td>-64688.1645</td>\n",
       "      <td>-0.0000</td>\n",
       "      <td>-79849.1688</td>\n",
       "      <td>-49527.1602</td>\n",
       "      <td>True</td>\n",
       "    </tr>\n",
       "  </tbody>\n",
       "</table>\n",
       "</div>"
      ],
      "text/plain": [
       "    group1 group2     meandiff   p-adj        lower        upper  reject\n",
       "0  C (all)     FV  139486.0615  0.0000   69764.6598  209207.4633    True\n",
       "1  C (all)     RH   57030.3750  0.3272  -25710.2580  139771.0080   False\n",
       "2  C (all)     RL  116476.9948  0.0000   51288.5523  181665.4372    True\n",
       "3  C (all)     RM   51788.8303  0.2075  -14590.2657  118167.9262   False\n",
       "4       FV     RH  -82455.6865  0.0008 -139737.6632  -25173.7098    True\n",
       "5       FV     RL  -23009.0668  0.1154  -49176.7096    3158.5761   False\n",
       "6       FV     RM  -87697.2313 -0.0000 -116704.0733  -58690.3893    True\n",
       "7       RH     RL   59446.6198  0.0147    7777.6346  111115.6049    True\n",
       "8       RH     RM   -5241.5447  0.9988  -58404.8345   47921.7450   False\n",
       "9       RL     RM  -64688.1645 -0.0000  -79849.1688  -49527.1602    True"
      ]
     },
     "execution_count": 142,
     "metadata": {},
     "output_type": "execute_result"
    }
   ],
   "source": [
    "test = pd.DataFrame(tukey.summary().data[1:], columns=tukey.summary().data[0])\n",
    "test"
   ]
  },
  {
   "cell_type": "code",
   "execution_count": 85,
   "id": "a170c473",
   "metadata": {},
   "outputs": [],
   "source": [
    "import matplotlib.pyplot as plt"
   ]
  },
  {
   "cell_type": "code",
   "execution_count": 89,
   "id": "4ad054ab",
   "metadata": {},
   "outputs": [
    {
     "data": {
      "image/png": "[encoded data removed]",
      "text/plain": [
       "<Figure size 432x288 with 1 Axes>"
      ]
     },
     "metadata": {
      "needs_background": "light"
     },
     "output_type": "display_data"
    }
   ],
   "source": [
    "rows = tukey.summary().data[1:]\n",
    "plt.hlines( range(len(rows)), [row[4] for row in rows], [row[5] for row in rows] )\n",
    "plt.vlines( 0, -1, len( rows )-1, linestyles='dashed' )\n",
    "plt.gca().set_yticks( range( len( rows ) ) )\n",
    "plt.gca().set_yticklabels( [ f'{x[0]}-{x[1]}' for x in rows ] )\n",
    "plt.show()"
   ]
  },
  {
   "cell_type": "code",
   "execution_count": 151,
   "id": "39a1ef72",
   "metadata": {},
   "outputs": [
    {
     "data": {
      "text/plain": [
       "<AxesSubplot:xlabel='group1'>"
      ]
     },
     "execution_count": 151,
     "metadata": {},
     "output_type": "execute_result"
    },
    {
     "data": {
      "image/png": "[encoded data removed]",
      "text/plain": [
       "<Figure size 936x576 with 1 Axes>"
      ]
     },
     "metadata": {
      "needs_background": "light"
     },
     "output_type": "display_data"
    }
   ],
   "source": [
    "test.plot.line(x='group1', figsize=(13,8))"
   ]
  },
  {
   "cell_type": "code",
   "execution_count": null,
   "id": "84a5b516",
   "metadata": {},
   "outputs": [],
   "source": []
  }
 ],
 "metadata": {
  "kernelspec": {
   "display_name": "Python [conda env:ironhack]",
   "language": "python",
   "name": "conda-env-ironhack-py"
  },
  "language_info": {
   "codemirror_mode": {
    "name": "ipython",
    "version": 3
   },
   "file_extension": ".py",
   "mimetype": "text/x-python",
   "name": "python",
   "nbconvert_exporter": "python",
   "pygments_lexer": "ipython3",
   "version": "3.7.11"
  }
 },
 "nbformat": 4,
 "nbformat_minor": 5
}
