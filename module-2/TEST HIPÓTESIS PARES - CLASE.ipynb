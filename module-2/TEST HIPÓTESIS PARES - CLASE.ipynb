{
 "cells": [
  {
   "cell_type": "code",
   "execution_count": 7,
   "id": "fd247ff9",
   "metadata": {},
   "outputs": [],
   "source": [
    "import pandas as pd\n",
    "import numpy as np\n",
    "from statsmodels.stats.weightstats import ztest as ztest\n",
    "from scipy.stats import ttest_ind\n",
    "from scipy.stats import ttest_rel"
   ]
  },
  {
   "cell_type": "markdown",
   "id": "db7e4b8e",
   "metadata": {},
   "source": [
    "## DEPENDIENTES"
   ]
  },
  {
   "cell_type": "code",
   "execution_count": 8,
   "id": "89397daf",
   "metadata": {},
   "outputs": [
    {
     "data": {
      "text/html": [
       "<div>\n",
       "<style scoped>\n",
       "    .dataframe tbody tr th:only-of-type {\n",
       "        vertical-align: middle;\n",
       "    }\n",
       "\n",
       "    .dataframe tbody tr th {\n",
       "        vertical-align: top;\n",
       "    }\n",
       "\n",
       "    .dataframe thead th {\n",
       "        text-align: right;\n",
       "    }\n",
       "</style>\n",
       "<table border=\"1\" class=\"dataframe\">\n",
       "  <thead>\n",
       "    <tr style=\"text-align: right;\">\n",
       "      <th></th>\n",
       "      <th>before</th>\n",
       "      <th>after</th>\n",
       "    </tr>\n",
       "  </thead>\n",
       "  <tbody>\n",
       "    <tr>\n",
       "      <th>0</th>\n",
       "      <td>136.713072</td>\n",
       "      <td>92.432965</td>\n",
       "    </tr>\n",
       "    <tr>\n",
       "      <th>1</th>\n",
       "      <td>134.735618</td>\n",
       "      <td>105.022643</td>\n",
       "    </tr>\n",
       "    <tr>\n",
       "      <th>2</th>\n",
       "      <td>127.529115</td>\n",
       "      <td>82.242766</td>\n",
       "    </tr>\n",
       "    <tr>\n",
       "      <th>3</th>\n",
       "      <td>144.527126</td>\n",
       "      <td>93.607172</td>\n",
       "    </tr>\n",
       "    <tr>\n",
       "      <th>4</th>\n",
       "      <td>124.214720</td>\n",
       "      <td>103.212223</td>\n",
       "    </tr>\n",
       "  </tbody>\n",
       "</table>\n",
       "</div>"
      ],
      "text/plain": [
       "       before       after\n",
       "0  136.713072   92.432965\n",
       "1  134.735618  105.022643\n",
       "2  127.529115   82.242766\n",
       "3  144.527126   93.607172\n",
       "4  124.214720  103.212223"
      ]
     },
     "execution_count": 8,
     "metadata": {},
     "output_type": "execute_result"
    }
   ],
   "source": [
    "df = pd.read_csv(\"datasets/blood_pressure.csv\")\n",
    "df.head()"
   ]
  },
  {
   "cell_type": "code",
   "execution_count": 10,
   "id": "74a17618",
   "metadata": {},
   "outputs": [
    {
     "data": {
      "text/html": [
       "<div>\n",
       "<style scoped>\n",
       "    .dataframe tbody tr th:only-of-type {\n",
       "        vertical-align: middle;\n",
       "    }\n",
       "\n",
       "    .dataframe tbody tr th {\n",
       "        vertical-align: top;\n",
       "    }\n",
       "\n",
       "    .dataframe thead th {\n",
       "        text-align: right;\n",
       "    }\n",
       "</style>\n",
       "<table border=\"1\" class=\"dataframe\">\n",
       "  <thead>\n",
       "    <tr style=\"text-align: right;\">\n",
       "      <th></th>\n",
       "      <th>before</th>\n",
       "      <th>after</th>\n",
       "      <th>dif</th>\n",
       "    </tr>\n",
       "  </thead>\n",
       "  <tbody>\n",
       "    <tr>\n",
       "      <th>0</th>\n",
       "      <td>136.713072</td>\n",
       "      <td>92.432965</td>\n",
       "      <td>44.280107</td>\n",
       "    </tr>\n",
       "    <tr>\n",
       "      <th>1</th>\n",
       "      <td>134.735618</td>\n",
       "      <td>105.022643</td>\n",
       "      <td>29.712975</td>\n",
       "    </tr>\n",
       "    <tr>\n",
       "      <th>2</th>\n",
       "      <td>127.529115</td>\n",
       "      <td>82.242766</td>\n",
       "      <td>45.286349</td>\n",
       "    </tr>\n",
       "    <tr>\n",
       "      <th>3</th>\n",
       "      <td>144.527126</td>\n",
       "      <td>93.607172</td>\n",
       "      <td>50.919953</td>\n",
       "    </tr>\n",
       "    <tr>\n",
       "      <th>4</th>\n",
       "      <td>124.214720</td>\n",
       "      <td>103.212223</td>\n",
       "      <td>21.002497</td>\n",
       "    </tr>\n",
       "  </tbody>\n",
       "</table>\n",
       "</div>"
      ],
      "text/plain": [
       "       before       after        dif\n",
       "0  136.713072   92.432965  44.280107\n",
       "1  134.735618  105.022643  29.712975\n",
       "2  127.529115   82.242766  45.286349\n",
       "3  144.527126   93.607172  50.919953\n",
       "4  124.214720  103.212223  21.002497"
      ]
     },
     "execution_count": 10,
     "metadata": {},
     "output_type": "execute_result"
    }
   ],
   "source": [
    "df[\"dif\"]  = df[\"before\"]-df[\"after\"]\n",
    "df.head()"
   ]
  },
  {
   "cell_type": "code",
   "execution_count": 17,
   "id": "5b36e514",
   "metadata": {},
   "outputs": [
    {
     "data": {
      "text/plain": [
       "5.301153610177836e-164"
      ]
     },
     "execution_count": 17,
     "metadata": {},
     "output_type": "execute_result"
    }
   ],
   "source": [
    "z, pvalue = ztest(x1=df[\"dif\"], value=0, alternative='two-sided')\n",
    "pvalue"
   ]
  },
  {
   "cell_type": "code",
   "execution_count": 16,
   "id": "19f4acee",
   "metadata": {},
   "outputs": [],
   "source": [
    "alfa = 0.1"
   ]
  },
  {
   "cell_type": "code",
   "execution_count": 18,
   "id": "920e35e4",
   "metadata": {},
   "outputs": [
    {
     "name": "stdout",
     "output_type": "stream",
     "text": [
      "We reject the hypothesis because P value is less than alfa\n"
     ]
    }
   ],
   "source": [
    "if pvalue < alfa:\n",
    "    print(\"We reject the hypothesis because P value is less than alfa\")\n",
    "else:\n",
    "    print(\"We accept the hypothesis because P value is greater than alfa\")"
   ]
  },
  {
   "cell_type": "code",
   "execution_count": 19,
   "id": "695896ad",
   "metadata": {},
   "outputs": [
    {
     "data": {
      "text/plain": [
       "2.650576805088918e-164"
      ]
     },
     "execution_count": 19,
     "metadata": {},
     "output_type": "execute_result"
    }
   ],
   "source": [
    "z2, pvalue2 = ztest(x1=df[\"dif\"], value=0, alternative='larger')\n",
    "pvalue2"
   ]
  },
  {
   "cell_type": "code",
   "execution_count": 20,
   "id": "ae75eaf5",
   "metadata": {},
   "outputs": [
    {
     "name": "stdout",
     "output_type": "stream",
     "text": [
      "We reject the hypothesis because P value is less than alfa\n"
     ]
    }
   ],
   "source": [
    "if pvalue2 < alfa:\n",
    "    print(\"We reject the hypothesis because P value is less than alfa\")\n",
    "else:\n",
    "    print(\"We accept the hypothesis because P value is greater than alfa\")"
   ]
  },
  {
   "cell_type": "code",
   "execution_count": 21,
   "id": "829d6fba",
   "metadata": {},
   "outputs": [
    {
     "data": {
      "text/plain": [
       "'Como rechazamos la H0 sabríamos que la diferencia de presión arterial es diferente entre ambos grupos. Si repetimos el test pero con “alternative=larger”nos sigue dando que rechazamos la H0, y que la diferencia es mayor que cero, por lo tanto el medicamento SI bajaría la presión arterial'"
      ]
     },
     "execution_count": 21,
     "metadata": {},
     "output_type": "execute_result"
    }
   ],
   "source": [
    "\"\"\"Como rechazamos la H0 sabríamos que la diferencia de presión arterial es diferente entre ambos grupos. Si repetimos el test pero con “alternative=larger”nos sigue dando que rechazamos la H0, y que la diferencia es mayor que cero, por lo tanto el medicamento SI bajaría la presión arterial\"\"\""
   ]
  },
  {
   "cell_type": "markdown",
   "id": "4c1291a8",
   "metadata": {},
   "source": [
    "## INDEPENDIENTES"
   ]
  },
  {
   "cell_type": "code",
   "execution_count": 25,
   "id": "e181869a",
   "metadata": {},
   "outputs": [
    {
     "data": {
      "text/html": [
       "<div>\n",
       "<style scoped>\n",
       "    .dataframe tbody tr th:only-of-type {\n",
       "        vertical-align: middle;\n",
       "    }\n",
       "\n",
       "    .dataframe tbody tr th {\n",
       "        vertical-align: top;\n",
       "    }\n",
       "\n",
       "    .dataframe thead th {\n",
       "        text-align: right;\n",
       "    }\n",
       "</style>\n",
       "<table border=\"1\" class=\"dataframe\">\n",
       "  <thead>\n",
       "    <tr style=\"text-align: right;\">\n",
       "      <th></th>\n",
       "      <th>a</th>\n",
       "      <th>b</th>\n",
       "    </tr>\n",
       "  </thead>\n",
       "  <tbody>\n",
       "    <tr>\n",
       "      <th>0</th>\n",
       "      <td>0.27</td>\n",
       "      <td>13.61</td>\n",
       "    </tr>\n",
       "    <tr>\n",
       "      <th>1</th>\n",
       "      <td>6.08</td>\n",
       "      <td>21.53</td>\n",
       "    </tr>\n",
       "    <tr>\n",
       "      <th>2</th>\n",
       "      <td>13.74</td>\n",
       "      <td>9.23</td>\n",
       "    </tr>\n",
       "    <tr>\n",
       "      <th>3</th>\n",
       "      <td>9.70</td>\n",
       "      <td>5.36</td>\n",
       "    </tr>\n",
       "    <tr>\n",
       "      <th>4</th>\n",
       "      <td>7.00</td>\n",
       "      <td>12.90</td>\n",
       "    </tr>\n",
       "  </tbody>\n",
       "</table>\n",
       "</div>"
      ],
      "text/plain": [
       "       a      b\n",
       "0   0.27  13.61\n",
       "1   6.08  21.53\n",
       "2  13.74   9.23\n",
       "3   9.70   5.36\n",
       "4   7.00  12.90"
      ]
     },
     "execution_count": 25,
     "metadata": {},
     "output_type": "execute_result"
    }
   ],
   "source": [
    "df2 = pd.read_csv(\"datasets/ab_test.csv\")\n",
    "df2.head()"
   ]
  },
  {
   "cell_type": "code",
   "execution_count": 27,
   "id": "8f0611bb",
   "metadata": {},
   "outputs": [
    {
     "data": {
      "text/plain": [
       "0.008351145504323936"
      ]
     },
     "execution_count": 27,
     "metadata": {},
     "output_type": "execute_result"
    }
   ],
   "source": [
    "z3, pvalue3 = ztest(x1=df2[\"a\"],x2=df2[\"b\"], value=0, alternative='two-sided')\n",
    "pvalue3"
   ]
  },
  {
   "cell_type": "code",
   "execution_count": 28,
   "id": "801de2ce",
   "metadata": {},
   "outputs": [
    {
     "name": "stdout",
     "output_type": "stream",
     "text": [
      "We reject the hypothesis because P value is less than alfa\n"
     ]
    }
   ],
   "source": [
    "if pvalue3 < alfa:\n",
    "    print(\"We reject the hypothesis because P value is less than alfa\")\n",
    "else:\n",
    "    print(\"We accept the hypothesis because P value is greater than alfa\")"
   ]
  },
  {
   "cell_type": "code",
   "execution_count": 30,
   "id": "27c27f45",
   "metadata": {},
   "outputs": [
    {
     "data": {
      "text/plain": [
       "0.995824427247838"
      ]
     },
     "execution_count": 30,
     "metadata": {},
     "output_type": "execute_result"
    }
   ],
   "source": [
    "z4, pvalue4 = ztest(x1=df2[\"a\"],x2=df2[\"b\"], value=0, alternative='larger')\n",
    "pvalue4"
   ]
  },
  {
   "cell_type": "code",
   "execution_count": 31,
   "id": "60b6f02f",
   "metadata": {},
   "outputs": [
    {
     "name": "stdout",
     "output_type": "stream",
     "text": [
      "We accept the hypothesis because P value is greater than alfa\n"
     ]
    }
   ],
   "source": [
    "if pvalue4 < alfa:\n",
    "    print(\"We reject the hypothesis because P value is less than alfa\")\n",
    "else:\n",
    "    print(\"We accept the hypothesis because P value is greater than alfa\")"
   ]
  },
  {
   "cell_type": "code",
   "execution_count": 34,
   "id": "9b7f69b9",
   "metadata": {},
   "outputs": [
    {
     "data": {
      "text/plain": [
       "0.004175572752161968"
      ]
     },
     "execution_count": 34,
     "metadata": {},
     "output_type": "execute_result"
    }
   ],
   "source": [
    "z5, pvalue5 = ztest(x1=df2[\"a\"],x2=df2[\"b\"], value=0, alternative='smaller')\n",
    "pvalue5"
   ]
  },
  {
   "cell_type": "code",
   "execution_count": 35,
   "id": "6cfd7a7d",
   "metadata": {},
   "outputs": [
    {
     "name": "stdout",
     "output_type": "stream",
     "text": [
      "We reject the hypothesis because P value is less than alfa\n"
     ]
    }
   ],
   "source": [
    "if pvalue5 < alfa:\n",
    "    print(\"We reject the hypothesis because P value is less than alfa\")\n",
    "else:\n",
    "    print(\"We accept the hypothesis because P value is greater than alfa\")"
   ]
  },
  {
   "cell_type": "code",
   "execution_count": 37,
   "id": "8c2ead31",
   "metadata": {},
   "outputs": [
    {
     "data": {
      "text/plain": [
       "'es decir que la diferencia es diferente a cero y que es MENOR A CERO y por lo tanto la media de la columna B es MAYOR'"
      ]
     },
     "execution_count": 37,
     "metadata": {},
     "output_type": "execute_result"
    }
   ],
   "source": [
    "\"\"\"es decir que la diferencia es diferente a cero y que es MENOR A CERO y por lo tanto la media de la columna B es MAYOR\"\"\""
   ]
  },
  {
   "cell_type": "code",
   "execution_count": null,
   "id": "ee3fa139",
   "metadata": {},
   "outputs": [],
   "source": []
  }
 ],
 "metadata": {
  "kernelspec": {
   "display_name": "Python [conda env:ironhack]",
   "language": "python",
   "name": "conda-env-ironhack-py"
  },
  "language_info": {
   "codemirror_mode": {
    "name": "ipython",
    "version": 3
   },
   "file_extension": ".py",
   "mimetype": "text/x-python",
   "name": "python",
   "nbconvert_exporter": "python",
   "pygments_lexer": "ipython3",
   "version": "3.7.11"
  }
 },
 "nbformat": 4,
 "nbformat_minor": 5
}
